{
  "nbformat": 4,
  "nbformat_minor": 0,
  "metadata": {
    "colab": {
      "name": "mnsit.ipynb",
      "provenance": [],
      "collapsed_sections": [],
      "authorship_tag": "ABX9TyPsjs96IIAxxGPkslHZZB++",
      "include_colab_link": true
    },
    "kernelspec": {
      "name": "python3",
      "display_name": "Python 3"
    },
    "accelerator": "GPU"
  },
  "cells": [
    {
      "cell_type": "markdown",
      "metadata": {
        "id": "view-in-github",
        "colab_type": "text"
      },
      "source": [
        "<a href=\"https://colab.research.google.com/github/pra11chit/practical_deep_learning/blob/master/mnsit.ipynb\" target=\"_parent\"><img src=\"https://colab.research.google.com/assets/colab-badge.svg\" alt=\"Open In Colab\"/></a>"
      ]
    },
    {
      "cell_type": "code",
      "metadata": {
        "id": "zoIgF0P7RH_E",
        "outputId": "0997bf8d-ffd5-4546-ad1e-68c91bb414bf",
        "colab": {
          "base_uri": "https://localhost:8080/",
          "height": 228
        }
      },
      "source": [
        "#hide\n",
        "!pip3 install -Uqq fastbook\n",
        "import fastbook\n",
        "fastbook.setup_book()"
      ],
      "execution_count": null,
      "outputs": [
        {
          "output_type": "stream",
          "text": [
            "\u001b[K     |████████████████████████████████| 727kB 5.3MB/s \n",
            "\u001b[K     |████████████████████████████████| 51kB 8.4MB/s \n",
            "\u001b[K     |████████████████████████████████| 1.0MB 25.7MB/s \n",
            "\u001b[K     |████████████████████████████████| 194kB 21.0MB/s \n",
            "\u001b[K     |████████████████████████████████| 51kB 8.9MB/s \n",
            "\u001b[K     |████████████████████████████████| 51kB 8.6MB/s \n",
            "\u001b[K     |████████████████████████████████| 92kB 13.9MB/s \n",
            "\u001b[K     |████████████████████████████████| 40kB 7.7MB/s \n",
            "\u001b[K     |████████████████████████████████| 51kB 8.9MB/s \n",
            "\u001b[K     |████████████████████████████████| 61kB 8.2MB/s \n",
            "\u001b[K     |████████████████████████████████| 2.6MB 40.7MB/s \n",
            "\u001b[?25hMounted at /content/gdrive\n"
          ],
          "name": "stdout"
        }
      ]
    },
    {
      "cell_type": "code",
      "metadata": {
        "id": "QeNyjK3xRJwu"
      },
      "source": [
        "#hide\n",
        "from fastbook import *\n",
        "from fastai.vision.widgets import *"
      ],
      "execution_count": null,
      "outputs": []
    },
    {
      "cell_type": "code",
      "metadata": {
        "id": "rOdV9pskRNUV",
        "outputId": "638eb707-cf84-44ea-8c36-d8d0cde7fefe",
        "colab": {
          "base_uri": "https://localhost:8080/",
          "height": 17
        }
      },
      "source": [
        "path = untar_data(URLs.MNIST_SAMPLE)"
      ],
      "execution_count": null,
      "outputs": [
        {
          "output_type": "display_data",
          "data": {
            "text/html": [
              ""
            ],
            "text/plain": [
              "<IPython.core.display.HTML object>"
            ]
          },
          "metadata": {
            "tags": []
          }
        }
      ]
    },
    {
      "cell_type": "code",
      "metadata": {
        "id": "sC92wpXDRf-6",
        "outputId": "4cc2feac-07a2-4aa1-86ad-1e75bb506f5d",
        "colab": {
          "base_uri": "https://localhost:8080/",
          "height": 34
        }
      },
      "source": [
        "path.ls()"
      ],
      "execution_count": null,
      "outputs": [
        {
          "output_type": "execute_result",
          "data": {
            "text/plain": [
              "(#3) [Path('/root/.fastai/data/mnist_sample/valid'),Path('/root/.fastai/data/mnist_sample/train'),Path('/root/.fastai/data/mnist_sample/labels.csv')]"
            ]
          },
          "metadata": {
            "tags": []
          },
          "execution_count": 4
        }
      ]
    },
    {
      "cell_type": "code",
      "metadata": {
        "id": "-Edf-Rt7SFTr",
        "outputId": "a5cc1055-3cd5-4759-986c-aaab6c175021",
        "colab": {
          "base_uri": "https://localhost:8080/",
          "height": 34
        }
      },
      "source": [
        "(path/'train').ls()"
      ],
      "execution_count": null,
      "outputs": [
        {
          "output_type": "execute_result",
          "data": {
            "text/plain": [
              "(#2) [Path('/root/.fastai/data/mnist_sample/train/7'),Path('/root/.fastai/data/mnist_sample/train/3')]"
            ]
          },
          "metadata": {
            "tags": []
          },
          "execution_count": 5
        }
      ]
    },
    {
      "cell_type": "code",
      "metadata": {
        "id": "PW_TwRYZSaL-",
        "outputId": "8d3967c0-3c3f-47d1-c54d-c62ff0d1fb50",
        "colab": {
          "base_uri": "https://localhost:8080/",
          "height": 54
        }
      },
      "source": [
        "threes = (path/'train'/'3').ls().sorted()\n",
        "sevens = (path/'train'/'7').ls().sorted()\n",
        "threes"
      ],
      "execution_count": null,
      "outputs": [
        {
          "output_type": "execute_result",
          "data": {
            "text/plain": [
              "(#6131) [Path('/root/.fastai/data/mnist_sample/train/3/10.png'),Path('/root/.fastai/data/mnist_sample/train/3/10000.png'),Path('/root/.fastai/data/mnist_sample/train/3/10011.png'),Path('/root/.fastai/data/mnist_sample/train/3/10031.png'),Path('/root/.fastai/data/mnist_sample/train/3/10034.png'),Path('/root/.fastai/data/mnist_sample/train/3/10042.png'),Path('/root/.fastai/data/mnist_sample/train/3/10052.png'),Path('/root/.fastai/data/mnist_sample/train/3/1007.png'),Path('/root/.fastai/data/mnist_sample/train/3/10074.png'),Path('/root/.fastai/data/mnist_sample/train/3/10091.png')...]"
            ]
          },
          "metadata": {
            "tags": []
          },
          "execution_count": 6
        }
      ]
    },
    {
      "cell_type": "code",
      "metadata": {
        "id": "FXzEzsTFS2h1",
        "outputId": "bb1f699b-00f2-4a1e-84b5-0bef09f01167",
        "colab": {
          "base_uri": "https://localhost:8080/",
          "height": 45
        }
      },
      "source": [
        "im3_path = threes[1]\n",
        "im3 = Image.open(im3_path)\n",
        "im3"
      ],
      "execution_count": null,
      "outputs": [
        {
          "output_type": "execute_result",
          "data": {
            "image/png": "[encoded data removed]",
            "text/plain": [
              "<PIL.PngImagePlugin.PngImageFile image mode=L size=28x28 at 0x7FEA6C0634E0>"
            ]
          },
          "metadata": {
            "tags": []
          },
          "execution_count": 7
        }
      ]
    },
    {
      "cell_type": "code",
      "metadata": {
        "id": "96zKJbFoTK2L",
        "outputId": "09b35eaf-d5dc-4823-8a67-7e4f55877207",
        "colab": {
          "base_uri": "https://localhost:8080/",
          "height": 122
        }
      },
      "source": [
        "array(im3)[4:10, 4:10]"
      ],
      "execution_count": null,
      "outputs": [
        {
          "output_type": "execute_result",
          "data": {
            "text/plain": [
              "array([[  0,   0,   0,   0,   0,   0],\n",
              "       [  0,   0,   0,   0,   0,  29],\n",
              "       [  0,   0,   0,  48, 166, 224],\n",
              "       [  0,  93, 244, 249, 253, 187],\n",
              "       [  0, 107, 253, 253, 230,  48],\n",
              "       [  0,   3,  20,  20,  15,   0]], dtype=uint8)"
            ]
          },
          "metadata": {
            "tags": []
          },
          "execution_count": 8
        }
      ]
    },
    {
      "cell_type": "code",
      "metadata": {
        "id": "wqSoLmX3dPhp",
        "outputId": "7a00cc63-1e7a-422a-843b-aac45e1674cd",
        "colab": {
          "base_uri": "https://localhost:8080/",
          "height": 122
        }
      },
      "source": [
        "tensor(im3)[4:10, 4:10]"
      ],
      "execution_count": null,
      "outputs": [
        {
          "output_type": "execute_result",
          "data": {
            "text/plain": [
              "tensor([[  0,   0,   0,   0,   0,   0],\n",
              "        [  0,   0,   0,   0,   0,  29],\n",
              "        [  0,   0,   0,  48, 166, 224],\n",
              "        [  0,  93, 244, 249, 253, 187],\n",
              "        [  0, 107, 253, 253, 230,  48],\n",
              "        [  0,   3,  20,  20,  15,   0]], dtype=torch.uint8)"
            ]
          },
          "metadata": {
            "tags": []
          },
          "execution_count": 9
        }
      ]
    },
    {
      "cell_type": "code",
      "metadata": {
        "id": "wQPipO68dq6X",
        "outputId": "15b66d42-4c5f-4054-bea1-7d62df4e8e1a",
        "colab": {
          "base_uri": "https://localhost:8080/",
          "height": 598
        }
      },
      "source": [
        "im3_t = tensor(im3)\n",
        "df = pd.DataFrame(im3_t[:, :])\n",
        "df.style.background_gradient('Greys')"
      ],
      "execution_count": 49,
      "outputs": [
        {
          "output_type": "execute_result",
          "data": {
            "text/html": [
              "<style  type=\"text/css\" >\n",
              "#T_b9598cde_0c51_11eb_a69e_0242ac1c0002row0_col0,#T_b9598cde_0c51_11eb_a69e_0242ac1c0002row0_col1,#T_b9598cde_0c51_11eb_a69e_0242ac1c0002row0_col2,#T_b9598cde_0c51_11eb_a69e_0242ac1c0002row0_col3,#T_b9598cde_0c51_11eb_a69e_0242ac1c0002row0_col4,#T_b9598cde_0c51_11eb_a69e_0242ac1c0002row0_col5,#T_b9598cde_0c51_11eb_a69e_0242ac1c0002row0_col6,#T_b9598cde_0c51_11eb_a69e_0242ac1c0002row0_col7,#T_b9598cde_0c51_11eb_a69e_0242ac1c0002row0_col8,#T_b9598cde_0c51_11eb_a69e_0242ac1c0002row0_col9,#T_b9598cde_0c51_11eb_a69e_0242ac1c0002row0_col10,#T_b9598cde_0c51_11eb_a69e_0242ac1c0002row0_col11,#T_b9598cde_0c51_11eb_a69e_0242ac1c0002row0_col12,#T_b9598cde_0c51_11eb_a69e_0242ac1c0002row0_col13,#T_b9598cde_0c51_11eb_a69e_0242ac1c0002row0_col14,#T_b9598cde_0c51_11eb_a69e_0242ac1c0002row0_col15,#T_b9598cde_0c51_11eb_a69e_0242ac1c0002row0_col16,#T_b9598cde_0c51_11eb_a69e_0242ac1c0002row0_col17,#T_b9598cde_0c51_11eb_a69e_0242ac1c0002row0_col18,#T_b9598cde_0c51_11eb_a69e_0242ac1c0002row0_col19,#T_b9598cde_0c51_11eb_a69e_0242ac1c0002row0_col20,#T_b9598cde_0c51_11eb_a69e_0242ac1c0002row0_col21,#T_b9598cde_0c51_11eb_a69e_0242ac1c0002row0_col22,#T_b9598cde_0c51_11eb_a69e_0242ac1c0002row0_col23,#T_b9598cde_0c51_11eb_a69e_0242ac1c0002row0_col24,#T_b9598cde_0c51_11eb_a69e_0242ac1c0002row0_col25,#T_b9598cde_0c51_11eb_a69e_0242ac1c0002row0_col26,#T_b9598cde_0c51_11eb_a69e_0242ac1c0002row0_col27,#T_b9598cde_0c51_11eb_a69e_0242ac1c0002row1_col0,#T_b9598cde_0c51_11eb_a69e_0242ac1c0002row1_col1,#T_b9598cde_0c51_11eb_a69e_0242ac1c0002row1_col2,#T_b9598cde_0c51_11eb_a69e_0242ac1c0002row1_col3,#T_b9598cde_0c51_11eb_a69e_0242ac1c0002row1_col4,#T_b9598cde_0c51_11eb_a69e_0242ac1c0002row1_col5,#T_b9598cde_0c51_11eb_a69e_0242ac1c0002row1_col6,#T_b9598cde_0c51_11eb_a69e_0242ac1c0002row1_col7,#T_b9598cde_0c51_11eb_a69e_0242ac1c0002row1_col8,#T_b9598cde_0c51_11eb_a69e_0242ac1c0002row1_col9,#T_b9598cde_0c51_11eb_a69e_0242ac1c0002row1_col10,#T_b9598cde_0c51_11eb_a69e_0242ac1c0002row1_col11,#T_b9598cde_0c51_11eb_a69e_0242ac1c0002row1_col12,#T_b9598cde_0c51_11eb_a69e_0242ac1c0002row1_col13,#T_b9598cde_0c51_11eb_a69e_0242ac1c0002row1_col14,#T_b9598cde_0c51_11eb_a69e_0242ac1c0002row1_col15,#T_b9598cde_0c51_11eb_a69e_0242ac1c0002row1_col16,#T_b9598cde_0c51_11eb_a69e_0242ac1c0002row1_col17,#T_b9598cde_0c51_11eb_a69e_0242ac1c0002row1_col18,#T_b9598cde_0c51_11eb_a69e_0242ac1c0002row1_col19,#T_b9598cde_0c51_11eb_a69e_0242ac1c0002row1_col20,#T_b9598cde_0c51_11eb_a69e_0242ac1c0002row1_col21,#T_b9598cde_0c51_11eb_a69e_0242ac1c0002row1_col22,#T_b9598cde_0c51_11eb_a69e_0242ac1c0002row1_col23,#T_b9598cde_0c51_11eb_a69e_0242ac1c0002row1_col24,#T_b9598cde_0c51_11eb_a69e_0242ac1c0002row1_col25,#T_b9598cde_0c51_11eb_a69e_0242ac1c0002row1_col26,#T_b9598cde_0c51_11eb_a69e_0242ac1c0002row1_col27,#T_b9598cde_0c51_11eb_a69e_0242ac1c0002row2_col0,#T_b9598cde_0c51_11eb_a69e_0242ac1c0002row2_col1,#T_b9598cde_0c51_11eb_a69e_0242ac1c0002row2_col2,#T_b9598cde_0c51_11eb_a69e_0242ac1c0002row2_col3,#T_b9598cde_0c51_11eb_a69e_0242ac1c0002row2_col4,#T_b9598cde_0c51_11eb_a69e_0242ac1c0002row2_col5,#T_b9598cde_0c51_11eb_a69e_0242ac1c0002row2_col6,#T_b9598cde_0c51_11eb_a69e_0242ac1c0002row2_col7,#T_b9598cde_0c51_11eb_a69e_0242ac1c0002row2_col8,#T_b9598cde_0c51_11eb_a69e_0242ac1c0002row2_col9,#T_b9598cde_0c51_11eb_a69e_0242ac1c0002row2_col10,#T_b9598cde_0c51_11eb_a69e_0242ac1c0002row2_col11,#T_b9598cde_0c51_11eb_a69e_0242ac1c0002row2_col12,#T_b9598cde_0c51_11eb_a69e_0242ac1c0002row2_col13,#T_b9598cde_0c51_11eb_a69e_0242ac1c0002row2_col14,#T_b9598cde_0c51_11eb_a69e_0242ac1c0002row2_col15,#T_b9598cde_0c51_11eb_a69e_0242ac1c0002row2_col16,#T_b9598cde_0c51_11eb_a69e_0242ac1c0002row2_col17,#T_b9598cde_0c51_11eb_a69e_0242ac1c0002row2_col18,#T_b9598cde_0c51_11eb_a69e_0242ac1c0002row2_col19,#T_b9598cde_0c51_11eb_a69e_0242ac1c0002row2_col20,#T_b9598cde_0c51_11eb_a69e_0242ac1c0002row2_col21,#T_b9598cde_0c51_11eb_a69e_0242ac1c0002row2_col22,#T_b9598cde_0c51_11eb_a69e_0242ac1c0002row2_col23,#T_b9598cde_0c51_11eb_a69e_0242ac1c0002row2_col24,#T_b9598cde_0c51_11eb_a69e_0242ac1c0002row2_col25,#T_b9598cde_0c51_11eb_a69e_0242ac1c0002row2_col26,#T_b9598cde_0c51_11eb_a69e_0242ac1c0002row2_col27,#T_b9598cde_0c51_11eb_a69e_0242ac1c0002row3_col0,#T_b9598cde_0c51_11eb_a69e_0242ac1c0002row3_col1,#T_b9598cde_0c51_11eb_a69e_0242ac1c0002row3_col2,#T_b9598cde_0c51_11eb_a69e_0242ac1c0002row3_col3,#T_b9598cde_0c51_11eb_a69e_0242ac1c0002row3_col4,#T_b9598cde_0c51_11eb_a69e_0242ac1c0002row3_col5,#T_b9598cde_0c51_11eb_a69e_0242ac1c0002row3_col6,#T_b9598cde_0c51_11eb_a69e_0242ac1c0002row3_col7,#T_b9598cde_0c51_11eb_a69e_0242ac1c0002row3_col8,#T_b9598cde_0c51_11eb_a69e_0242ac1c0002row3_col9,#T_b9598cde_0c51_11eb_a69e_0242ac1c0002row3_col10,#T_b9598cde_0c51_11eb_a69e_0242ac1c0002row3_col11,#T_b9598cde_0c51_11eb_a69e_0242ac1c0002row3_col12,#T_b9598cde_0c51_11eb_a69e_0242ac1c0002row3_col13,#T_b9598cde_0c51_11eb_a69e_0242ac1c0002row3_col14,#T_b9598cde_0c51_11eb_a69e_0242ac1c0002row3_col15,#T_b9598cde_0c51_11eb_a69e_0242ac1c0002row3_col16,#T_b9598cde_0c51_11eb_a69e_0242ac1c0002row3_col17,#T_b9598cde_0c51_11eb_a69e_0242ac1c0002row3_col18,#T_b9598cde_0c51_11eb_a69e_0242ac1c0002row3_col19,#T_b9598cde_0c51_11eb_a69e_0242ac1c0002row3_col20,#T_b9598cde_0c51_11eb_a69e_0242ac1c0002row3_col21,#T_b9598cde_0c51_11eb_a69e_0242ac1c0002row3_col22,#T_b9598cde_0c51_11eb_a69e_0242ac1c0002row3_col23,#T_b9598cde_0c51_11eb_a69e_0242ac1c0002row3_col24,#T_b9598cde_0c51_11eb_a69e_0242ac1c0002row3_col25,#T_b9598cde_0c51_11eb_a69e_0242ac1c0002row3_col26,#T_b9598cde_0c51_11eb_a69e_0242ac1c0002row3_col27,#T_b9598cde_0c51_11eb_a69e_0242ac1c0002row4_col0,#T_b9598cde_0c51_11eb_a69e_0242ac1c0002row4_col1,#T_b9598cde_0c51_11eb_a69e_0242ac1c0002row4_col2,#T_b9598cde_0c51_11eb_a69e_0242ac1c0002row4_col3,#T_b9598cde_0c51_11eb_a69e_0242ac1c0002row4_col4,#T_b9598cde_0c51_11eb_a69e_0242ac1c0002row4_col5,#T_b9598cde_0c51_11eb_a69e_0242ac1c0002row4_col6,#T_b9598cde_0c51_11eb_a69e_0242ac1c0002row4_col7,#T_b9598cde_0c51_11eb_a69e_0242ac1c0002row4_col8,#T_b9598cde_0c51_11eb_a69e_0242ac1c0002row4_col9,#T_b9598cde_0c51_11eb_a69e_0242ac1c0002row4_col10,#T_b9598cde_0c51_11eb_a69e_0242ac1c0002row4_col11,#T_b9598cde_0c51_11eb_a69e_0242ac1c0002row4_col12,#T_b9598cde_0c51_11eb_a69e_0242ac1c0002row4_col13,#T_b9598cde_0c51_11eb_a69e_0242ac1c0002row4_col14,#T_b9598cde_0c51_11eb_a69e_0242ac1c0002row4_col15,#T_b9598cde_0c51_11eb_a69e_0242ac1c0002row4_col16,#T_b9598cde_0c51_11eb_a69e_0242ac1c0002row4_col17,#T_b9598cde_0c51_11eb_a69e_0242ac1c0002row4_col18,#T_b9598cde_0c51_11eb_a69e_0242ac1c0002row4_col19,#T_b9598cde_0c51_11eb_a69e_0242ac1c0002row4_col20,#T_b9598cde_0c51_11eb_a69e_0242ac1c0002row4_col21,#T_b9598cde_0c51_11eb_a69e_0242ac1c0002row4_col22,#T_b9598cde_0c51_11eb_a69e_0242ac1c0002row4_col23,#T_b9598cde_0c51_11eb_a69e_0242ac1c0002row4_col24,#T_b9598cde_0c51_11eb_a69e_0242ac1c0002row4_col25,#T_b9598cde_0c51_11eb_a69e_0242ac1c0002row4_col26,#T_b9598cde_0c51_11eb_a69e_0242ac1c0002row4_col27,#T_b9598cde_0c51_11eb_a69e_0242ac1c0002row5_col0,#T_b9598cde_0c51_11eb_a69e_0242ac1c0002row5_col1,#T_b9598cde_0c51_11eb_a69e_0242ac1c0002row5_col2,#T_b9598cde_0c51_11eb_a69e_0242ac1c0002row5_col3,#T_b9598cde_0c51_11eb_a69e_0242ac1c0002row5_col4,#T_b9598cde_0c51_11eb_a69e_0242ac1c0002row5_col5,#T_b9598cde_0c51_11eb_a69e_0242ac1c0002row5_col6,#T_b9598cde_0c51_11eb_a69e_0242ac1c0002row5_col7,#T_b9598cde_0c51_11eb_a69e_0242ac1c0002row5_col8,#T_b9598cde_0c51_11eb_a69e_0242ac1c0002row5_col19,#T_b9598cde_0c51_11eb_a69e_0242ac1c0002row5_col20,#T_b9598cde_0c51_11eb_a69e_0242ac1c0002row5_col21,#T_b9598cde_0c51_11eb_a69e_0242ac1c0002row5_col22,#T_b9598cde_0c51_11eb_a69e_0242ac1c0002row5_col23,#T_b9598cde_0c51_11eb_a69e_0242ac1c0002row5_col24,#T_b9598cde_0c51_11eb_a69e_0242ac1c0002row5_col25,#T_b9598cde_0c51_11eb_a69e_0242ac1c0002row5_col26,#T_b9598cde_0c51_11eb_a69e_0242ac1c0002row5_col27,#T_b9598cde_0c51_11eb_a69e_0242ac1c0002row6_col0,#T_b9598cde_0c51_11eb_a69e_0242ac1c0002row6_col1,#T_b9598cde_0c51_11eb_a69e_0242ac1c0002row6_col2,#T_b9598cde_0c51_11eb_a69e_0242ac1c0002row6_col3,#T_b9598cde_0c51_11eb_a69e_0242ac1c0002row6_col4,#T_b9598cde_0c51_11eb_a69e_0242ac1c0002row6_col5,#T_b9598cde_0c51_11eb_a69e_0242ac1c0002row6_col6,#T_b9598cde_0c51_11eb_a69e_0242ac1c0002row6_col19,#T_b9598cde_0c51_11eb_a69e_0242ac1c0002row6_col20,#T_b9598cde_0c51_11eb_a69e_0242ac1c0002row6_col21,#T_b9598cde_0c51_11eb_a69e_0242ac1c0002row6_col22,#T_b9598cde_0c51_11eb_a69e_0242ac1c0002row6_col23,#T_b9598cde_0c51_11eb_a69e_0242ac1c0002row6_col24,#T_b9598cde_0c51_11eb_a69e_0242ac1c0002row6_col25,#T_b9598cde_0c51_11eb_a69e_0242ac1c0002row6_col26,#T_b9598cde_0c51_11eb_a69e_0242ac1c0002row6_col27,#T_b9598cde_0c51_11eb_a69e_0242ac1c0002row7_col0,#T_b9598cde_0c51_11eb_a69e_0242ac1c0002row7_col1,#T_b9598cde_0c51_11eb_a69e_0242ac1c0002row7_col2,#T_b9598cde_0c51_11eb_a69e_0242ac1c0002row7_col3,#T_b9598cde_0c51_11eb_a69e_0242ac1c0002row7_col4,#T_b9598cde_0c51_11eb_a69e_0242ac1c0002row7_col19,#T_b9598cde_0c51_11eb_a69e_0242ac1c0002row7_col20,#T_b9598cde_0c51_11eb_a69e_0242ac1c0002row7_col21,#T_b9598cde_0c51_11eb_a69e_0242ac1c0002row7_col22,#T_b9598cde_0c51_11eb_a69e_0242ac1c0002row7_col23,#T_b9598cde_0c51_11eb_a69e_0242ac1c0002row7_col24,#T_b9598cde_0c51_11eb_a69e_0242ac1c0002row7_col25,#T_b9598cde_0c51_11eb_a69e_0242ac1c0002row7_col26,#T_b9598cde_0c51_11eb_a69e_0242ac1c0002row7_col27,#T_b9598cde_0c51_11eb_a69e_0242ac1c0002row8_col0,#T_b9598cde_0c51_11eb_a69e_0242ac1c0002row8_col1,#T_b9598cde_0c51_11eb_a69e_0242ac1c0002row8_col2,#T_b9598cde_0c51_11eb_a69e_0242ac1c0002row8_col3,#T_b9598cde_0c51_11eb_a69e_0242ac1c0002row8_col4,#T_b9598cde_0c51_11eb_a69e_0242ac1c0002row8_col10,#T_b9598cde_0c51_11eb_a69e_0242ac1c0002row8_col11,#T_b9598cde_0c51_11eb_a69e_0242ac1c0002row8_col12,#T_b9598cde_0c51_11eb_a69e_0242ac1c0002row8_col13,#T_b9598cde_0c51_11eb_a69e_0242ac1c0002row8_col14,#T_b9598cde_0c51_11eb_a69e_0242ac1c0002row8_col19,#T_b9598cde_0c51_11eb_a69e_0242ac1c0002row8_col20,#T_b9598cde_0c51_11eb_a69e_0242ac1c0002row8_col21,#T_b9598cde_0c51_11eb_a69e_0242ac1c0002row8_col22,#T_b9598cde_0c51_11eb_a69e_0242ac1c0002row8_col23,#T_b9598cde_0c51_11eb_a69e_0242ac1c0002row8_col24,#T_b9598cde_0c51_11eb_a69e_0242ac1c0002row8_col25,#T_b9598cde_0c51_11eb_a69e_0242ac1c0002row8_col26,#T_b9598cde_0c51_11eb_a69e_0242ac1c0002row8_col27,#T_b9598cde_0c51_11eb_a69e_0242ac1c0002row9_col0,#T_b9598cde_0c51_11eb_a69e_0242ac1c0002row9_col1,#T_b9598cde_0c51_11eb_a69e_0242ac1c0002row9_col2,#T_b9598cde_0c51_11eb_a69e_0242ac1c0002row9_col3,#T_b9598cde_0c51_11eb_a69e_0242ac1c0002row9_col4,#T_b9598cde_0c51_11eb_a69e_0242ac1c0002row9_col9,#T_b9598cde_0c51_11eb_a69e_0242ac1c0002row9_col10,#T_b9598cde_0c51_11eb_a69e_0242ac1c0002row9_col11,#T_b9598cde_0c51_11eb_a69e_0242ac1c0002row9_col12,#T_b9598cde_0c51_11eb_a69e_0242ac1c0002row9_col13,#T_b9598cde_0c51_11eb_a69e_0242ac1c0002row9_col19,#T_b9598cde_0c51_11eb_a69e_0242ac1c0002row9_col20,#T_b9598cde_0c51_11eb_a69e_0242ac1c0002row9_col21,#T_b9598cde_0c51_11eb_a69e_0242ac1c0002row9_col22,#T_b9598cde_0c51_11eb_a69e_0242ac1c0002row9_col23,#T_b9598cde_0c51_11eb_a69e_0242ac1c0002row9_col24,#T_b9598cde_0c51_11eb_a69e_0242ac1c0002row9_col25,#T_b9598cde_0c51_11eb_a69e_0242ac1c0002row9_col26,#T_b9598cde_0c51_11eb_a69e_0242ac1c0002row9_col27,#T_b9598cde_0c51_11eb_a69e_0242ac1c0002row10_col0,#T_b9598cde_0c51_11eb_a69e_0242ac1c0002row10_col1,#T_b9598cde_0c51_11eb_a69e_0242ac1c0002row10_col2,#T_b9598cde_0c51_11eb_a69e_0242ac1c0002row10_col3,#T_b9598cde_0c51_11eb_a69e_0242ac1c0002row10_col4,#T_b9598cde_0c51_11eb_a69e_0242ac1c0002row10_col5,#T_b9598cde_0c51_11eb_a69e_0242ac1c0002row10_col6,#T_b9598cde_0c51_11eb_a69e_0242ac1c0002row10_col7,#T_b9598cde_0c51_11eb_a69e_0242ac1c0002row10_col8,#T_b9598cde_0c51_11eb_a69e_0242ac1c0002row10_col9,#T_b9598cde_0c51_11eb_a69e_0242ac1c0002row10_col10,#T_b9598cde_0c51_11eb_a69e_0242ac1c0002row10_col11,#T_b9598cde_0c51_11eb_a69e_0242ac1c0002row10_col12,#T_b9598cde_0c51_11eb_a69e_0242ac1c0002row10_col13,#T_b9598cde_0c51_11eb_a69e_0242ac1c0002row10_col18,#T_b9598cde_0c51_11eb_a69e_0242ac1c0002row10_col19,#T_b9598cde_0c51_11eb_a69e_0242ac1c0002row10_col20,#T_b9598cde_0c51_11eb_a69e_0242ac1c0002row10_col21,#T_b9598cde_0c51_11eb_a69e_0242ac1c0002row10_col22,#T_b9598cde_0c51_11eb_a69e_0242ac1c0002row10_col23,#T_b9598cde_0c51_11eb_a69e_0242ac1c0002row10_col24,#T_b9598cde_0c51_11eb_a69e_0242ac1c0002row10_col25,#T_b9598cde_0c51_11eb_a69e_0242ac1c0002row10_col26,#T_b9598cde_0c51_11eb_a69e_0242ac1c0002row10_col27,#T_b9598cde_0c51_11eb_a69e_0242ac1c0002row11_col0,#T_b9598cde_0c51_11eb_a69e_0242ac1c0002row11_col1,#T_b9598cde_0c51_11eb_a69e_0242ac1c0002row11_col2,#T_b9598cde_0c51_11eb_a69e_0242ac1c0002row11_col3,#T_b9598cde_0c51_11eb_a69e_0242ac1c0002row11_col4,#T_b9598cde_0c51_11eb_a69e_0242ac1c0002row11_col5,#T_b9598cde_0c51_11eb_a69e_0242ac1c0002row11_col6,#T_b9598cde_0c51_11eb_a69e_0242ac1c0002row11_col7,#T_b9598cde_0c51_11eb_a69e_0242ac1c0002row11_col8,#T_b9598cde_0c51_11eb_a69e_0242ac1c0002row11_col9,#T_b9598cde_0c51_11eb_a69e_0242ac1c0002row11_col10,#T_b9598cde_0c51_11eb_a69e_0242ac1c0002row11_col17,#T_b9598cde_0c51_11eb_a69e_0242ac1c0002row11_col18,#T_b9598cde_0c51_11eb_a69e_0242ac1c0002row11_col19,#T_b9598cde_0c51_11eb_a69e_0242ac1c0002row11_col20,#T_b9598cde_0c51_11eb_a69e_0242ac1c0002row11_col21,#T_b9598cde_0c51_11eb_a69e_0242ac1c0002row11_col22,#T_b9598cde_0c51_11eb_a69e_0242ac1c0002row11_col23,#T_b9598cde_0c51_11eb_a69e_0242ac1c0002row11_col24,#T_b9598cde_0c51_11eb_a69e_0242ac1c0002row11_col25,#T_b9598cde_0c51_11eb_a69e_0242ac1c0002row11_col26,#T_b9598cde_0c51_11eb_a69e_0242ac1c0002row11_col27,#T_b9598cde_0c51_11eb_a69e_0242ac1c0002row12_col0,#T_b9598cde_0c51_11eb_a69e_0242ac1c0002row12_col1,#T_b9598cde_0c51_11eb_a69e_0242ac1c0002row12_col2,#T_b9598cde_0c51_11eb_a69e_0242ac1c0002row12_col3,#T_b9598cde_0c51_11eb_a69e_0242ac1c0002row12_col4,#T_b9598cde_0c51_11eb_a69e_0242ac1c0002row12_col5,#T_b9598cde_0c51_11eb_a69e_0242ac1c0002row12_col6,#T_b9598cde_0c51_11eb_a69e_0242ac1c0002row12_col7,#T_b9598cde_0c51_11eb_a69e_0242ac1c0002row12_col8,#T_b9598cde_0c51_11eb_a69e_0242ac1c0002row12_col17,#T_b9598cde_0c51_11eb_a69e_0242ac1c0002row12_col18,#T_b9598cde_0c51_11eb_a69e_0242ac1c0002row12_col19,#T_b9598cde_0c51_11eb_a69e_0242ac1c0002row12_col20,#T_b9598cde_0c51_11eb_a69e_0242ac1c0002row12_col21,#T_b9598cde_0c51_11eb_a69e_0242ac1c0002row12_col22,#T_b9598cde_0c51_11eb_a69e_0242ac1c0002row12_col23,#T_b9598cde_0c51_11eb_a69e_0242ac1c0002row12_col24,#T_b9598cde_0c51_11eb_a69e_0242ac1c0002row12_col25,#T_b9598cde_0c51_11eb_a69e_0242ac1c0002row12_col26,#T_b9598cde_0c51_11eb_a69e_0242ac1c0002row12_col27,#T_b9598cde_0c51_11eb_a69e_0242ac1c0002row13_col0,#T_b9598cde_0c51_11eb_a69e_0242ac1c0002row13_col1,#T_b9598cde_0c51_11eb_a69e_0242ac1c0002row13_col2,#T_b9598cde_0c51_11eb_a69e_0242ac1c0002row13_col3,#T_b9598cde_0c51_11eb_a69e_0242ac1c0002row13_col4,#T_b9598cde_0c51_11eb_a69e_0242ac1c0002row13_col5,#T_b9598cde_0c51_11eb_a69e_0242ac1c0002row13_col6,#T_b9598cde_0c51_11eb_a69e_0242ac1c0002row13_col7,#T_b9598cde_0c51_11eb_a69e_0242ac1c0002row13_col8,#T_b9598cde_0c51_11eb_a69e_0242ac1c0002row13_col20,#T_b9598cde_0c51_11eb_a69e_0242ac1c0002row13_col21,#T_b9598cde_0c51_11eb_a69e_0242ac1c0002row13_col22,#T_b9598cde_0c51_11eb_a69e_0242ac1c0002row13_col23,#T_b9598cde_0c51_11eb_a69e_0242ac1c0002row13_col24,#T_b9598cde_0c51_11eb_a69e_0242ac1c0002row13_col25,#T_b9598cde_0c51_11eb_a69e_0242ac1c0002row13_col26,#T_b9598cde_0c51_11eb_a69e_0242ac1c0002row13_col27,#T_b9598cde_0c51_11eb_a69e_0242ac1c0002row14_col0,#T_b9598cde_0c51_11eb_a69e_0242ac1c0002row14_col1,#T_b9598cde_0c51_11eb_a69e_0242ac1c0002row14_col2,#T_b9598cde_0c51_11eb_a69e_0242ac1c0002row14_col3,#T_b9598cde_0c51_11eb_a69e_0242ac1c0002row14_col4,#T_b9598cde_0c51_11eb_a69e_0242ac1c0002row14_col5,#T_b9598cde_0c51_11eb_a69e_0242ac1c0002row14_col6,#T_b9598cde_0c51_11eb_a69e_0242ac1c0002row14_col7,#T_b9598cde_0c51_11eb_a69e_0242ac1c0002row14_col8,#T_b9598cde_0c51_11eb_a69e_0242ac1c0002row14_col9,#T_b9598cde_0c51_11eb_a69e_0242ac1c0002row14_col10,#T_b9598cde_0c51_11eb_a69e_0242ac1c0002row14_col21,#T_b9598cde_0c51_11eb_a69e_0242ac1c0002row14_col22,#T_b9598cde_0c51_11eb_a69e_0242ac1c0002row14_col23,#T_b9598cde_0c51_11eb_a69e_0242ac1c0002row14_col24,#T_b9598cde_0c51_11eb_a69e_0242ac1c0002row14_col25,#T_b9598cde_0c51_11eb_a69e_0242ac1c0002row14_col26,#T_b9598cde_0c51_11eb_a69e_0242ac1c0002row14_col27,#T_b9598cde_0c51_11eb_a69e_0242ac1c0002row15_col0,#T_b9598cde_0c51_11eb_a69e_0242ac1c0002row15_col1,#T_b9598cde_0c51_11eb_a69e_0242ac1c0002row15_col2,#T_b9598cde_0c51_11eb_a69e_0242ac1c0002row15_col3,#T_b9598cde_0c51_11eb_a69e_0242ac1c0002row15_col4,#T_b9598cde_0c51_11eb_a69e_0242ac1c0002row15_col5,#T_b9598cde_0c51_11eb_a69e_0242ac1c0002row15_col6,#T_b9598cde_0c51_11eb_a69e_0242ac1c0002row15_col7,#T_b9598cde_0c51_11eb_a69e_0242ac1c0002row15_col8,#T_b9598cde_0c51_11eb_a69e_0242ac1c0002row15_col9,#T_b9598cde_0c51_11eb_a69e_0242ac1c0002row15_col10,#T_b9598cde_0c51_11eb_a69e_0242ac1c0002row15_col11,#T_b9598cde_0c51_11eb_a69e_0242ac1c0002row15_col12,#T_b9598cde_0c51_11eb_a69e_0242ac1c0002row15_col13,#T_b9598cde_0c51_11eb_a69e_0242ac1c0002row15_col21,#T_b9598cde_0c51_11eb_a69e_0242ac1c0002row15_col22,#T_b9598cde_0c51_11eb_a69e_0242ac1c0002row15_col23,#T_b9598cde_0c51_11eb_a69e_0242ac1c0002row15_col24,#T_b9598cde_0c51_11eb_a69e_0242ac1c0002row15_col25,#T_b9598cde_0c51_11eb_a69e_0242ac1c0002row15_col26,#T_b9598cde_0c51_11eb_a69e_0242ac1c0002row15_col27,#T_b9598cde_0c51_11eb_a69e_0242ac1c0002row16_col0,#T_b9598cde_0c51_11eb_a69e_0242ac1c0002row16_col1,#T_b9598cde_0c51_11eb_a69e_0242ac1c0002row16_col2,#T_b9598cde_0c51_11eb_a69e_0242ac1c0002row16_col3,#T_b9598cde_0c51_11eb_a69e_0242ac1c0002row16_col4,#T_b9598cde_0c51_11eb_a69e_0242ac1c0002row16_col5,#T_b9598cde_0c51_11eb_a69e_0242ac1c0002row16_col6,#T_b9598cde_0c51_11eb_a69e_0242ac1c0002row16_col7,#T_b9598cde_0c51_11eb_a69e_0242ac1c0002row16_col8,#T_b9598cde_0c51_11eb_a69e_0242ac1c0002row16_col9,#T_b9598cde_0c51_11eb_a69e_0242ac1c0002row16_col10,#T_b9598cde_0c51_11eb_a69e_0242ac1c0002row16_col11,#T_b9598cde_0c51_11eb_a69e_0242ac1c0002row16_col12,#T_b9598cde_0c51_11eb_a69e_0242ac1c0002row16_col13,#T_b9598cde_0c51_11eb_a69e_0242ac1c0002row16_col14,#T_b9598cde_0c51_11eb_a69e_0242ac1c0002row16_col15,#T_b9598cde_0c51_11eb_a69e_0242ac1c0002row16_col16,#T_b9598cde_0c51_11eb_a69e_0242ac1c0002row16_col21,#T_b9598cde_0c51_11eb_a69e_0242ac1c0002row16_col22,#T_b9598cde_0c51_11eb_a69e_0242ac1c0002row16_col23,#T_b9598cde_0c51_11eb_a69e_0242ac1c0002row16_col24,#T_b9598cde_0c51_11eb_a69e_0242ac1c0002row16_col25,#T_b9598cde_0c51_11eb_a69e_0242ac1c0002row16_col26,#T_b9598cde_0c51_11eb_a69e_0242ac1c0002row16_col27,#T_b9598cde_0c51_11eb_a69e_0242ac1c0002row17_col0,#T_b9598cde_0c51_11eb_a69e_0242ac1c0002row17_col1,#T_b9598cde_0c51_11eb_a69e_0242ac1c0002row17_col2,#T_b9598cde_0c51_11eb_a69e_0242ac1c0002row17_col3,#T_b9598cde_0c51_11eb_a69e_0242ac1c0002row17_col4,#T_b9598cde_0c51_11eb_a69e_0242ac1c0002row17_col5,#T_b9598cde_0c51_11eb_a69e_0242ac1c0002row17_col6,#T_b9598cde_0c51_11eb_a69e_0242ac1c0002row17_col7,#T_b9598cde_0c51_11eb_a69e_0242ac1c0002row17_col8,#T_b9598cde_0c51_11eb_a69e_0242ac1c0002row17_col9,#T_b9598cde_0c51_11eb_a69e_0242ac1c0002row17_col10,#T_b9598cde_0c51_11eb_a69e_0242ac1c0002row17_col11,#T_b9598cde_0c51_11eb_a69e_0242ac1c0002row17_col12,#T_b9598cde_0c51_11eb_a69e_0242ac1c0002row17_col13,#T_b9598cde_0c51_11eb_a69e_0242ac1c0002row17_col14,#T_b9598cde_0c51_11eb_a69e_0242ac1c0002row17_col15,#T_b9598cde_0c51_11eb_a69e_0242ac1c0002row17_col16,#T_b9598cde_0c51_11eb_a69e_0242ac1c0002row17_col21,#T_b9598cde_0c51_11eb_a69e_0242ac1c0002row17_col22,#T_b9598cde_0c51_11eb_a69e_0242ac1c0002row17_col23,#T_b9598cde_0c51_11eb_a69e_0242ac1c0002row17_col24,#T_b9598cde_0c51_11eb_a69e_0242ac1c0002row17_col25,#T_b9598cde_0c51_11eb_a69e_0242ac1c0002row17_col26,#T_b9598cde_0c51_11eb_a69e_0242ac1c0002row17_col27,#T_b9598cde_0c51_11eb_a69e_0242ac1c0002row18_col0,#T_b9598cde_0c51_11eb_a69e_0242ac1c0002row18_col1,#T_b9598cde_0c51_11eb_a69e_0242ac1c0002row18_col2,#T_b9598cde_0c51_11eb_a69e_0242ac1c0002row18_col3,#T_b9598cde_0c51_11eb_a69e_0242ac1c0002row18_col4,#T_b9598cde_0c51_11eb_a69e_0242ac1c0002row18_col5,#T_b9598cde_0c51_11eb_a69e_0242ac1c0002row18_col6,#T_b9598cde_0c51_11eb_a69e_0242ac1c0002row18_col7,#T_b9598cde_0c51_11eb_a69e_0242ac1c0002row18_col8,#T_b9598cde_0c51_11eb_a69e_0242ac1c0002row18_col9,#T_b9598cde_0c51_11eb_a69e_0242ac1c0002row18_col10,#T_b9598cde_0c51_11eb_a69e_0242ac1c0002row18_col11,#T_b9598cde_0c51_11eb_a69e_0242ac1c0002row18_col12,#T_b9598cde_0c51_11eb_a69e_0242ac1c0002row18_col13,#T_b9598cde_0c51_11eb_a69e_0242ac1c0002row18_col14,#T_b9598cde_0c51_11eb_a69e_0242ac1c0002row18_col15,#T_b9598cde_0c51_11eb_a69e_0242ac1c0002row18_col21,#T_b9598cde_0c51_11eb_a69e_0242ac1c0002row18_col22,#T_b9598cde_0c51_11eb_a69e_0242ac1c0002row18_col23,#T_b9598cde_0c51_11eb_a69e_0242ac1c0002row18_col24,#T_b9598cde_0c51_11eb_a69e_0242ac1c0002row18_col25,#T_b9598cde_0c51_11eb_a69e_0242ac1c0002row18_col26,#T_b9598cde_0c51_11eb_a69e_0242ac1c0002row18_col27,#T_b9598cde_0c51_11eb_a69e_0242ac1c0002row19_col0,#T_b9598cde_0c51_11eb_a69e_0242ac1c0002row19_col1,#T_b9598cde_0c51_11eb_a69e_0242ac1c0002row19_col2,#T_b9598cde_0c51_11eb_a69e_0242ac1c0002row19_col3,#T_b9598cde_0c51_11eb_a69e_0242ac1c0002row19_col4,#T_b9598cde_0c51_11eb_a69e_0242ac1c0002row19_col5,#T_b9598cde_0c51_11eb_a69e_0242ac1c0002row19_col6,#T_b9598cde_0c51_11eb_a69e_0242ac1c0002row19_col7,#T_b9598cde_0c51_11eb_a69e_0242ac1c0002row19_col8,#T_b9598cde_0c51_11eb_a69e_0242ac1c0002row19_col9,#T_b9598cde_0c51_11eb_a69e_0242ac1c0002row19_col10,#T_b9598cde_0c51_11eb_a69e_0242ac1c0002row19_col11,#T_b9598cde_0c51_11eb_a69e_0242ac1c0002row19_col12,#T_b9598cde_0c51_11eb_a69e_0242ac1c0002row19_col13,#T_b9598cde_0c51_11eb_a69e_0242ac1c0002row19_col14,#T_b9598cde_0c51_11eb_a69e_0242ac1c0002row19_col21,#T_b9598cde_0c51_11eb_a69e_0242ac1c0002row19_col22,#T_b9598cde_0c51_11eb_a69e_0242ac1c0002row19_col23,#T_b9598cde_0c51_11eb_a69e_0242ac1c0002row19_col24,#T_b9598cde_0c51_11eb_a69e_0242ac1c0002row19_col25,#T_b9598cde_0c51_11eb_a69e_0242ac1c0002row19_col26,#T_b9598cde_0c51_11eb_a69e_0242ac1c0002row19_col27,#T_b9598cde_0c51_11eb_a69e_0242ac1c0002row20_col0,#T_b9598cde_0c51_11eb_a69e_0242ac1c0002row20_col1,#T_b9598cde_0c51_11eb_a69e_0242ac1c0002row20_col2,#T_b9598cde_0c51_11eb_a69e_0242ac1c0002row20_col3,#T_b9598cde_0c51_11eb_a69e_0242ac1c0002row20_col4,#T_b9598cde_0c51_11eb_a69e_0242ac1c0002row20_col5,#T_b9598cde_0c51_11eb_a69e_0242ac1c0002row20_col6,#T_b9598cde_0c51_11eb_a69e_0242ac1c0002row20_col7,#T_b9598cde_0c51_11eb_a69e_0242ac1c0002row20_col8,#T_b9598cde_0c51_11eb_a69e_0242ac1c0002row20_col9,#T_b9598cde_0c51_11eb_a69e_0242ac1c0002row20_col10,#T_b9598cde_0c51_11eb_a69e_0242ac1c0002row20_col11,#T_b9598cde_0c51_11eb_a69e_0242ac1c0002row20_col12,#T_b9598cde_0c51_11eb_a69e_0242ac1c0002row20_col13,#T_b9598cde_0c51_11eb_a69e_0242ac1c0002row20_col20,#T_b9598cde_0c51_11eb_a69e_0242ac1c0002row20_col21,#T_b9598cde_0c51_11eb_a69e_0242ac1c0002row20_col22,#T_b9598cde_0c51_11eb_a69e_0242ac1c0002row20_col23,#T_b9598cde_0c51_11eb_a69e_0242ac1c0002row20_col24,#T_b9598cde_0c51_11eb_a69e_0242ac1c0002row20_col25,#T_b9598cde_0c51_11eb_a69e_0242ac1c0002row20_col26,#T_b9598cde_0c51_11eb_a69e_0242ac1c0002row20_col27,#T_b9598cde_0c51_11eb_a69e_0242ac1c0002row21_col0,#T_b9598cde_0c51_11eb_a69e_0242ac1c0002row21_col1,#T_b9598cde_0c51_11eb_a69e_0242ac1c0002row21_col2,#T_b9598cde_0c51_11eb_a69e_0242ac1c0002row21_col3,#T_b9598cde_0c51_11eb_a69e_0242ac1c0002row21_col4,#T_b9598cde_0c51_11eb_a69e_0242ac1c0002row21_col5,#T_b9598cde_0c51_11eb_a69e_0242ac1c0002row21_col6,#T_b9598cde_0c51_11eb_a69e_0242ac1c0002row21_col7,#T_b9598cde_0c51_11eb_a69e_0242ac1c0002row21_col8,#T_b9598cde_0c51_11eb_a69e_0242ac1c0002row21_col9,#T_b9598cde_0c51_11eb_a69e_0242ac1c0002row21_col10,#T_b9598cde_0c51_11eb_a69e_0242ac1c0002row21_col11,#T_b9598cde_0c51_11eb_a69e_0242ac1c0002row21_col19,#T_b9598cde_0c51_11eb_a69e_0242ac1c0002row21_col20,#T_b9598cde_0c51_11eb_a69e_0242ac1c0002row21_col21,#T_b9598cde_0c51_11eb_a69e_0242ac1c0002row21_col22,#T_b9598cde_0c51_11eb_a69e_0242ac1c0002row21_col23,#T_b9598cde_0c51_11eb_a69e_0242ac1c0002row21_col24,#T_b9598cde_0c51_11eb_a69e_0242ac1c0002row21_col25,#T_b9598cde_0c51_11eb_a69e_0242ac1c0002row21_col26,#T_b9598cde_0c51_11eb_a69e_0242ac1c0002row21_col27,#T_b9598cde_0c51_11eb_a69e_0242ac1c0002row22_col0,#T_b9598cde_0c51_11eb_a69e_0242ac1c0002row22_col1,#T_b9598cde_0c51_11eb_a69e_0242ac1c0002row22_col2,#T_b9598cde_0c51_11eb_a69e_0242ac1c0002row22_col3,#T_b9598cde_0c51_11eb_a69e_0242ac1c0002row22_col4,#T_b9598cde_0c51_11eb_a69e_0242ac1c0002row22_col5,#T_b9598cde_0c51_11eb_a69e_0242ac1c0002row22_col18,#T_b9598cde_0c51_11eb_a69e_0242ac1c0002row22_col19,#T_b9598cde_0c51_11eb_a69e_0242ac1c0002row22_col20,#T_b9598cde_0c51_11eb_a69e_0242ac1c0002row22_col21,#T_b9598cde_0c51_11eb_a69e_0242ac1c0002row22_col22,#T_b9598cde_0c51_11eb_a69e_0242ac1c0002row22_col23,#T_b9598cde_0c51_11eb_a69e_0242ac1c0002row22_col24,#T_b9598cde_0c51_11eb_a69e_0242ac1c0002row22_col25,#T_b9598cde_0c51_11eb_a69e_0242ac1c0002row22_col26,#T_b9598cde_0c51_11eb_a69e_0242ac1c0002row22_col27,#T_b9598cde_0c51_11eb_a69e_0242ac1c0002row23_col0,#T_b9598cde_0c51_11eb_a69e_0242ac1c0002row23_col1,#T_b9598cde_0c51_11eb_a69e_0242ac1c0002row23_col2,#T_b9598cde_0c51_11eb_a69e_0242ac1c0002row23_col3,#T_b9598cde_0c51_11eb_a69e_0242ac1c0002row23_col4,#T_b9598cde_0c51_11eb_a69e_0242ac1c0002row23_col5,#T_b9598cde_0c51_11eb_a69e_0242ac1c0002row23_col16,#T_b9598cde_0c51_11eb_a69e_0242ac1c0002row23_col17,#T_b9598cde_0c51_11eb_a69e_0242ac1c0002row23_col18,#T_b9598cde_0c51_11eb_a69e_0242ac1c0002row23_col19,#T_b9598cde_0c51_11eb_a69e_0242ac1c0002row23_col20,#T_b9598cde_0c51_11eb_a69e_0242ac1c0002row23_col21,#T_b9598cde_0c51_11eb_a69e_0242ac1c0002row23_col22,#T_b9598cde_0c51_11eb_a69e_0242ac1c0002row23_col23,#T_b9598cde_0c51_11eb_a69e_0242ac1c0002row23_col24,#T_b9598cde_0c51_11eb_a69e_0242ac1c0002row23_col25,#T_b9598cde_0c51_11eb_a69e_0242ac1c0002row23_col26,#T_b9598cde_0c51_11eb_a69e_0242ac1c0002row23_col27,#T_b9598cde_0c51_11eb_a69e_0242ac1c0002row24_col0,#T_b9598cde_0c51_11eb_a69e_0242ac1c0002row24_col1,#T_b9598cde_0c51_11eb_a69e_0242ac1c0002row24_col2,#T_b9598cde_0c51_11eb_a69e_0242ac1c0002row24_col3,#T_b9598cde_0c51_11eb_a69e_0242ac1c0002row24_col4,#T_b9598cde_0c51_11eb_a69e_0242ac1c0002row24_col5,#T_b9598cde_0c51_11eb_a69e_0242ac1c0002row24_col14,#T_b9598cde_0c51_11eb_a69e_0242ac1c0002row24_col15,#T_b9598cde_0c51_11eb_a69e_0242ac1c0002row24_col16,#T_b9598cde_0c51_11eb_a69e_0242ac1c0002row24_col17,#T_b9598cde_0c51_11eb_a69e_0242ac1c0002row24_col18,#T_b9598cde_0c51_11eb_a69e_0242ac1c0002row24_col19,#T_b9598cde_0c51_11eb_a69e_0242ac1c0002row24_col20,#T_b9598cde_0c51_11eb_a69e_0242ac1c0002row24_col21,#T_b9598cde_0c51_11eb_a69e_0242ac1c0002row24_col22,#T_b9598cde_0c51_11eb_a69e_0242ac1c0002row24_col23,#T_b9598cde_0c51_11eb_a69e_0242ac1c0002row24_col24,#T_b9598cde_0c51_11eb_a69e_0242ac1c0002row24_col25,#T_b9598cde_0c51_11eb_a69e_0242ac1c0002row24_col26,#T_b9598cde_0c51_11eb_a69e_0242ac1c0002row24_col27,#T_b9598cde_0c51_11eb_a69e_0242ac1c0002row25_col0,#T_b9598cde_0c51_11eb_a69e_0242ac1c0002row25_col1,#T_b9598cde_0c51_11eb_a69e_0242ac1c0002row25_col2,#T_b9598cde_0c51_11eb_a69e_0242ac1c0002row25_col3,#T_b9598cde_0c51_11eb_a69e_0242ac1c0002row25_col4,#T_b9598cde_0c51_11eb_a69e_0242ac1c0002row25_col5,#T_b9598cde_0c51_11eb_a69e_0242ac1c0002row25_col6,#T_b9598cde_0c51_11eb_a69e_0242ac1c0002row25_col7,#T_b9598cde_0c51_11eb_a69e_0242ac1c0002row25_col8,#T_b9598cde_0c51_11eb_a69e_0242ac1c0002row25_col9,#T_b9598cde_0c51_11eb_a69e_0242ac1c0002row25_col10,#T_b9598cde_0c51_11eb_a69e_0242ac1c0002row25_col11,#T_b9598cde_0c51_11eb_a69e_0242ac1c0002row25_col12,#T_b9598cde_0c51_11eb_a69e_0242ac1c0002row25_col13,#T_b9598cde_0c51_11eb_a69e_0242ac1c0002row25_col14,#T_b9598cde_0c51_11eb_a69e_0242ac1c0002row25_col15,#T_b9598cde_0c51_11eb_a69e_0242ac1c0002row25_col16,#T_b9598cde_0c51_11eb_a69e_0242ac1c0002row25_col17,#T_b9598cde_0c51_11eb_a69e_0242ac1c0002row25_col18,#T_b9598cde_0c51_11eb_a69e_0242ac1c0002row25_col19,#T_b9598cde_0c51_11eb_a69e_0242ac1c0002row25_col20,#T_b9598cde_0c51_11eb_a69e_0242ac1c0002row25_col21,#T_b9598cde_0c51_11eb_a69e_0242ac1c0002row25_col22,#T_b9598cde_0c51_11eb_a69e_0242ac1c0002row25_col23,#T_b9598cde_0c51_11eb_a69e_0242ac1c0002row25_col24,#T_b9598cde_0c51_11eb_a69e_0242ac1c0002row25_col25,#T_b9598cde_0c51_11eb_a69e_0242ac1c0002row25_col26,#T_b9598cde_0c51_11eb_a69e_0242ac1c0002row25_col27,#T_b9598cde_0c51_11eb_a69e_0242ac1c0002row26_col0,#T_b9598cde_0c51_11eb_a69e_0242ac1c0002row26_col1,#T_b9598cde_0c51_11eb_a69e_0242ac1c0002row26_col2,#T_b9598cde_0c51_11eb_a69e_0242ac1c0002row26_col3,#T_b9598cde_0c51_11eb_a69e_0242ac1c0002row26_col4,#T_b9598cde_0c51_11eb_a69e_0242ac1c0002row26_col5,#T_b9598cde_0c51_11eb_a69e_0242ac1c0002row26_col6,#T_b9598cde_0c51_11eb_a69e_0242ac1c0002row26_col7,#T_b9598cde_0c51_11eb_a69e_0242ac1c0002row26_col8,#T_b9598cde_0c51_11eb_a69e_0242ac1c0002row26_col9,#T_b9598cde_0c51_11eb_a69e_0242ac1c0002row26_col10,#T_b9598cde_0c51_11eb_a69e_0242ac1c0002row26_col11,#T_b9598cde_0c51_11eb_a69e_0242ac1c0002row26_col12,#T_b9598cde_0c51_11eb_a69e_0242ac1c0002row26_col13,#T_b9598cde_0c51_11eb_a69e_0242ac1c0002row26_col14,#T_b9598cde_0c51_11eb_a69e_0242ac1c0002row26_col15,#T_b9598cde_0c51_11eb_a69e_0242ac1c0002row26_col16,#T_b9598cde_0c51_11eb_a69e_0242ac1c0002row26_col17,#T_b9598cde_0c51_11eb_a69e_0242ac1c0002row26_col18,#T_b9598cde_0c51_11eb_a69e_0242ac1c0002row26_col19,#T_b9598cde_0c51_11eb_a69e_0242ac1c0002row26_col20,#T_b9598cde_0c51_11eb_a69e_0242ac1c0002row26_col21,#T_b9598cde_0c51_11eb_a69e_0242ac1c0002row26_col22,#T_b9598cde_0c51_11eb_a69e_0242ac1c0002row26_col23,#T_b9598cde_0c51_11eb_a69e_0242ac1c0002row26_col24,#T_b9598cde_0c51_11eb_a69e_0242ac1c0002row26_col25,#T_b9598cde_0c51_11eb_a69e_0242ac1c0002row26_col26,#T_b9598cde_0c51_11eb_a69e_0242ac1c0002row26_col27,#T_b9598cde_0c51_11eb_a69e_0242ac1c0002row27_col0,#T_b9598cde_0c51_11eb_a69e_0242ac1c0002row27_col1,#T_b9598cde_0c51_11eb_a69e_0242ac1c0002row27_col2,#T_b9598cde_0c51_11eb_a69e_0242ac1c0002row27_col3,#T_b9598cde_0c51_11eb_a69e_0242ac1c0002row27_col4,#T_b9598cde_0c51_11eb_a69e_0242ac1c0002row27_col5,#T_b9598cde_0c51_11eb_a69e_0242ac1c0002row27_col6,#T_b9598cde_0c51_11eb_a69e_0242ac1c0002row27_col7,#T_b9598cde_0c51_11eb_a69e_0242ac1c0002row27_col8,#T_b9598cde_0c51_11eb_a69e_0242ac1c0002row27_col9,#T_b9598cde_0c51_11eb_a69e_0242ac1c0002row27_col10,#T_b9598cde_0c51_11eb_a69e_0242ac1c0002row27_col11,#T_b9598cde_0c51_11eb_a69e_0242ac1c0002row27_col12,#T_b9598cde_0c51_11eb_a69e_0242ac1c0002row27_col13,#T_b9598cde_0c51_11eb_a69e_0242ac1c0002row27_col14,#T_b9598cde_0c51_11eb_a69e_0242ac1c0002row27_col15,#T_b9598cde_0c51_11eb_a69e_0242ac1c0002row27_col16,#T_b9598cde_0c51_11eb_a69e_0242ac1c0002row27_col17,#T_b9598cde_0c51_11eb_a69e_0242ac1c0002row27_col18,#T_b9598cde_0c51_11eb_a69e_0242ac1c0002row27_col19,#T_b9598cde_0c51_11eb_a69e_0242ac1c0002row27_col20,#T_b9598cde_0c51_11eb_a69e_0242ac1c0002row27_col21,#T_b9598cde_0c51_11eb_a69e_0242ac1c0002row27_col22,#T_b9598cde_0c51_11eb_a69e_0242ac1c0002row27_col23,#T_b9598cde_0c51_11eb_a69e_0242ac1c0002row27_col24,#T_b9598cde_0c51_11eb_a69e_0242ac1c0002row27_col25,#T_b9598cde_0c51_11eb_a69e_0242ac1c0002row27_col26,#T_b9598cde_0c51_11eb_a69e_0242ac1c0002row27_col27{\n",
              "            background-color:  #ffffff;\n",
              "            color:  #000000;\n",
              "        }#T_b9598cde_0c51_11eb_a69e_0242ac1c0002row5_col9,#T_b9598cde_0c51_11eb_a69e_0242ac1c0002row12_col16{\n",
              "            background-color:  #f1f1f1;\n",
              "            color:  #000000;\n",
              "        }#T_b9598cde_0c51_11eb_a69e_0242ac1c0002row5_col10,#T_b9598cde_0c51_11eb_a69e_0242ac1c0002row5_col17{\n",
              "            background-color:  #7c7c7c;\n",
              "            color:  #000000;\n",
              "        }#T_b9598cde_0c51_11eb_a69e_0242ac1c0002row5_col11{\n",
              "            background-color:  #4a4a4a;\n",
              "            color:  #f1f1f1;\n",
              "        }#T_b9598cde_0c51_11eb_a69e_0242ac1c0002row5_col12,#T_b9598cde_0c51_11eb_a69e_0242ac1c0002row5_col13,#T_b9598cde_0c51_11eb_a69e_0242ac1c0002row5_col14,#T_b9598cde_0c51_11eb_a69e_0242ac1c0002row6_col10,#T_b9598cde_0c51_11eb_a69e_0242ac1c0002row6_col11,#T_b9598cde_0c51_11eb_a69e_0242ac1c0002row6_col15,#T_b9598cde_0c51_11eb_a69e_0242ac1c0002row6_col16,#T_b9598cde_0c51_11eb_a69e_0242ac1c0002row6_col17,#T_b9598cde_0c51_11eb_a69e_0242ac1c0002row7_col8,#T_b9598cde_0c51_11eb_a69e_0242ac1c0002row7_col16,#T_b9598cde_0c51_11eb_a69e_0242ac1c0002row7_col17,#T_b9598cde_0c51_11eb_a69e_0242ac1c0002row8_col5,#T_b9598cde_0c51_11eb_a69e_0242ac1c0002row8_col6,#T_b9598cde_0c51_11eb_a69e_0242ac1c0002row8_col7,#T_b9598cde_0c51_11eb_a69e_0242ac1c0002row8_col16,#T_b9598cde_0c51_11eb_a69e_0242ac1c0002row8_col17,#T_b9598cde_0c51_11eb_a69e_0242ac1c0002row9_col16,#T_b9598cde_0c51_11eb_a69e_0242ac1c0002row10_col15,#T_b9598cde_0c51_11eb_a69e_0242ac1c0002row13_col15,#T_b9598cde_0c51_11eb_a69e_0242ac1c0002row14_col15,#T_b9598cde_0c51_11eb_a69e_0242ac1c0002row14_col16,#T_b9598cde_0c51_11eb_a69e_0242ac1c0002row14_col17,#T_b9598cde_0c51_11eb_a69e_0242ac1c0002row14_col18,#T_b9598cde_0c51_11eb_a69e_0242ac1c0002row15_col17,#T_b9598cde_0c51_11eb_a69e_0242ac1c0002row15_col18,#T_b9598cde_0c51_11eb_a69e_0242ac1c0002row15_col19,#T_b9598cde_0c51_11eb_a69e_0242ac1c0002row16_col18,#T_b9598cde_0c51_11eb_a69e_0242ac1c0002row16_col19,#T_b9598cde_0c51_11eb_a69e_0242ac1c0002row16_col20,#T_b9598cde_0c51_11eb_a69e_0242ac1c0002row17_col18,#T_b9598cde_0c51_11eb_a69e_0242ac1c0002row17_col19,#T_b9598cde_0c51_11eb_a69e_0242ac1c0002row18_col18,#T_b9598cde_0c51_11eb_a69e_0242ac1c0002row18_col19,#T_b9598cde_0c51_11eb_a69e_0242ac1c0002row19_col17,#T_b9598cde_0c51_11eb_a69e_0242ac1c0002row19_col18,#T_b9598cde_0c51_11eb_a69e_0242ac1c0002row20_col16,#T_b9598cde_0c51_11eb_a69e_0242ac1c0002row20_col17,#T_b9598cde_0c51_11eb_a69e_0242ac1c0002row21_col15,#T_b9598cde_0c51_11eb_a69e_0242ac1c0002row21_col16,#T_b9598cde_0c51_11eb_a69e_0242ac1c0002row23_col7,#T_b9598cde_0c51_11eb_a69e_0242ac1c0002row23_col8,#T_b9598cde_0c51_11eb_a69e_0242ac1c0002row23_col9,#T_b9598cde_0c51_11eb_a69e_0242ac1c0002row23_col10,#T_b9598cde_0c51_11eb_a69e_0242ac1c0002row23_col11,#T_b9598cde_0c51_11eb_a69e_0242ac1c0002row24_col7,#T_b9598cde_0c51_11eb_a69e_0242ac1c0002row24_col8,#T_b9598cde_0c51_11eb_a69e_0242ac1c0002row24_col9,#T_b9598cde_0c51_11eb_a69e_0242ac1c0002row24_col10,#T_b9598cde_0c51_11eb_a69e_0242ac1c0002row24_col11{\n",
              "            background-color:  #000000;\n",
              "            color:  #f1f1f1;\n",
              "        }#T_b9598cde_0c51_11eb_a69e_0242ac1c0002row5_col15{\n",
              "            background-color:  #606060;\n",
              "            color:  #f1f1f1;\n",
              "        }#T_b9598cde_0c51_11eb_a69e_0242ac1c0002row5_col16{\n",
              "            background-color:  #4d4d4d;\n",
              "            color:  #f1f1f1;\n",
              "        }#T_b9598cde_0c51_11eb_a69e_0242ac1c0002row5_col18{\n",
              "            background-color:  #bbbbbb;\n",
              "            color:  #000000;\n",
              "        }#T_b9598cde_0c51_11eb_a69e_0242ac1c0002row6_col7,#T_b9598cde_0c51_11eb_a69e_0242ac1c0002row8_col9{\n",
              "            background-color:  #e4e4e4;\n",
              "            color:  #000000;\n",
              "        }#T_b9598cde_0c51_11eb_a69e_0242ac1c0002row6_col8,#T_b9598cde_0c51_11eb_a69e_0242ac1c0002row12_col10{\n",
              "            background-color:  #6b6b6b;\n",
              "            color:  #000000;\n",
              "        }#T_b9598cde_0c51_11eb_a69e_0242ac1c0002row6_col9,#T_b9598cde_0c51_11eb_a69e_0242ac1c0002row9_col15{\n",
              "            background-color:  #222222;\n",
              "            color:  #f1f1f1;\n",
              "        }#T_b9598cde_0c51_11eb_a69e_0242ac1c0002row6_col12,#T_b9598cde_0c51_11eb_a69e_0242ac1c0002row6_col18,#T_b9598cde_0c51_11eb_a69e_0242ac1c0002row7_col18,#T_b9598cde_0c51_11eb_a69e_0242ac1c0002row21_col17{\n",
              "            background-color:  #171717;\n",
              "            color:  #f1f1f1;\n",
              "        }#T_b9598cde_0c51_11eb_a69e_0242ac1c0002row6_col13,#T_b9598cde_0c51_11eb_a69e_0242ac1c0002row7_col15{\n",
              "            background-color:  #4b4b4b;\n",
              "            color:  #f1f1f1;\n",
              "        }#T_b9598cde_0c51_11eb_a69e_0242ac1c0002row6_col14,#T_b9598cde_0c51_11eb_a69e_0242ac1c0002row11_col14,#T_b9598cde_0c51_11eb_a69e_0242ac1c0002row12_col12,#T_b9598cde_0c51_11eb_a69e_0242ac1c0002row12_col14,#T_b9598cde_0c51_11eb_a69e_0242ac1c0002row13_col12,#T_b9598cde_0c51_11eb_a69e_0242ac1c0002row13_col14,#T_b9598cde_0c51_11eb_a69e_0242ac1c0002row22_col14,#T_b9598cde_0c51_11eb_a69e_0242ac1c0002row23_col12{\n",
              "            background-color:  #010101;\n",
              "            color:  #f1f1f1;\n",
              "        }#T_b9598cde_0c51_11eb_a69e_0242ac1c0002row7_col5{\n",
              "            background-color:  #272727;\n",
              "            color:  #f1f1f1;\n",
              "        }#T_b9598cde_0c51_11eb_a69e_0242ac1c0002row7_col6{\n",
              "            background-color:  #0a0a0a;\n",
              "            color:  #f1f1f1;\n",
              "        }#T_b9598cde_0c51_11eb_a69e_0242ac1c0002row7_col7,#T_b9598cde_0c51_11eb_a69e_0242ac1c0002row18_col17{\n",
              "            background-color:  #050505;\n",
              "            color:  #f1f1f1;\n",
              "        }#T_b9598cde_0c51_11eb_a69e_0242ac1c0002row7_col9,#T_b9598cde_0c51_11eb_a69e_0242ac1c0002row12_col15,#T_b9598cde_0c51_11eb_a69e_0242ac1c0002row14_col19,#T_b9598cde_0c51_11eb_a69e_0242ac1c0002row23_col6{\n",
              "            background-color:  #545454;\n",
              "            color:  #f1f1f1;\n",
              "        }#T_b9598cde_0c51_11eb_a69e_0242ac1c0002row7_col10{\n",
              "            background-color:  #e6e6e6;\n",
              "            color:  #000000;\n",
              "        }#T_b9598cde_0c51_11eb_a69e_0242ac1c0002row7_col11,#T_b9598cde_0c51_11eb_a69e_0242ac1c0002row7_col14,#T_b9598cde_0c51_11eb_a69e_0242ac1c0002row12_col9{\n",
              "            background-color:  #fafafa;\n",
              "            color:  #000000;\n",
              "        }#T_b9598cde_0c51_11eb_a69e_0242ac1c0002row7_col12,#T_b9598cde_0c51_11eb_a69e_0242ac1c0002row15_col14,#T_b9598cde_0c51_11eb_a69e_0242ac1c0002row20_col19{\n",
              "            background-color:  #fbfbfb;\n",
              "            color:  #000000;\n",
              "        }#T_b9598cde_0c51_11eb_a69e_0242ac1c0002row7_col13{\n",
              "            background-color:  #fdfdfd;\n",
              "            color:  #000000;\n",
              "        }#T_b9598cde_0c51_11eb_a69e_0242ac1c0002row8_col8{\n",
              "            background-color:  #1b1b1b;\n",
              "            color:  #f1f1f1;\n",
              "        }#T_b9598cde_0c51_11eb_a69e_0242ac1c0002row8_col15{\n",
              "            background-color:  #4e4e4e;\n",
              "            color:  #f1f1f1;\n",
              "        }#T_b9598cde_0c51_11eb_a69e_0242ac1c0002row8_col18{\n",
              "            background-color:  #767676;\n",
              "            color:  #000000;\n",
              "        }#T_b9598cde_0c51_11eb_a69e_0242ac1c0002row9_col5{\n",
              "            background-color:  #fcfcfc;\n",
              "            color:  #000000;\n",
              "        }#T_b9598cde_0c51_11eb_a69e_0242ac1c0002row9_col6,#T_b9598cde_0c51_11eb_a69e_0242ac1c0002row9_col7,#T_b9598cde_0c51_11eb_a69e_0242ac1c0002row19_col20{\n",
              "            background-color:  #f6f6f6;\n",
              "            color:  #000000;\n",
              "        }#T_b9598cde_0c51_11eb_a69e_0242ac1c0002row9_col8,#T_b9598cde_0c51_11eb_a69e_0242ac1c0002row11_col11{\n",
              "            background-color:  #f8f8f8;\n",
              "            color:  #000000;\n",
              "        }#T_b9598cde_0c51_11eb_a69e_0242ac1c0002row9_col14,#T_b9598cde_0c51_11eb_a69e_0242ac1c0002row14_col11{\n",
              "            background-color:  #e8e8e8;\n",
              "            color:  #000000;\n",
              "        }#T_b9598cde_0c51_11eb_a69e_0242ac1c0002row9_col17,#T_b9598cde_0c51_11eb_a69e_0242ac1c0002row10_col16{\n",
              "            background-color:  #090909;\n",
              "            color:  #f1f1f1;\n",
              "        }#T_b9598cde_0c51_11eb_a69e_0242ac1c0002row9_col18{\n",
              "            background-color:  #d0d0d0;\n",
              "            color:  #000000;\n",
              "        }#T_b9598cde_0c51_11eb_a69e_0242ac1c0002row10_col14,#T_b9598cde_0c51_11eb_a69e_0242ac1c0002row11_col15,#T_b9598cde_0c51_11eb_a69e_0242ac1c0002row13_col10{\n",
              "            background-color:  #060606;\n",
              "            color:  #f1f1f1;\n",
              "        }#T_b9598cde_0c51_11eb_a69e_0242ac1c0002row10_col17{\n",
              "            background-color:  #979797;\n",
              "            color:  #000000;\n",
              "        }#T_b9598cde_0c51_11eb_a69e_0242ac1c0002row11_col12{\n",
              "            background-color:  #b6b6b6;\n",
              "            color:  #000000;\n",
              "        }#T_b9598cde_0c51_11eb_a69e_0242ac1c0002row11_col13{\n",
              "            background-color:  #252525;\n",
              "            color:  #f1f1f1;\n",
              "        }#T_b9598cde_0c51_11eb_a69e_0242ac1c0002row11_col16{\n",
              "            background-color:  #999999;\n",
              "            color:  #000000;\n",
              "        }#T_b9598cde_0c51_11eb_a69e_0242ac1c0002row12_col11,#T_b9598cde_0c51_11eb_a69e_0242ac1c0002row22_col12{\n",
              "            background-color:  #101010;\n",
              "            color:  #f1f1f1;\n",
              "        }#T_b9598cde_0c51_11eb_a69e_0242ac1c0002row12_col13,#T_b9598cde_0c51_11eb_a69e_0242ac1c0002row13_col13,#T_b9598cde_0c51_11eb_a69e_0242ac1c0002row21_col14,#T_b9598cde_0c51_11eb_a69e_0242ac1c0002row22_col13,#T_b9598cde_0c51_11eb_a69e_0242ac1c0002row23_col13{\n",
              "            background-color:  #020202;\n",
              "            color:  #f1f1f1;\n",
              "        }#T_b9598cde_0c51_11eb_a69e_0242ac1c0002row13_col9{\n",
              "            background-color:  #f7f7f7;\n",
              "            color:  #000000;\n",
              "        }#T_b9598cde_0c51_11eb_a69e_0242ac1c0002row13_col11,#T_b9598cde_0c51_11eb_a69e_0242ac1c0002row22_col15{\n",
              "            background-color:  #030303;\n",
              "            color:  #f1f1f1;\n",
              "        }#T_b9598cde_0c51_11eb_a69e_0242ac1c0002row13_col16{\n",
              "            background-color:  #181818;\n",
              "            color:  #f1f1f1;\n",
              "        }#T_b9598cde_0c51_11eb_a69e_0242ac1c0002row13_col17{\n",
              "            background-color:  #303030;\n",
              "            color:  #f1f1f1;\n",
              "        }#T_b9598cde_0c51_11eb_a69e_0242ac1c0002row13_col18{\n",
              "            background-color:  #a9a9a9;\n",
              "            color:  #000000;\n",
              "        }#T_b9598cde_0c51_11eb_a69e_0242ac1c0002row13_col19{\n",
              "            background-color:  #fefefe;\n",
              "            color:  #000000;\n",
              "        }#T_b9598cde_0c51_11eb_a69e_0242ac1c0002row14_col12,#T_b9598cde_0c51_11eb_a69e_0242ac1c0002row14_col13,#T_b9598cde_0c51_11eb_a69e_0242ac1c0002row20_col14{\n",
              "            background-color:  #bababa;\n",
              "            color:  #000000;\n",
              "        }#T_b9598cde_0c51_11eb_a69e_0242ac1c0002row14_col14{\n",
              "            background-color:  #393939;\n",
              "            color:  #f1f1f1;\n",
              "        }#T_b9598cde_0c51_11eb_a69e_0242ac1c0002row14_col20{\n",
              "            background-color:  #eaeaea;\n",
              "            color:  #000000;\n",
              "        }#T_b9598cde_0c51_11eb_a69e_0242ac1c0002row15_col15{\n",
              "            background-color:  #e2e2e2;\n",
              "            color:  #000000;\n",
              "        }#T_b9598cde_0c51_11eb_a69e_0242ac1c0002row15_col16{\n",
              "            background-color:  #9f9f9f;\n",
              "            color:  #000000;\n",
              "        }#T_b9598cde_0c51_11eb_a69e_0242ac1c0002row15_col20{\n",
              "            background-color:  #898989;\n",
              "            color:  #000000;\n",
              "        }#T_b9598cde_0c51_11eb_a69e_0242ac1c0002row16_col17{\n",
              "            background-color:  #585858;\n",
              "            color:  #f1f1f1;\n",
              "        }#T_b9598cde_0c51_11eb_a69e_0242ac1c0002row17_col17{\n",
              "            background-color:  #5a5a5a;\n",
              "            color:  #f1f1f1;\n",
              "        }#T_b9598cde_0c51_11eb_a69e_0242ac1c0002row17_col20{\n",
              "            background-color:  #525252;\n",
              "            color:  #f1f1f1;\n",
              "        }#T_b9598cde_0c51_11eb_a69e_0242ac1c0002row18_col16,#T_b9598cde_0c51_11eb_a69e_0242ac1c0002row23_col15{\n",
              "            background-color:  #c5c5c5;\n",
              "            color:  #000000;\n",
              "        }#T_b9598cde_0c51_11eb_a69e_0242ac1c0002row18_col20{\n",
              "            background-color:  #d7d7d7;\n",
              "            color:  #000000;\n",
              "        }#T_b9598cde_0c51_11eb_a69e_0242ac1c0002row19_col15,#T_b9598cde_0c51_11eb_a69e_0242ac1c0002row22_col9{\n",
              "            background-color:  #dcdcdc;\n",
              "            color:  #000000;\n",
              "        }#T_b9598cde_0c51_11eb_a69e_0242ac1c0002row19_col16{\n",
              "            background-color:  #2f2f2f;\n",
              "            color:  #f1f1f1;\n",
              "        }#T_b9598cde_0c51_11eb_a69e_0242ac1c0002row19_col19{\n",
              "            background-color:  #636363;\n",
              "            color:  #f1f1f1;\n",
              "        }#T_b9598cde_0c51_11eb_a69e_0242ac1c0002row20_col15{\n",
              "            background-color:  #070707;\n",
              "            color:  #f1f1f1;\n",
              "        }#T_b9598cde_0c51_11eb_a69e_0242ac1c0002row20_col18{\n",
              "            background-color:  #1f1f1f;\n",
              "            color:  #f1f1f1;\n",
              "        }#T_b9598cde_0c51_11eb_a69e_0242ac1c0002row21_col12,#T_b9598cde_0c51_11eb_a69e_0242ac1c0002row22_col6,#T_b9598cde_0c51_11eb_a69e_0242ac1c0002row22_col8{\n",
              "            background-color:  #e9e9e9;\n",
              "            color:  #000000;\n",
              "        }#T_b9598cde_0c51_11eb_a69e_0242ac1c0002row21_col13{\n",
              "            background-color:  #7d7d7d;\n",
              "            color:  #000000;\n",
              "        }#T_b9598cde_0c51_11eb_a69e_0242ac1c0002row21_col18{\n",
              "            background-color:  #e1e1e1;\n",
              "            color:  #000000;\n",
              "        }#T_b9598cde_0c51_11eb_a69e_0242ac1c0002row22_col7,#T_b9598cde_0c51_11eb_a69e_0242ac1c0002row22_col10{\n",
              "            background-color:  #a4a4a4;\n",
              "            color:  #000000;\n",
              "        }#T_b9598cde_0c51_11eb_a69e_0242ac1c0002row22_col11{\n",
              "            background-color:  #727272;\n",
              "            color:  #000000;\n",
              "        }#T_b9598cde_0c51_11eb_a69e_0242ac1c0002row22_col16{\n",
              "            background-color:  #616161;\n",
              "            color:  #f1f1f1;\n",
              "        }#T_b9598cde_0c51_11eb_a69e_0242ac1c0002row22_col17{\n",
              "            background-color:  #f3f3f3;\n",
              "            color:  #000000;\n",
              "        }#T_b9598cde_0c51_11eb_a69e_0242ac1c0002row23_col14{\n",
              "            background-color:  #484848;\n",
              "            color:  #f1f1f1;\n",
              "        }#T_b9598cde_0c51_11eb_a69e_0242ac1c0002row24_col6{\n",
              "            background-color:  #b3b3b3;\n",
              "            color:  #000000;\n",
              "        }#T_b9598cde_0c51_11eb_a69e_0242ac1c0002row24_col12{\n",
              "            background-color:  #1a1a1a;\n",
              "            color:  #f1f1f1;\n",
              "        }#T_b9598cde_0c51_11eb_a69e_0242ac1c0002row24_col13{\n",
              "            background-color:  #d6d6d6;\n",
              "            color:  #000000;\n",
              "        }</style><table id=\"T_b9598cde_0c51_11eb_a69e_0242ac1c0002\" ><thead>    <tr>        <th class=\"blank level0\" ></th>        <th class=\"col_heading level0 col0\" >0</th>        <th class=\"col_heading level0 col1\" >1</th>        <th class=\"col_heading level0 col2\" >2</th>        <th class=\"col_heading level0 col3\" >3</th>        <th class=\"col_heading level0 col4\" >4</th>        <th class=\"col_heading level0 col5\" >5</th>        <th class=\"col_heading level0 col6\" >6</th>        <th class=\"col_heading level0 col7\" >7</th>        <th class=\"col_heading level0 col8\" >8</th>        <th class=\"col_heading level0 col9\" >9</th>        <th class=\"col_heading level0 col10\" >10</th>        <th class=\"col_heading level0 col11\" >11</th>        <th class=\"col_heading level0 col12\" >12</th>        <th class=\"col_heading level0 col13\" >13</th>        <th class=\"col_heading level0 col14\" >14</th>        <th class=\"col_heading level0 col15\" >15</th>        <th class=\"col_heading level0 col16\" >16</th>        <th class=\"col_heading level0 col17\" >17</th>        <th class=\"col_heading level0 col18\" >18</th>        <th class=\"col_heading level0 col19\" >19</th>        <th class=\"col_heading level0 col20\" >20</th>        <th class=\"col_heading level0 col21\" >21</th>        <th class=\"col_heading level0 col22\" >22</th>        <th class=\"col_heading level0 col23\" >23</th>        <th class=\"col_heading level0 col24\" >24</th>        <th class=\"col_heading level0 col25\" >25</th>        <th class=\"col_heading level0 col26\" >26</th>        <th class=\"col_heading level0 col27\" >27</th>    </tr></thead><tbody>\n",
              "                <tr>\n",
              "                        <th id=\"T_b9598cde_0c51_11eb_a69e_0242ac1c0002level0_row0\" class=\"row_heading level0 row0\" >0</th>\n",
              "                        <td id=\"T_b9598cde_0c51_11eb_a69e_0242ac1c0002row0_col0\" class=\"data row0 col0\" >0</td>\n",
              "                        <td id=\"T_b9598cde_0c51_11eb_a69e_0242ac1c0002row0_col1\" class=\"data row0 col1\" >0</td>\n",
              "                        <td id=\"T_b9598cde_0c51_11eb_a69e_0242ac1c0002row0_col2\" class=\"data row0 col2\" >0</td>\n",
              "                        <td id=\"T_b9598cde_0c51_11eb_a69e_0242ac1c0002row0_col3\" class=\"data row0 col3\" >0</td>\n",
              "                        <td id=\"T_b9598cde_0c51_11eb_a69e_0242ac1c0002row0_col4\" class=\"data row0 col4\" >0</td>\n",
              "                        <td id=\"T_b9598cde_0c51_11eb_a69e_0242ac1c0002row0_col5\" class=\"data row0 col5\" >0</td>\n",
              "                        <td id=\"T_b9598cde_0c51_11eb_a69e_0242ac1c0002row0_col6\" class=\"data row0 col6\" >0</td>\n",
              "                        <td id=\"T_b9598cde_0c51_11eb_a69e_0242ac1c0002row0_col7\" class=\"data row0 col7\" >0</td>\n",
              "                        <td id=\"T_b9598cde_0c51_11eb_a69e_0242ac1c0002row0_col8\" class=\"data row0 col8\" >0</td>\n",
              "                        <td id=\"T_b9598cde_0c51_11eb_a69e_0242ac1c0002row0_col9\" class=\"data row0 col9\" >0</td>\n",
              "                        <td id=\"T_b9598cde_0c51_11eb_a69e_0242ac1c0002row0_col10\" class=\"data row0 col10\" >0</td>\n",
              "                        <td id=\"T_b9598cde_0c51_11eb_a69e_0242ac1c0002row0_col11\" class=\"data row0 col11\" >0</td>\n",
              "                        <td id=\"T_b9598cde_0c51_11eb_a69e_0242ac1c0002row0_col12\" class=\"data row0 col12\" >0</td>\n",
              "                        <td id=\"T_b9598cde_0c51_11eb_a69e_0242ac1c0002row0_col13\" class=\"data row0 col13\" >0</td>\n",
              "                        <td id=\"T_b9598cde_0c51_11eb_a69e_0242ac1c0002row0_col14\" class=\"data row0 col14\" >0</td>\n",
              "                        <td id=\"T_b9598cde_0c51_11eb_a69e_0242ac1c0002row0_col15\" class=\"data row0 col15\" >0</td>\n",
              "                        <td id=\"T_b9598cde_0c51_11eb_a69e_0242ac1c0002row0_col16\" class=\"data row0 col16\" >0</td>\n",
              "                        <td id=\"T_b9598cde_0c51_11eb_a69e_0242ac1c0002row0_col17\" class=\"data row0 col17\" >0</td>\n",
              "                        <td id=\"T_b9598cde_0c51_11eb_a69e_0242ac1c0002row0_col18\" class=\"data row0 col18\" >0</td>\n",
              "                        <td id=\"T_b9598cde_0c51_11eb_a69e_0242ac1c0002row0_col19\" class=\"data row0 col19\" >0</td>\n",
              "                        <td id=\"T_b9598cde_0c51_11eb_a69e_0242ac1c0002row0_col20\" class=\"data row0 col20\" >0</td>\n",
              "                        <td id=\"T_b9598cde_0c51_11eb_a69e_0242ac1c0002row0_col21\" class=\"data row0 col21\" >0</td>\n",
              "                        <td id=\"T_b9598cde_0c51_11eb_a69e_0242ac1c0002row0_col22\" class=\"data row0 col22\" >0</td>\n",
              "                        <td id=\"T_b9598cde_0c51_11eb_a69e_0242ac1c0002row0_col23\" class=\"data row0 col23\" >0</td>\n",
              "                        <td id=\"T_b9598cde_0c51_11eb_a69e_0242ac1c0002row0_col24\" class=\"data row0 col24\" >0</td>\n",
              "                        <td id=\"T_b9598cde_0c51_11eb_a69e_0242ac1c0002row0_col25\" class=\"data row0 col25\" >0</td>\n",
              "                        <td id=\"T_b9598cde_0c51_11eb_a69e_0242ac1c0002row0_col26\" class=\"data row0 col26\" >0</td>\n",
              "                        <td id=\"T_b9598cde_0c51_11eb_a69e_0242ac1c0002row0_col27\" class=\"data row0 col27\" >0</td>\n",
              "            </tr>\n",
              "            <tr>\n",
              "                        <th id=\"T_b9598cde_0c51_11eb_a69e_0242ac1c0002level0_row1\" class=\"row_heading level0 row1\" >1</th>\n",
              "                        <td id=\"T_b9598cde_0c51_11eb_a69e_0242ac1c0002row1_col0\" class=\"data row1 col0\" >0</td>\n",
              "                        <td id=\"T_b9598cde_0c51_11eb_a69e_0242ac1c0002row1_col1\" class=\"data row1 col1\" >0</td>\n",
              "                        <td id=\"T_b9598cde_0c51_11eb_a69e_0242ac1c0002row1_col2\" class=\"data row1 col2\" >0</td>\n",
              "                        <td id=\"T_b9598cde_0c51_11eb_a69e_0242ac1c0002row1_col3\" class=\"data row1 col3\" >0</td>\n",
              "                        <td id=\"T_b9598cde_0c51_11eb_a69e_0242ac1c0002row1_col4\" class=\"data row1 col4\" >0</td>\n",
              "                        <td id=\"T_b9598cde_0c51_11eb_a69e_0242ac1c0002row1_col5\" class=\"data row1 col5\" >0</td>\n",
              "                        <td id=\"T_b9598cde_0c51_11eb_a69e_0242ac1c0002row1_col6\" class=\"data row1 col6\" >0</td>\n",
              "                        <td id=\"T_b9598cde_0c51_11eb_a69e_0242ac1c0002row1_col7\" class=\"data row1 col7\" >0</td>\n",
              "                        <td id=\"T_b9598cde_0c51_11eb_a69e_0242ac1c0002row1_col8\" class=\"data row1 col8\" >0</td>\n",
              "                        <td id=\"T_b9598cde_0c51_11eb_a69e_0242ac1c0002row1_col9\" class=\"data row1 col9\" >0</td>\n",
              "                        <td id=\"T_b9598cde_0c51_11eb_a69e_0242ac1c0002row1_col10\" class=\"data row1 col10\" >0</td>\n",
              "                        <td id=\"T_b9598cde_0c51_11eb_a69e_0242ac1c0002row1_col11\" class=\"data row1 col11\" >0</td>\n",
              "                        <td id=\"T_b9598cde_0c51_11eb_a69e_0242ac1c0002row1_col12\" class=\"data row1 col12\" >0</td>\n",
              "                        <td id=\"T_b9598cde_0c51_11eb_a69e_0242ac1c0002row1_col13\" class=\"data row1 col13\" >0</td>\n",
              "                        <td id=\"T_b9598cde_0c51_11eb_a69e_0242ac1c0002row1_col14\" class=\"data row1 col14\" >0</td>\n",
              "                        <td id=\"T_b9598cde_0c51_11eb_a69e_0242ac1c0002row1_col15\" class=\"data row1 col15\" >0</td>\n",
              "                        <td id=\"T_b9598cde_0c51_11eb_a69e_0242ac1c0002row1_col16\" class=\"data row1 col16\" >0</td>\n",
              "                        <td id=\"T_b9598cde_0c51_11eb_a69e_0242ac1c0002row1_col17\" class=\"data row1 col17\" >0</td>\n",
              "                        <td id=\"T_b9598cde_0c51_11eb_a69e_0242ac1c0002row1_col18\" class=\"data row1 col18\" >0</td>\n",
              "                        <td id=\"T_b9598cde_0c51_11eb_a69e_0242ac1c0002row1_col19\" class=\"data row1 col19\" >0</td>\n",
              "                        <td id=\"T_b9598cde_0c51_11eb_a69e_0242ac1c0002row1_col20\" class=\"data row1 col20\" >0</td>\n",
              "                        <td id=\"T_b9598cde_0c51_11eb_a69e_0242ac1c0002row1_col21\" class=\"data row1 col21\" >0</td>\n",
              "                        <td id=\"T_b9598cde_0c51_11eb_a69e_0242ac1c0002row1_col22\" class=\"data row1 col22\" >0</td>\n",
              "                        <td id=\"T_b9598cde_0c51_11eb_a69e_0242ac1c0002row1_col23\" class=\"data row1 col23\" >0</td>\n",
              "                        <td id=\"T_b9598cde_0c51_11eb_a69e_0242ac1c0002row1_col24\" class=\"data row1 col24\" >0</td>\n",
              "                        <td id=\"T_b9598cde_0c51_11eb_a69e_0242ac1c0002row1_col25\" class=\"data row1 col25\" >0</td>\n",
              "                        <td id=\"T_b9598cde_0c51_11eb_a69e_0242ac1c0002row1_col26\" class=\"data row1 col26\" >0</td>\n",
              "                        <td id=\"T_b9598cde_0c51_11eb_a69e_0242ac1c0002row1_col27\" class=\"data row1 col27\" >0</td>\n",
              "            </tr>\n",
              "            <tr>\n",
              "                        <th id=\"T_b9598cde_0c51_11eb_a69e_0242ac1c0002level0_row2\" class=\"row_heading level0 row2\" >2</th>\n",
              "                        <td id=\"T_b9598cde_0c51_11eb_a69e_0242ac1c0002row2_col0\" class=\"data row2 col0\" >0</td>\n",
              "                        <td id=\"T_b9598cde_0c51_11eb_a69e_0242ac1c0002row2_col1\" class=\"data row2 col1\" >0</td>\n",
              "                        <td id=\"T_b9598cde_0c51_11eb_a69e_0242ac1c0002row2_col2\" class=\"data row2 col2\" >0</td>\n",
              "                        <td id=\"T_b9598cde_0c51_11eb_a69e_0242ac1c0002row2_col3\" class=\"data row2 col3\" >0</td>\n",
              "                        <td id=\"T_b9598cde_0c51_11eb_a69e_0242ac1c0002row2_col4\" class=\"data row2 col4\" >0</td>\n",
              "                        <td id=\"T_b9598cde_0c51_11eb_a69e_0242ac1c0002row2_col5\" class=\"data row2 col5\" >0</td>\n",
              "                        <td id=\"T_b9598cde_0c51_11eb_a69e_0242ac1c0002row2_col6\" class=\"data row2 col6\" >0</td>\n",
              "                        <td id=\"T_b9598cde_0c51_11eb_a69e_0242ac1c0002row2_col7\" class=\"data row2 col7\" >0</td>\n",
              "                        <td id=\"T_b9598cde_0c51_11eb_a69e_0242ac1c0002row2_col8\" class=\"data row2 col8\" >0</td>\n",
              "                        <td id=\"T_b9598cde_0c51_11eb_a69e_0242ac1c0002row2_col9\" class=\"data row2 col9\" >0</td>\n",
              "                        <td id=\"T_b9598cde_0c51_11eb_a69e_0242ac1c0002row2_col10\" class=\"data row2 col10\" >0</td>\n",
              "                        <td id=\"T_b9598cde_0c51_11eb_a69e_0242ac1c0002row2_col11\" class=\"data row2 col11\" >0</td>\n",
              "                        <td id=\"T_b9598cde_0c51_11eb_a69e_0242ac1c0002row2_col12\" class=\"data row2 col12\" >0</td>\n",
              "                        <td id=\"T_b9598cde_0c51_11eb_a69e_0242ac1c0002row2_col13\" class=\"data row2 col13\" >0</td>\n",
              "                        <td id=\"T_b9598cde_0c51_11eb_a69e_0242ac1c0002row2_col14\" class=\"data row2 col14\" >0</td>\n",
              "                        <td id=\"T_b9598cde_0c51_11eb_a69e_0242ac1c0002row2_col15\" class=\"data row2 col15\" >0</td>\n",
              "                        <td id=\"T_b9598cde_0c51_11eb_a69e_0242ac1c0002row2_col16\" class=\"data row2 col16\" >0</td>\n",
              "                        <td id=\"T_b9598cde_0c51_11eb_a69e_0242ac1c0002row2_col17\" class=\"data row2 col17\" >0</td>\n",
              "                        <td id=\"T_b9598cde_0c51_11eb_a69e_0242ac1c0002row2_col18\" class=\"data row2 col18\" >0</td>\n",
              "                        <td id=\"T_b9598cde_0c51_11eb_a69e_0242ac1c0002row2_col19\" class=\"data row2 col19\" >0</td>\n",
              "                        <td id=\"T_b9598cde_0c51_11eb_a69e_0242ac1c0002row2_col20\" class=\"data row2 col20\" >0</td>\n",
              "                        <td id=\"T_b9598cde_0c51_11eb_a69e_0242ac1c0002row2_col21\" class=\"data row2 col21\" >0</td>\n",
              "                        <td id=\"T_b9598cde_0c51_11eb_a69e_0242ac1c0002row2_col22\" class=\"data row2 col22\" >0</td>\n",
              "                        <td id=\"T_b9598cde_0c51_11eb_a69e_0242ac1c0002row2_col23\" class=\"data row2 col23\" >0</td>\n",
              "                        <td id=\"T_b9598cde_0c51_11eb_a69e_0242ac1c0002row2_col24\" class=\"data row2 col24\" >0</td>\n",
              "                        <td id=\"T_b9598cde_0c51_11eb_a69e_0242ac1c0002row2_col25\" class=\"data row2 col25\" >0</td>\n",
              "                        <td id=\"T_b9598cde_0c51_11eb_a69e_0242ac1c0002row2_col26\" class=\"data row2 col26\" >0</td>\n",
              "                        <td id=\"T_b9598cde_0c51_11eb_a69e_0242ac1c0002row2_col27\" class=\"data row2 col27\" >0</td>\n",
              "            </tr>\n",
              "            <tr>\n",
              "                        <th id=\"T_b9598cde_0c51_11eb_a69e_0242ac1c0002level0_row3\" class=\"row_heading level0 row3\" >3</th>\n",
              "                        <td id=\"T_b9598cde_0c51_11eb_a69e_0242ac1c0002row3_col0\" class=\"data row3 col0\" >0</td>\n",
              "                        <td id=\"T_b9598cde_0c51_11eb_a69e_0242ac1c0002row3_col1\" class=\"data row3 col1\" >0</td>\n",
              "                        <td id=\"T_b9598cde_0c51_11eb_a69e_0242ac1c0002row3_col2\" class=\"data row3 col2\" >0</td>\n",
              "                        <td id=\"T_b9598cde_0c51_11eb_a69e_0242ac1c0002row3_col3\" class=\"data row3 col3\" >0</td>\n",
              "                        <td id=\"T_b9598cde_0c51_11eb_a69e_0242ac1c0002row3_col4\" class=\"data row3 col4\" >0</td>\n",
              "                        <td id=\"T_b9598cde_0c51_11eb_a69e_0242ac1c0002row3_col5\" class=\"data row3 col5\" >0</td>\n",
              "                        <td id=\"T_b9598cde_0c51_11eb_a69e_0242ac1c0002row3_col6\" class=\"data row3 col6\" >0</td>\n",
              "                        <td id=\"T_b9598cde_0c51_11eb_a69e_0242ac1c0002row3_col7\" class=\"data row3 col7\" >0</td>\n",
              "                        <td id=\"T_b9598cde_0c51_11eb_a69e_0242ac1c0002row3_col8\" class=\"data row3 col8\" >0</td>\n",
              "                        <td id=\"T_b9598cde_0c51_11eb_a69e_0242ac1c0002row3_col9\" class=\"data row3 col9\" >0</td>\n",
              "                        <td id=\"T_b9598cde_0c51_11eb_a69e_0242ac1c0002row3_col10\" class=\"data row3 col10\" >0</td>\n",
              "                        <td id=\"T_b9598cde_0c51_11eb_a69e_0242ac1c0002row3_col11\" class=\"data row3 col11\" >0</td>\n",
              "                        <td id=\"T_b9598cde_0c51_11eb_a69e_0242ac1c0002row3_col12\" class=\"data row3 col12\" >0</td>\n",
              "                        <td id=\"T_b9598cde_0c51_11eb_a69e_0242ac1c0002row3_col13\" class=\"data row3 col13\" >0</td>\n",
              "                        <td id=\"T_b9598cde_0c51_11eb_a69e_0242ac1c0002row3_col14\" class=\"data row3 col14\" >0</td>\n",
              "                        <td id=\"T_b9598cde_0c51_11eb_a69e_0242ac1c0002row3_col15\" class=\"data row3 col15\" >0</td>\n",
              "                        <td id=\"T_b9598cde_0c51_11eb_a69e_0242ac1c0002row3_col16\" class=\"data row3 col16\" >0</td>\n",
              "                        <td id=\"T_b9598cde_0c51_11eb_a69e_0242ac1c0002row3_col17\" class=\"data row3 col17\" >0</td>\n",
              "                        <td id=\"T_b9598cde_0c51_11eb_a69e_0242ac1c0002row3_col18\" class=\"data row3 col18\" >0</td>\n",
              "                        <td id=\"T_b9598cde_0c51_11eb_a69e_0242ac1c0002row3_col19\" class=\"data row3 col19\" >0</td>\n",
              "                        <td id=\"T_b9598cde_0c51_11eb_a69e_0242ac1c0002row3_col20\" class=\"data row3 col20\" >0</td>\n",
              "                        <td id=\"T_b9598cde_0c51_11eb_a69e_0242ac1c0002row3_col21\" class=\"data row3 col21\" >0</td>\n",
              "                        <td id=\"T_b9598cde_0c51_11eb_a69e_0242ac1c0002row3_col22\" class=\"data row3 col22\" >0</td>\n",
              "                        <td id=\"T_b9598cde_0c51_11eb_a69e_0242ac1c0002row3_col23\" class=\"data row3 col23\" >0</td>\n",
              "                        <td id=\"T_b9598cde_0c51_11eb_a69e_0242ac1c0002row3_col24\" class=\"data row3 col24\" >0</td>\n",
              "                        <td id=\"T_b9598cde_0c51_11eb_a69e_0242ac1c0002row3_col25\" class=\"data row3 col25\" >0</td>\n",
              "                        <td id=\"T_b9598cde_0c51_11eb_a69e_0242ac1c0002row3_col26\" class=\"data row3 col26\" >0</td>\n",
              "                        <td id=\"T_b9598cde_0c51_11eb_a69e_0242ac1c0002row3_col27\" class=\"data row3 col27\" >0</td>\n",
              "            </tr>\n",
              "            <tr>\n",
              "                        <th id=\"T_b9598cde_0c51_11eb_a69e_0242ac1c0002level0_row4\" class=\"row_heading level0 row4\" >4</th>\n",
              "                        <td id=\"T_b9598cde_0c51_11eb_a69e_0242ac1c0002row4_col0\" class=\"data row4 col0\" >0</td>\n",
              "                        <td id=\"T_b9598cde_0c51_11eb_a69e_0242ac1c0002row4_col1\" class=\"data row4 col1\" >0</td>\n",
              "                        <td id=\"T_b9598cde_0c51_11eb_a69e_0242ac1c0002row4_col2\" class=\"data row4 col2\" >0</td>\n",
              "                        <td id=\"T_b9598cde_0c51_11eb_a69e_0242ac1c0002row4_col3\" class=\"data row4 col3\" >0</td>\n",
              "                        <td id=\"T_b9598cde_0c51_11eb_a69e_0242ac1c0002row4_col4\" class=\"data row4 col4\" >0</td>\n",
              "                        <td id=\"T_b9598cde_0c51_11eb_a69e_0242ac1c0002row4_col5\" class=\"data row4 col5\" >0</td>\n",
              "                        <td id=\"T_b9598cde_0c51_11eb_a69e_0242ac1c0002row4_col6\" class=\"data row4 col6\" >0</td>\n",
              "                        <td id=\"T_b9598cde_0c51_11eb_a69e_0242ac1c0002row4_col7\" class=\"data row4 col7\" >0</td>\n",
              "                        <td id=\"T_b9598cde_0c51_11eb_a69e_0242ac1c0002row4_col8\" class=\"data row4 col8\" >0</td>\n",
              "                        <td id=\"T_b9598cde_0c51_11eb_a69e_0242ac1c0002row4_col9\" class=\"data row4 col9\" >0</td>\n",
              "                        <td id=\"T_b9598cde_0c51_11eb_a69e_0242ac1c0002row4_col10\" class=\"data row4 col10\" >0</td>\n",
              "                        <td id=\"T_b9598cde_0c51_11eb_a69e_0242ac1c0002row4_col11\" class=\"data row4 col11\" >0</td>\n",
              "                        <td id=\"T_b9598cde_0c51_11eb_a69e_0242ac1c0002row4_col12\" class=\"data row4 col12\" >0</td>\n",
              "                        <td id=\"T_b9598cde_0c51_11eb_a69e_0242ac1c0002row4_col13\" class=\"data row4 col13\" >0</td>\n",
              "                        <td id=\"T_b9598cde_0c51_11eb_a69e_0242ac1c0002row4_col14\" class=\"data row4 col14\" >0</td>\n",
              "                        <td id=\"T_b9598cde_0c51_11eb_a69e_0242ac1c0002row4_col15\" class=\"data row4 col15\" >0</td>\n",
              "                        <td id=\"T_b9598cde_0c51_11eb_a69e_0242ac1c0002row4_col16\" class=\"data row4 col16\" >0</td>\n",
              "                        <td id=\"T_b9598cde_0c51_11eb_a69e_0242ac1c0002row4_col17\" class=\"data row4 col17\" >0</td>\n",
              "                        <td id=\"T_b9598cde_0c51_11eb_a69e_0242ac1c0002row4_col18\" class=\"data row4 col18\" >0</td>\n",
              "                        <td id=\"T_b9598cde_0c51_11eb_a69e_0242ac1c0002row4_col19\" class=\"data row4 col19\" >0</td>\n",
              "                        <td id=\"T_b9598cde_0c51_11eb_a69e_0242ac1c0002row4_col20\" class=\"data row4 col20\" >0</td>\n",
              "                        <td id=\"T_b9598cde_0c51_11eb_a69e_0242ac1c0002row4_col21\" class=\"data row4 col21\" >0</td>\n",
              "                        <td id=\"T_b9598cde_0c51_11eb_a69e_0242ac1c0002row4_col22\" class=\"data row4 col22\" >0</td>\n",
              "                        <td id=\"T_b9598cde_0c51_11eb_a69e_0242ac1c0002row4_col23\" class=\"data row4 col23\" >0</td>\n",
              "                        <td id=\"T_b9598cde_0c51_11eb_a69e_0242ac1c0002row4_col24\" class=\"data row4 col24\" >0</td>\n",
              "                        <td id=\"T_b9598cde_0c51_11eb_a69e_0242ac1c0002row4_col25\" class=\"data row4 col25\" >0</td>\n",
              "                        <td id=\"T_b9598cde_0c51_11eb_a69e_0242ac1c0002row4_col26\" class=\"data row4 col26\" >0</td>\n",
              "                        <td id=\"T_b9598cde_0c51_11eb_a69e_0242ac1c0002row4_col27\" class=\"data row4 col27\" >0</td>\n",
              "            </tr>\n",
              "            <tr>\n",
              "                        <th id=\"T_b9598cde_0c51_11eb_a69e_0242ac1c0002level0_row5\" class=\"row_heading level0 row5\" >5</th>\n",
              "                        <td id=\"T_b9598cde_0c51_11eb_a69e_0242ac1c0002row5_col0\" class=\"data row5 col0\" >0</td>\n",
              "                        <td id=\"T_b9598cde_0c51_11eb_a69e_0242ac1c0002row5_col1\" class=\"data row5 col1\" >0</td>\n",
              "                        <td id=\"T_b9598cde_0c51_11eb_a69e_0242ac1c0002row5_col2\" class=\"data row5 col2\" >0</td>\n",
              "                        <td id=\"T_b9598cde_0c51_11eb_a69e_0242ac1c0002row5_col3\" class=\"data row5 col3\" >0</td>\n",
              "                        <td id=\"T_b9598cde_0c51_11eb_a69e_0242ac1c0002row5_col4\" class=\"data row5 col4\" >0</td>\n",
              "                        <td id=\"T_b9598cde_0c51_11eb_a69e_0242ac1c0002row5_col5\" class=\"data row5 col5\" >0</td>\n",
              "                        <td id=\"T_b9598cde_0c51_11eb_a69e_0242ac1c0002row5_col6\" class=\"data row5 col6\" >0</td>\n",
              "                        <td id=\"T_b9598cde_0c51_11eb_a69e_0242ac1c0002row5_col7\" class=\"data row5 col7\" >0</td>\n",
              "                        <td id=\"T_b9598cde_0c51_11eb_a69e_0242ac1c0002row5_col8\" class=\"data row5 col8\" >0</td>\n",
              "                        <td id=\"T_b9598cde_0c51_11eb_a69e_0242ac1c0002row5_col9\" class=\"data row5 col9\" >29</td>\n",
              "                        <td id=\"T_b9598cde_0c51_11eb_a69e_0242ac1c0002row5_col10\" class=\"data row5 col10\" >150</td>\n",
              "                        <td id=\"T_b9598cde_0c51_11eb_a69e_0242ac1c0002row5_col11\" class=\"data row5 col11\" >195</td>\n",
              "                        <td id=\"T_b9598cde_0c51_11eb_a69e_0242ac1c0002row5_col12\" class=\"data row5 col12\" >254</td>\n",
              "                        <td id=\"T_b9598cde_0c51_11eb_a69e_0242ac1c0002row5_col13\" class=\"data row5 col13\" >255</td>\n",
              "                        <td id=\"T_b9598cde_0c51_11eb_a69e_0242ac1c0002row5_col14\" class=\"data row5 col14\" >254</td>\n",
              "                        <td id=\"T_b9598cde_0c51_11eb_a69e_0242ac1c0002row5_col15\" class=\"data row5 col15\" >176</td>\n",
              "                        <td id=\"T_b9598cde_0c51_11eb_a69e_0242ac1c0002row5_col16\" class=\"data row5 col16\" >193</td>\n",
              "                        <td id=\"T_b9598cde_0c51_11eb_a69e_0242ac1c0002row5_col17\" class=\"data row5 col17\" >150</td>\n",
              "                        <td id=\"T_b9598cde_0c51_11eb_a69e_0242ac1c0002row5_col18\" class=\"data row5 col18\" >96</td>\n",
              "                        <td id=\"T_b9598cde_0c51_11eb_a69e_0242ac1c0002row5_col19\" class=\"data row5 col19\" >0</td>\n",
              "                        <td id=\"T_b9598cde_0c51_11eb_a69e_0242ac1c0002row5_col20\" class=\"data row5 col20\" >0</td>\n",
              "                        <td id=\"T_b9598cde_0c51_11eb_a69e_0242ac1c0002row5_col21\" class=\"data row5 col21\" >0</td>\n",
              "                        <td id=\"T_b9598cde_0c51_11eb_a69e_0242ac1c0002row5_col22\" class=\"data row5 col22\" >0</td>\n",
              "                        <td id=\"T_b9598cde_0c51_11eb_a69e_0242ac1c0002row5_col23\" class=\"data row5 col23\" >0</td>\n",
              "                        <td id=\"T_b9598cde_0c51_11eb_a69e_0242ac1c0002row5_col24\" class=\"data row5 col24\" >0</td>\n",
              "                        <td id=\"T_b9598cde_0c51_11eb_a69e_0242ac1c0002row5_col25\" class=\"data row5 col25\" >0</td>\n",
              "                        <td id=\"T_b9598cde_0c51_11eb_a69e_0242ac1c0002row5_col26\" class=\"data row5 col26\" >0</td>\n",
              "                        <td id=\"T_b9598cde_0c51_11eb_a69e_0242ac1c0002row5_col27\" class=\"data row5 col27\" >0</td>\n",
              "            </tr>\n",
              "            <tr>\n",
              "                        <th id=\"T_b9598cde_0c51_11eb_a69e_0242ac1c0002level0_row6\" class=\"row_heading level0 row6\" >6</th>\n",
              "                        <td id=\"T_b9598cde_0c51_11eb_a69e_0242ac1c0002row6_col0\" class=\"data row6 col0\" >0</td>\n",
              "                        <td id=\"T_b9598cde_0c51_11eb_a69e_0242ac1c0002row6_col1\" class=\"data row6 col1\" >0</td>\n",
              "                        <td id=\"T_b9598cde_0c51_11eb_a69e_0242ac1c0002row6_col2\" class=\"data row6 col2\" >0</td>\n",
              "                        <td id=\"T_b9598cde_0c51_11eb_a69e_0242ac1c0002row6_col3\" class=\"data row6 col3\" >0</td>\n",
              "                        <td id=\"T_b9598cde_0c51_11eb_a69e_0242ac1c0002row6_col4\" class=\"data row6 col4\" >0</td>\n",
              "                        <td id=\"T_b9598cde_0c51_11eb_a69e_0242ac1c0002row6_col5\" class=\"data row6 col5\" >0</td>\n",
              "                        <td id=\"T_b9598cde_0c51_11eb_a69e_0242ac1c0002row6_col6\" class=\"data row6 col6\" >0</td>\n",
              "                        <td id=\"T_b9598cde_0c51_11eb_a69e_0242ac1c0002row6_col7\" class=\"data row6 col7\" >48</td>\n",
              "                        <td id=\"T_b9598cde_0c51_11eb_a69e_0242ac1c0002row6_col8\" class=\"data row6 col8\" >166</td>\n",
              "                        <td id=\"T_b9598cde_0c51_11eb_a69e_0242ac1c0002row6_col9\" class=\"data row6 col9\" >224</td>\n",
              "                        <td id=\"T_b9598cde_0c51_11eb_a69e_0242ac1c0002row6_col10\" class=\"data row6 col10\" >253</td>\n",
              "                        <td id=\"T_b9598cde_0c51_11eb_a69e_0242ac1c0002row6_col11\" class=\"data row6 col11\" >253</td>\n",
              "                        <td id=\"T_b9598cde_0c51_11eb_a69e_0242ac1c0002row6_col12\" class=\"data row6 col12\" >234</td>\n",
              "                        <td id=\"T_b9598cde_0c51_11eb_a69e_0242ac1c0002row6_col13\" class=\"data row6 col13\" >196</td>\n",
              "                        <td id=\"T_b9598cde_0c51_11eb_a69e_0242ac1c0002row6_col14\" class=\"data row6 col14\" >253</td>\n",
              "                        <td id=\"T_b9598cde_0c51_11eb_a69e_0242ac1c0002row6_col15\" class=\"data row6 col15\" >253</td>\n",
              "                        <td id=\"T_b9598cde_0c51_11eb_a69e_0242ac1c0002row6_col16\" class=\"data row6 col16\" >253</td>\n",
              "                        <td id=\"T_b9598cde_0c51_11eb_a69e_0242ac1c0002row6_col17\" class=\"data row6 col17\" >253</td>\n",
              "                        <td id=\"T_b9598cde_0c51_11eb_a69e_0242ac1c0002row6_col18\" class=\"data row6 col18\" >233</td>\n",
              "                        <td id=\"T_b9598cde_0c51_11eb_a69e_0242ac1c0002row6_col19\" class=\"data row6 col19\" >0</td>\n",
              "                        <td id=\"T_b9598cde_0c51_11eb_a69e_0242ac1c0002row6_col20\" class=\"data row6 col20\" >0</td>\n",
              "                        <td id=\"T_b9598cde_0c51_11eb_a69e_0242ac1c0002row6_col21\" class=\"data row6 col21\" >0</td>\n",
              "                        <td id=\"T_b9598cde_0c51_11eb_a69e_0242ac1c0002row6_col22\" class=\"data row6 col22\" >0</td>\n",
              "                        <td id=\"T_b9598cde_0c51_11eb_a69e_0242ac1c0002row6_col23\" class=\"data row6 col23\" >0</td>\n",
              "                        <td id=\"T_b9598cde_0c51_11eb_a69e_0242ac1c0002row6_col24\" class=\"data row6 col24\" >0</td>\n",
              "                        <td id=\"T_b9598cde_0c51_11eb_a69e_0242ac1c0002row6_col25\" class=\"data row6 col25\" >0</td>\n",
              "                        <td id=\"T_b9598cde_0c51_11eb_a69e_0242ac1c0002row6_col26\" class=\"data row6 col26\" >0</td>\n",
              "                        <td id=\"T_b9598cde_0c51_11eb_a69e_0242ac1c0002row6_col27\" class=\"data row6 col27\" >0</td>\n",
              "            </tr>\n",
              "            <tr>\n",
              "                        <th id=\"T_b9598cde_0c51_11eb_a69e_0242ac1c0002level0_row7\" class=\"row_heading level0 row7\" >7</th>\n",
              "                        <td id=\"T_b9598cde_0c51_11eb_a69e_0242ac1c0002row7_col0\" class=\"data row7 col0\" >0</td>\n",
              "                        <td id=\"T_b9598cde_0c51_11eb_a69e_0242ac1c0002row7_col1\" class=\"data row7 col1\" >0</td>\n",
              "                        <td id=\"T_b9598cde_0c51_11eb_a69e_0242ac1c0002row7_col2\" class=\"data row7 col2\" >0</td>\n",
              "                        <td id=\"T_b9598cde_0c51_11eb_a69e_0242ac1c0002row7_col3\" class=\"data row7 col3\" >0</td>\n",
              "                        <td id=\"T_b9598cde_0c51_11eb_a69e_0242ac1c0002row7_col4\" class=\"data row7 col4\" >0</td>\n",
              "                        <td id=\"T_b9598cde_0c51_11eb_a69e_0242ac1c0002row7_col5\" class=\"data row7 col5\" >93</td>\n",
              "                        <td id=\"T_b9598cde_0c51_11eb_a69e_0242ac1c0002row7_col6\" class=\"data row7 col6\" >244</td>\n",
              "                        <td id=\"T_b9598cde_0c51_11eb_a69e_0242ac1c0002row7_col7\" class=\"data row7 col7\" >249</td>\n",
              "                        <td id=\"T_b9598cde_0c51_11eb_a69e_0242ac1c0002row7_col8\" class=\"data row7 col8\" >253</td>\n",
              "                        <td id=\"T_b9598cde_0c51_11eb_a69e_0242ac1c0002row7_col9\" class=\"data row7 col9\" >187</td>\n",
              "                        <td id=\"T_b9598cde_0c51_11eb_a69e_0242ac1c0002row7_col10\" class=\"data row7 col10\" >46</td>\n",
              "                        <td id=\"T_b9598cde_0c51_11eb_a69e_0242ac1c0002row7_col11\" class=\"data row7 col11\" >10</td>\n",
              "                        <td id=\"T_b9598cde_0c51_11eb_a69e_0242ac1c0002row7_col12\" class=\"data row7 col12\" >8</td>\n",
              "                        <td id=\"T_b9598cde_0c51_11eb_a69e_0242ac1c0002row7_col13\" class=\"data row7 col13\" >4</td>\n",
              "                        <td id=\"T_b9598cde_0c51_11eb_a69e_0242ac1c0002row7_col14\" class=\"data row7 col14\" >10</td>\n",
              "                        <td id=\"T_b9598cde_0c51_11eb_a69e_0242ac1c0002row7_col15\" class=\"data row7 col15\" >194</td>\n",
              "                        <td id=\"T_b9598cde_0c51_11eb_a69e_0242ac1c0002row7_col16\" class=\"data row7 col16\" >253</td>\n",
              "                        <td id=\"T_b9598cde_0c51_11eb_a69e_0242ac1c0002row7_col17\" class=\"data row7 col17\" >253</td>\n",
              "                        <td id=\"T_b9598cde_0c51_11eb_a69e_0242ac1c0002row7_col18\" class=\"data row7 col18\" >233</td>\n",
              "                        <td id=\"T_b9598cde_0c51_11eb_a69e_0242ac1c0002row7_col19\" class=\"data row7 col19\" >0</td>\n",
              "                        <td id=\"T_b9598cde_0c51_11eb_a69e_0242ac1c0002row7_col20\" class=\"data row7 col20\" >0</td>\n",
              "                        <td id=\"T_b9598cde_0c51_11eb_a69e_0242ac1c0002row7_col21\" class=\"data row7 col21\" >0</td>\n",
              "                        <td id=\"T_b9598cde_0c51_11eb_a69e_0242ac1c0002row7_col22\" class=\"data row7 col22\" >0</td>\n",
              "                        <td id=\"T_b9598cde_0c51_11eb_a69e_0242ac1c0002row7_col23\" class=\"data row7 col23\" >0</td>\n",
              "                        <td id=\"T_b9598cde_0c51_11eb_a69e_0242ac1c0002row7_col24\" class=\"data row7 col24\" >0</td>\n",
              "                        <td id=\"T_b9598cde_0c51_11eb_a69e_0242ac1c0002row7_col25\" class=\"data row7 col25\" >0</td>\n",
              "                        <td id=\"T_b9598cde_0c51_11eb_a69e_0242ac1c0002row7_col26\" class=\"data row7 col26\" >0</td>\n",
              "                        <td id=\"T_b9598cde_0c51_11eb_a69e_0242ac1c0002row7_col27\" class=\"data row7 col27\" >0</td>\n",
              "            </tr>\n",
              "            <tr>\n",
              "                        <th id=\"T_b9598cde_0c51_11eb_a69e_0242ac1c0002level0_row8\" class=\"row_heading level0 row8\" >8</th>\n",
              "                        <td id=\"T_b9598cde_0c51_11eb_a69e_0242ac1c0002row8_col0\" class=\"data row8 col0\" >0</td>\n",
              "                        <td id=\"T_b9598cde_0c51_11eb_a69e_0242ac1c0002row8_col1\" class=\"data row8 col1\" >0</td>\n",
              "                        <td id=\"T_b9598cde_0c51_11eb_a69e_0242ac1c0002row8_col2\" class=\"data row8 col2\" >0</td>\n",
              "                        <td id=\"T_b9598cde_0c51_11eb_a69e_0242ac1c0002row8_col3\" class=\"data row8 col3\" >0</td>\n",
              "                        <td id=\"T_b9598cde_0c51_11eb_a69e_0242ac1c0002row8_col4\" class=\"data row8 col4\" >0</td>\n",
              "                        <td id=\"T_b9598cde_0c51_11eb_a69e_0242ac1c0002row8_col5\" class=\"data row8 col5\" >107</td>\n",
              "                        <td id=\"T_b9598cde_0c51_11eb_a69e_0242ac1c0002row8_col6\" class=\"data row8 col6\" >253</td>\n",
              "                        <td id=\"T_b9598cde_0c51_11eb_a69e_0242ac1c0002row8_col7\" class=\"data row8 col7\" >253</td>\n",
              "                        <td id=\"T_b9598cde_0c51_11eb_a69e_0242ac1c0002row8_col8\" class=\"data row8 col8\" >230</td>\n",
              "                        <td id=\"T_b9598cde_0c51_11eb_a69e_0242ac1c0002row8_col9\" class=\"data row8 col9\" >48</td>\n",
              "                        <td id=\"T_b9598cde_0c51_11eb_a69e_0242ac1c0002row8_col10\" class=\"data row8 col10\" >0</td>\n",
              "                        <td id=\"T_b9598cde_0c51_11eb_a69e_0242ac1c0002row8_col11\" class=\"data row8 col11\" >0</td>\n",
              "                        <td id=\"T_b9598cde_0c51_11eb_a69e_0242ac1c0002row8_col12\" class=\"data row8 col12\" >0</td>\n",
              "                        <td id=\"T_b9598cde_0c51_11eb_a69e_0242ac1c0002row8_col13\" class=\"data row8 col13\" >0</td>\n",
              "                        <td id=\"T_b9598cde_0c51_11eb_a69e_0242ac1c0002row8_col14\" class=\"data row8 col14\" >0</td>\n",
              "                        <td id=\"T_b9598cde_0c51_11eb_a69e_0242ac1c0002row8_col15\" class=\"data row8 col15\" >192</td>\n",
              "                        <td id=\"T_b9598cde_0c51_11eb_a69e_0242ac1c0002row8_col16\" class=\"data row8 col16\" >253</td>\n",
              "                        <td id=\"T_b9598cde_0c51_11eb_a69e_0242ac1c0002row8_col17\" class=\"data row8 col17\" >253</td>\n",
              "                        <td id=\"T_b9598cde_0c51_11eb_a69e_0242ac1c0002row8_col18\" class=\"data row8 col18\" >156</td>\n",
              "                        <td id=\"T_b9598cde_0c51_11eb_a69e_0242ac1c0002row8_col19\" class=\"data row8 col19\" >0</td>\n",
              "                        <td id=\"T_b9598cde_0c51_11eb_a69e_0242ac1c0002row8_col20\" class=\"data row8 col20\" >0</td>\n",
              "                        <td id=\"T_b9598cde_0c51_11eb_a69e_0242ac1c0002row8_col21\" class=\"data row8 col21\" >0</td>\n",
              "                        <td id=\"T_b9598cde_0c51_11eb_a69e_0242ac1c0002row8_col22\" class=\"data row8 col22\" >0</td>\n",
              "                        <td id=\"T_b9598cde_0c51_11eb_a69e_0242ac1c0002row8_col23\" class=\"data row8 col23\" >0</td>\n",
              "                        <td id=\"T_b9598cde_0c51_11eb_a69e_0242ac1c0002row8_col24\" class=\"data row8 col24\" >0</td>\n",
              "                        <td id=\"T_b9598cde_0c51_11eb_a69e_0242ac1c0002row8_col25\" class=\"data row8 col25\" >0</td>\n",
              "                        <td id=\"T_b9598cde_0c51_11eb_a69e_0242ac1c0002row8_col26\" class=\"data row8 col26\" >0</td>\n",
              "                        <td id=\"T_b9598cde_0c51_11eb_a69e_0242ac1c0002row8_col27\" class=\"data row8 col27\" >0</td>\n",
              "            </tr>\n",
              "            <tr>\n",
              "                        <th id=\"T_b9598cde_0c51_11eb_a69e_0242ac1c0002level0_row9\" class=\"row_heading level0 row9\" >9</th>\n",
              "                        <td id=\"T_b9598cde_0c51_11eb_a69e_0242ac1c0002row9_col0\" class=\"data row9 col0\" >0</td>\n",
              "                        <td id=\"T_b9598cde_0c51_11eb_a69e_0242ac1c0002row9_col1\" class=\"data row9 col1\" >0</td>\n",
              "                        <td id=\"T_b9598cde_0c51_11eb_a69e_0242ac1c0002row9_col2\" class=\"data row9 col2\" >0</td>\n",
              "                        <td id=\"T_b9598cde_0c51_11eb_a69e_0242ac1c0002row9_col3\" class=\"data row9 col3\" >0</td>\n",
              "                        <td id=\"T_b9598cde_0c51_11eb_a69e_0242ac1c0002row9_col4\" class=\"data row9 col4\" >0</td>\n",
              "                        <td id=\"T_b9598cde_0c51_11eb_a69e_0242ac1c0002row9_col5\" class=\"data row9 col5\" >3</td>\n",
              "                        <td id=\"T_b9598cde_0c51_11eb_a69e_0242ac1c0002row9_col6\" class=\"data row9 col6\" >20</td>\n",
              "                        <td id=\"T_b9598cde_0c51_11eb_a69e_0242ac1c0002row9_col7\" class=\"data row9 col7\" >20</td>\n",
              "                        <td id=\"T_b9598cde_0c51_11eb_a69e_0242ac1c0002row9_col8\" class=\"data row9 col8\" >15</td>\n",
              "                        <td id=\"T_b9598cde_0c51_11eb_a69e_0242ac1c0002row9_col9\" class=\"data row9 col9\" >0</td>\n",
              "                        <td id=\"T_b9598cde_0c51_11eb_a69e_0242ac1c0002row9_col10\" class=\"data row9 col10\" >0</td>\n",
              "                        <td id=\"T_b9598cde_0c51_11eb_a69e_0242ac1c0002row9_col11\" class=\"data row9 col11\" >0</td>\n",
              "                        <td id=\"T_b9598cde_0c51_11eb_a69e_0242ac1c0002row9_col12\" class=\"data row9 col12\" >0</td>\n",
              "                        <td id=\"T_b9598cde_0c51_11eb_a69e_0242ac1c0002row9_col13\" class=\"data row9 col13\" >0</td>\n",
              "                        <td id=\"T_b9598cde_0c51_11eb_a69e_0242ac1c0002row9_col14\" class=\"data row9 col14\" >43</td>\n",
              "                        <td id=\"T_b9598cde_0c51_11eb_a69e_0242ac1c0002row9_col15\" class=\"data row9 col15\" >224</td>\n",
              "                        <td id=\"T_b9598cde_0c51_11eb_a69e_0242ac1c0002row9_col16\" class=\"data row9 col16\" >253</td>\n",
              "                        <td id=\"T_b9598cde_0c51_11eb_a69e_0242ac1c0002row9_col17\" class=\"data row9 col17\" >245</td>\n",
              "                        <td id=\"T_b9598cde_0c51_11eb_a69e_0242ac1c0002row9_col18\" class=\"data row9 col18\" >74</td>\n",
              "                        <td id=\"T_b9598cde_0c51_11eb_a69e_0242ac1c0002row9_col19\" class=\"data row9 col19\" >0</td>\n",
              "                        <td id=\"T_b9598cde_0c51_11eb_a69e_0242ac1c0002row9_col20\" class=\"data row9 col20\" >0</td>\n",
              "                        <td id=\"T_b9598cde_0c51_11eb_a69e_0242ac1c0002row9_col21\" class=\"data row9 col21\" >0</td>\n",
              "                        <td id=\"T_b9598cde_0c51_11eb_a69e_0242ac1c0002row9_col22\" class=\"data row9 col22\" >0</td>\n",
              "                        <td id=\"T_b9598cde_0c51_11eb_a69e_0242ac1c0002row9_col23\" class=\"data row9 col23\" >0</td>\n",
              "                        <td id=\"T_b9598cde_0c51_11eb_a69e_0242ac1c0002row9_col24\" class=\"data row9 col24\" >0</td>\n",
              "                        <td id=\"T_b9598cde_0c51_11eb_a69e_0242ac1c0002row9_col25\" class=\"data row9 col25\" >0</td>\n",
              "                        <td id=\"T_b9598cde_0c51_11eb_a69e_0242ac1c0002row9_col26\" class=\"data row9 col26\" >0</td>\n",
              "                        <td id=\"T_b9598cde_0c51_11eb_a69e_0242ac1c0002row9_col27\" class=\"data row9 col27\" >0</td>\n",
              "            </tr>\n",
              "            <tr>\n",
              "                        <th id=\"T_b9598cde_0c51_11eb_a69e_0242ac1c0002level0_row10\" class=\"row_heading level0 row10\" >10</th>\n",
              "                        <td id=\"T_b9598cde_0c51_11eb_a69e_0242ac1c0002row10_col0\" class=\"data row10 col0\" >0</td>\n",
              "                        <td id=\"T_b9598cde_0c51_11eb_a69e_0242ac1c0002row10_col1\" class=\"data row10 col1\" >0</td>\n",
              "                        <td id=\"T_b9598cde_0c51_11eb_a69e_0242ac1c0002row10_col2\" class=\"data row10 col2\" >0</td>\n",
              "                        <td id=\"T_b9598cde_0c51_11eb_a69e_0242ac1c0002row10_col3\" class=\"data row10 col3\" >0</td>\n",
              "                        <td id=\"T_b9598cde_0c51_11eb_a69e_0242ac1c0002row10_col4\" class=\"data row10 col4\" >0</td>\n",
              "                        <td id=\"T_b9598cde_0c51_11eb_a69e_0242ac1c0002row10_col5\" class=\"data row10 col5\" >0</td>\n",
              "                        <td id=\"T_b9598cde_0c51_11eb_a69e_0242ac1c0002row10_col6\" class=\"data row10 col6\" >0</td>\n",
              "                        <td id=\"T_b9598cde_0c51_11eb_a69e_0242ac1c0002row10_col7\" class=\"data row10 col7\" >0</td>\n",
              "                        <td id=\"T_b9598cde_0c51_11eb_a69e_0242ac1c0002row10_col8\" class=\"data row10 col8\" >0</td>\n",
              "                        <td id=\"T_b9598cde_0c51_11eb_a69e_0242ac1c0002row10_col9\" class=\"data row10 col9\" >0</td>\n",
              "                        <td id=\"T_b9598cde_0c51_11eb_a69e_0242ac1c0002row10_col10\" class=\"data row10 col10\" >0</td>\n",
              "                        <td id=\"T_b9598cde_0c51_11eb_a69e_0242ac1c0002row10_col11\" class=\"data row10 col11\" >0</td>\n",
              "                        <td id=\"T_b9598cde_0c51_11eb_a69e_0242ac1c0002row10_col12\" class=\"data row10 col12\" >0</td>\n",
              "                        <td id=\"T_b9598cde_0c51_11eb_a69e_0242ac1c0002row10_col13\" class=\"data row10 col13\" >0</td>\n",
              "                        <td id=\"T_b9598cde_0c51_11eb_a69e_0242ac1c0002row10_col14\" class=\"data row10 col14\" >249</td>\n",
              "                        <td id=\"T_b9598cde_0c51_11eb_a69e_0242ac1c0002row10_col15\" class=\"data row10 col15\" >253</td>\n",
              "                        <td id=\"T_b9598cde_0c51_11eb_a69e_0242ac1c0002row10_col16\" class=\"data row10 col16\" >245</td>\n",
              "                        <td id=\"T_b9598cde_0c51_11eb_a69e_0242ac1c0002row10_col17\" class=\"data row10 col17\" >126</td>\n",
              "                        <td id=\"T_b9598cde_0c51_11eb_a69e_0242ac1c0002row10_col18\" class=\"data row10 col18\" >0</td>\n",
              "                        <td id=\"T_b9598cde_0c51_11eb_a69e_0242ac1c0002row10_col19\" class=\"data row10 col19\" >0</td>\n",
              "                        <td id=\"T_b9598cde_0c51_11eb_a69e_0242ac1c0002row10_col20\" class=\"data row10 col20\" >0</td>\n",
              "                        <td id=\"T_b9598cde_0c51_11eb_a69e_0242ac1c0002row10_col21\" class=\"data row10 col21\" >0</td>\n",
              "                        <td id=\"T_b9598cde_0c51_11eb_a69e_0242ac1c0002row10_col22\" class=\"data row10 col22\" >0</td>\n",
              "                        <td id=\"T_b9598cde_0c51_11eb_a69e_0242ac1c0002row10_col23\" class=\"data row10 col23\" >0</td>\n",
              "                        <td id=\"T_b9598cde_0c51_11eb_a69e_0242ac1c0002row10_col24\" class=\"data row10 col24\" >0</td>\n",
              "                        <td id=\"T_b9598cde_0c51_11eb_a69e_0242ac1c0002row10_col25\" class=\"data row10 col25\" >0</td>\n",
              "                        <td id=\"T_b9598cde_0c51_11eb_a69e_0242ac1c0002row10_col26\" class=\"data row10 col26\" >0</td>\n",
              "                        <td id=\"T_b9598cde_0c51_11eb_a69e_0242ac1c0002row10_col27\" class=\"data row10 col27\" >0</td>\n",
              "            </tr>\n",
              "            <tr>\n",
              "                        <th id=\"T_b9598cde_0c51_11eb_a69e_0242ac1c0002level0_row11\" class=\"row_heading level0 row11\" >11</th>\n",
              "                        <td id=\"T_b9598cde_0c51_11eb_a69e_0242ac1c0002row11_col0\" class=\"data row11 col0\" >0</td>\n",
              "                        <td id=\"T_b9598cde_0c51_11eb_a69e_0242ac1c0002row11_col1\" class=\"data row11 col1\" >0</td>\n",
              "                        <td id=\"T_b9598cde_0c51_11eb_a69e_0242ac1c0002row11_col2\" class=\"data row11 col2\" >0</td>\n",
              "                        <td id=\"T_b9598cde_0c51_11eb_a69e_0242ac1c0002row11_col3\" class=\"data row11 col3\" >0</td>\n",
              "                        <td id=\"T_b9598cde_0c51_11eb_a69e_0242ac1c0002row11_col4\" class=\"data row11 col4\" >0</td>\n",
              "                        <td id=\"T_b9598cde_0c51_11eb_a69e_0242ac1c0002row11_col5\" class=\"data row11 col5\" >0</td>\n",
              "                        <td id=\"T_b9598cde_0c51_11eb_a69e_0242ac1c0002row11_col6\" class=\"data row11 col6\" >0</td>\n",
              "                        <td id=\"T_b9598cde_0c51_11eb_a69e_0242ac1c0002row11_col7\" class=\"data row11 col7\" >0</td>\n",
              "                        <td id=\"T_b9598cde_0c51_11eb_a69e_0242ac1c0002row11_col8\" class=\"data row11 col8\" >0</td>\n",
              "                        <td id=\"T_b9598cde_0c51_11eb_a69e_0242ac1c0002row11_col9\" class=\"data row11 col9\" >0</td>\n",
              "                        <td id=\"T_b9598cde_0c51_11eb_a69e_0242ac1c0002row11_col10\" class=\"data row11 col10\" >0</td>\n",
              "                        <td id=\"T_b9598cde_0c51_11eb_a69e_0242ac1c0002row11_col11\" class=\"data row11 col11\" >14</td>\n",
              "                        <td id=\"T_b9598cde_0c51_11eb_a69e_0242ac1c0002row11_col12\" class=\"data row11 col12\" >101</td>\n",
              "                        <td id=\"T_b9598cde_0c51_11eb_a69e_0242ac1c0002row11_col13\" class=\"data row11 col13\" >223</td>\n",
              "                        <td id=\"T_b9598cde_0c51_11eb_a69e_0242ac1c0002row11_col14\" class=\"data row11 col14\" >253</td>\n",
              "                        <td id=\"T_b9598cde_0c51_11eb_a69e_0242ac1c0002row11_col15\" class=\"data row11 col15\" >248</td>\n",
              "                        <td id=\"T_b9598cde_0c51_11eb_a69e_0242ac1c0002row11_col16\" class=\"data row11 col16\" >124</td>\n",
              "                        <td id=\"T_b9598cde_0c51_11eb_a69e_0242ac1c0002row11_col17\" class=\"data row11 col17\" >0</td>\n",
              "                        <td id=\"T_b9598cde_0c51_11eb_a69e_0242ac1c0002row11_col18\" class=\"data row11 col18\" >0</td>\n",
              "                        <td id=\"T_b9598cde_0c51_11eb_a69e_0242ac1c0002row11_col19\" class=\"data row11 col19\" >0</td>\n",
              "                        <td id=\"T_b9598cde_0c51_11eb_a69e_0242ac1c0002row11_col20\" class=\"data row11 col20\" >0</td>\n",
              "                        <td id=\"T_b9598cde_0c51_11eb_a69e_0242ac1c0002row11_col21\" class=\"data row11 col21\" >0</td>\n",
              "                        <td id=\"T_b9598cde_0c51_11eb_a69e_0242ac1c0002row11_col22\" class=\"data row11 col22\" >0</td>\n",
              "                        <td id=\"T_b9598cde_0c51_11eb_a69e_0242ac1c0002row11_col23\" class=\"data row11 col23\" >0</td>\n",
              "                        <td id=\"T_b9598cde_0c51_11eb_a69e_0242ac1c0002row11_col24\" class=\"data row11 col24\" >0</td>\n",
              "                        <td id=\"T_b9598cde_0c51_11eb_a69e_0242ac1c0002row11_col25\" class=\"data row11 col25\" >0</td>\n",
              "                        <td id=\"T_b9598cde_0c51_11eb_a69e_0242ac1c0002row11_col26\" class=\"data row11 col26\" >0</td>\n",
              "                        <td id=\"T_b9598cde_0c51_11eb_a69e_0242ac1c0002row11_col27\" class=\"data row11 col27\" >0</td>\n",
              "            </tr>\n",
              "            <tr>\n",
              "                        <th id=\"T_b9598cde_0c51_11eb_a69e_0242ac1c0002level0_row12\" class=\"row_heading level0 row12\" >12</th>\n",
              "                        <td id=\"T_b9598cde_0c51_11eb_a69e_0242ac1c0002row12_col0\" class=\"data row12 col0\" >0</td>\n",
              "                        <td id=\"T_b9598cde_0c51_11eb_a69e_0242ac1c0002row12_col1\" class=\"data row12 col1\" >0</td>\n",
              "                        <td id=\"T_b9598cde_0c51_11eb_a69e_0242ac1c0002row12_col2\" class=\"data row12 col2\" >0</td>\n",
              "                        <td id=\"T_b9598cde_0c51_11eb_a69e_0242ac1c0002row12_col3\" class=\"data row12 col3\" >0</td>\n",
              "                        <td id=\"T_b9598cde_0c51_11eb_a69e_0242ac1c0002row12_col4\" class=\"data row12 col4\" >0</td>\n",
              "                        <td id=\"T_b9598cde_0c51_11eb_a69e_0242ac1c0002row12_col5\" class=\"data row12 col5\" >0</td>\n",
              "                        <td id=\"T_b9598cde_0c51_11eb_a69e_0242ac1c0002row12_col6\" class=\"data row12 col6\" >0</td>\n",
              "                        <td id=\"T_b9598cde_0c51_11eb_a69e_0242ac1c0002row12_col7\" class=\"data row12 col7\" >0</td>\n",
              "                        <td id=\"T_b9598cde_0c51_11eb_a69e_0242ac1c0002row12_col8\" class=\"data row12 col8\" >0</td>\n",
              "                        <td id=\"T_b9598cde_0c51_11eb_a69e_0242ac1c0002row12_col9\" class=\"data row12 col9\" >11</td>\n",
              "                        <td id=\"T_b9598cde_0c51_11eb_a69e_0242ac1c0002row12_col10\" class=\"data row12 col10\" >166</td>\n",
              "                        <td id=\"T_b9598cde_0c51_11eb_a69e_0242ac1c0002row12_col11\" class=\"data row12 col11\" >239</td>\n",
              "                        <td id=\"T_b9598cde_0c51_11eb_a69e_0242ac1c0002row12_col12\" class=\"data row12 col12\" >253</td>\n",
              "                        <td id=\"T_b9598cde_0c51_11eb_a69e_0242ac1c0002row12_col13\" class=\"data row12 col13\" >253</td>\n",
              "                        <td id=\"T_b9598cde_0c51_11eb_a69e_0242ac1c0002row12_col14\" class=\"data row12 col14\" >253</td>\n",
              "                        <td id=\"T_b9598cde_0c51_11eb_a69e_0242ac1c0002row12_col15\" class=\"data row12 col15\" >187</td>\n",
              "                        <td id=\"T_b9598cde_0c51_11eb_a69e_0242ac1c0002row12_col16\" class=\"data row12 col16\" >30</td>\n",
              "                        <td id=\"T_b9598cde_0c51_11eb_a69e_0242ac1c0002row12_col17\" class=\"data row12 col17\" >0</td>\n",
              "                        <td id=\"T_b9598cde_0c51_11eb_a69e_0242ac1c0002row12_col18\" class=\"data row12 col18\" >0</td>\n",
              "                        <td id=\"T_b9598cde_0c51_11eb_a69e_0242ac1c0002row12_col19\" class=\"data row12 col19\" >0</td>\n",
              "                        <td id=\"T_b9598cde_0c51_11eb_a69e_0242ac1c0002row12_col20\" class=\"data row12 col20\" >0</td>\n",
              "                        <td id=\"T_b9598cde_0c51_11eb_a69e_0242ac1c0002row12_col21\" class=\"data row12 col21\" >0</td>\n",
              "                        <td id=\"T_b9598cde_0c51_11eb_a69e_0242ac1c0002row12_col22\" class=\"data row12 col22\" >0</td>\n",
              "                        <td id=\"T_b9598cde_0c51_11eb_a69e_0242ac1c0002row12_col23\" class=\"data row12 col23\" >0</td>\n",
              "                        <td id=\"T_b9598cde_0c51_11eb_a69e_0242ac1c0002row12_col24\" class=\"data row12 col24\" >0</td>\n",
              "                        <td id=\"T_b9598cde_0c51_11eb_a69e_0242ac1c0002row12_col25\" class=\"data row12 col25\" >0</td>\n",
              "                        <td id=\"T_b9598cde_0c51_11eb_a69e_0242ac1c0002row12_col26\" class=\"data row12 col26\" >0</td>\n",
              "                        <td id=\"T_b9598cde_0c51_11eb_a69e_0242ac1c0002row12_col27\" class=\"data row12 col27\" >0</td>\n",
              "            </tr>\n",
              "            <tr>\n",
              "                        <th id=\"T_b9598cde_0c51_11eb_a69e_0242ac1c0002level0_row13\" class=\"row_heading level0 row13\" >13</th>\n",
              "                        <td id=\"T_b9598cde_0c51_11eb_a69e_0242ac1c0002row13_col0\" class=\"data row13 col0\" >0</td>\n",
              "                        <td id=\"T_b9598cde_0c51_11eb_a69e_0242ac1c0002row13_col1\" class=\"data row13 col1\" >0</td>\n",
              "                        <td id=\"T_b9598cde_0c51_11eb_a69e_0242ac1c0002row13_col2\" class=\"data row13 col2\" >0</td>\n",
              "                        <td id=\"T_b9598cde_0c51_11eb_a69e_0242ac1c0002row13_col3\" class=\"data row13 col3\" >0</td>\n",
              "                        <td id=\"T_b9598cde_0c51_11eb_a69e_0242ac1c0002row13_col4\" class=\"data row13 col4\" >0</td>\n",
              "                        <td id=\"T_b9598cde_0c51_11eb_a69e_0242ac1c0002row13_col5\" class=\"data row13 col5\" >0</td>\n",
              "                        <td id=\"T_b9598cde_0c51_11eb_a69e_0242ac1c0002row13_col6\" class=\"data row13 col6\" >0</td>\n",
              "                        <td id=\"T_b9598cde_0c51_11eb_a69e_0242ac1c0002row13_col7\" class=\"data row13 col7\" >0</td>\n",
              "                        <td id=\"T_b9598cde_0c51_11eb_a69e_0242ac1c0002row13_col8\" class=\"data row13 col8\" >0</td>\n",
              "                        <td id=\"T_b9598cde_0c51_11eb_a69e_0242ac1c0002row13_col9\" class=\"data row13 col9\" >16</td>\n",
              "                        <td id=\"T_b9598cde_0c51_11eb_a69e_0242ac1c0002row13_col10\" class=\"data row13 col10\" >248</td>\n",
              "                        <td id=\"T_b9598cde_0c51_11eb_a69e_0242ac1c0002row13_col11\" class=\"data row13 col11\" >250</td>\n",
              "                        <td id=\"T_b9598cde_0c51_11eb_a69e_0242ac1c0002row13_col12\" class=\"data row13 col12\" >253</td>\n",
              "                        <td id=\"T_b9598cde_0c51_11eb_a69e_0242ac1c0002row13_col13\" class=\"data row13 col13\" >253</td>\n",
              "                        <td id=\"T_b9598cde_0c51_11eb_a69e_0242ac1c0002row13_col14\" class=\"data row13 col14\" >253</td>\n",
              "                        <td id=\"T_b9598cde_0c51_11eb_a69e_0242ac1c0002row13_col15\" class=\"data row13 col15\" >253</td>\n",
              "                        <td id=\"T_b9598cde_0c51_11eb_a69e_0242ac1c0002row13_col16\" class=\"data row13 col16\" >232</td>\n",
              "                        <td id=\"T_b9598cde_0c51_11eb_a69e_0242ac1c0002row13_col17\" class=\"data row13 col17\" >213</td>\n",
              "                        <td id=\"T_b9598cde_0c51_11eb_a69e_0242ac1c0002row13_col18\" class=\"data row13 col18\" >111</td>\n",
              "                        <td id=\"T_b9598cde_0c51_11eb_a69e_0242ac1c0002row13_col19\" class=\"data row13 col19\" >2</td>\n",
              "                        <td id=\"T_b9598cde_0c51_11eb_a69e_0242ac1c0002row13_col20\" class=\"data row13 col20\" >0</td>\n",
              "                        <td id=\"T_b9598cde_0c51_11eb_a69e_0242ac1c0002row13_col21\" class=\"data row13 col21\" >0</td>\n",
              "                        <td id=\"T_b9598cde_0c51_11eb_a69e_0242ac1c0002row13_col22\" class=\"data row13 col22\" >0</td>\n",
              "                        <td id=\"T_b9598cde_0c51_11eb_a69e_0242ac1c0002row13_col23\" class=\"data row13 col23\" >0</td>\n",
              "                        <td id=\"T_b9598cde_0c51_11eb_a69e_0242ac1c0002row13_col24\" class=\"data row13 col24\" >0</td>\n",
              "                        <td id=\"T_b9598cde_0c51_11eb_a69e_0242ac1c0002row13_col25\" class=\"data row13 col25\" >0</td>\n",
              "                        <td id=\"T_b9598cde_0c51_11eb_a69e_0242ac1c0002row13_col26\" class=\"data row13 col26\" >0</td>\n",
              "                        <td id=\"T_b9598cde_0c51_11eb_a69e_0242ac1c0002row13_col27\" class=\"data row13 col27\" >0</td>\n",
              "            </tr>\n",
              "            <tr>\n",
              "                        <th id=\"T_b9598cde_0c51_11eb_a69e_0242ac1c0002level0_row14\" class=\"row_heading level0 row14\" >14</th>\n",
              "                        <td id=\"T_b9598cde_0c51_11eb_a69e_0242ac1c0002row14_col0\" class=\"data row14 col0\" >0</td>\n",
              "                        <td id=\"T_b9598cde_0c51_11eb_a69e_0242ac1c0002row14_col1\" class=\"data row14 col1\" >0</td>\n",
              "                        <td id=\"T_b9598cde_0c51_11eb_a69e_0242ac1c0002row14_col2\" class=\"data row14 col2\" >0</td>\n",
              "                        <td id=\"T_b9598cde_0c51_11eb_a69e_0242ac1c0002row14_col3\" class=\"data row14 col3\" >0</td>\n",
              "                        <td id=\"T_b9598cde_0c51_11eb_a69e_0242ac1c0002row14_col4\" class=\"data row14 col4\" >0</td>\n",
              "                        <td id=\"T_b9598cde_0c51_11eb_a69e_0242ac1c0002row14_col5\" class=\"data row14 col5\" >0</td>\n",
              "                        <td id=\"T_b9598cde_0c51_11eb_a69e_0242ac1c0002row14_col6\" class=\"data row14 col6\" >0</td>\n",
              "                        <td id=\"T_b9598cde_0c51_11eb_a69e_0242ac1c0002row14_col7\" class=\"data row14 col7\" >0</td>\n",
              "                        <td id=\"T_b9598cde_0c51_11eb_a69e_0242ac1c0002row14_col8\" class=\"data row14 col8\" >0</td>\n",
              "                        <td id=\"T_b9598cde_0c51_11eb_a69e_0242ac1c0002row14_col9\" class=\"data row14 col9\" >0</td>\n",
              "                        <td id=\"T_b9598cde_0c51_11eb_a69e_0242ac1c0002row14_col10\" class=\"data row14 col10\" >0</td>\n",
              "                        <td id=\"T_b9598cde_0c51_11eb_a69e_0242ac1c0002row14_col11\" class=\"data row14 col11\" >43</td>\n",
              "                        <td id=\"T_b9598cde_0c51_11eb_a69e_0242ac1c0002row14_col12\" class=\"data row14 col12\" >98</td>\n",
              "                        <td id=\"T_b9598cde_0c51_11eb_a69e_0242ac1c0002row14_col13\" class=\"data row14 col13\" >98</td>\n",
              "                        <td id=\"T_b9598cde_0c51_11eb_a69e_0242ac1c0002row14_col14\" class=\"data row14 col14\" >208</td>\n",
              "                        <td id=\"T_b9598cde_0c51_11eb_a69e_0242ac1c0002row14_col15\" class=\"data row14 col15\" >253</td>\n",
              "                        <td id=\"T_b9598cde_0c51_11eb_a69e_0242ac1c0002row14_col16\" class=\"data row14 col16\" >253</td>\n",
              "                        <td id=\"T_b9598cde_0c51_11eb_a69e_0242ac1c0002row14_col17\" class=\"data row14 col17\" >253</td>\n",
              "                        <td id=\"T_b9598cde_0c51_11eb_a69e_0242ac1c0002row14_col18\" class=\"data row14 col18\" >253</td>\n",
              "                        <td id=\"T_b9598cde_0c51_11eb_a69e_0242ac1c0002row14_col19\" class=\"data row14 col19\" >187</td>\n",
              "                        <td id=\"T_b9598cde_0c51_11eb_a69e_0242ac1c0002row14_col20\" class=\"data row14 col20\" >22</td>\n",
              "                        <td id=\"T_b9598cde_0c51_11eb_a69e_0242ac1c0002row14_col21\" class=\"data row14 col21\" >0</td>\n",
              "                        <td id=\"T_b9598cde_0c51_11eb_a69e_0242ac1c0002row14_col22\" class=\"data row14 col22\" >0</td>\n",
              "                        <td id=\"T_b9598cde_0c51_11eb_a69e_0242ac1c0002row14_col23\" class=\"data row14 col23\" >0</td>\n",
              "                        <td id=\"T_b9598cde_0c51_11eb_a69e_0242ac1c0002row14_col24\" class=\"data row14 col24\" >0</td>\n",
              "                        <td id=\"T_b9598cde_0c51_11eb_a69e_0242ac1c0002row14_col25\" class=\"data row14 col25\" >0</td>\n",
              "                        <td id=\"T_b9598cde_0c51_11eb_a69e_0242ac1c0002row14_col26\" class=\"data row14 col26\" >0</td>\n",
              "                        <td id=\"T_b9598cde_0c51_11eb_a69e_0242ac1c0002row14_col27\" class=\"data row14 col27\" >0</td>\n",
              "            </tr>\n",
              "            <tr>\n",
              "                        <th id=\"T_b9598cde_0c51_11eb_a69e_0242ac1c0002level0_row15\" class=\"row_heading level0 row15\" >15</th>\n",
              "                        <td id=\"T_b9598cde_0c51_11eb_a69e_0242ac1c0002row15_col0\" class=\"data row15 col0\" >0</td>\n",
              "                        <td id=\"T_b9598cde_0c51_11eb_a69e_0242ac1c0002row15_col1\" class=\"data row15 col1\" >0</td>\n",
              "                        <td id=\"T_b9598cde_0c51_11eb_a69e_0242ac1c0002row15_col2\" class=\"data row15 col2\" >0</td>\n",
              "                        <td id=\"T_b9598cde_0c51_11eb_a69e_0242ac1c0002row15_col3\" class=\"data row15 col3\" >0</td>\n",
              "                        <td id=\"T_b9598cde_0c51_11eb_a69e_0242ac1c0002row15_col4\" class=\"data row15 col4\" >0</td>\n",
              "                        <td id=\"T_b9598cde_0c51_11eb_a69e_0242ac1c0002row15_col5\" class=\"data row15 col5\" >0</td>\n",
              "                        <td id=\"T_b9598cde_0c51_11eb_a69e_0242ac1c0002row15_col6\" class=\"data row15 col6\" >0</td>\n",
              "                        <td id=\"T_b9598cde_0c51_11eb_a69e_0242ac1c0002row15_col7\" class=\"data row15 col7\" >0</td>\n",
              "                        <td id=\"T_b9598cde_0c51_11eb_a69e_0242ac1c0002row15_col8\" class=\"data row15 col8\" >0</td>\n",
              "                        <td id=\"T_b9598cde_0c51_11eb_a69e_0242ac1c0002row15_col9\" class=\"data row15 col9\" >0</td>\n",
              "                        <td id=\"T_b9598cde_0c51_11eb_a69e_0242ac1c0002row15_col10\" class=\"data row15 col10\" >0</td>\n",
              "                        <td id=\"T_b9598cde_0c51_11eb_a69e_0242ac1c0002row15_col11\" class=\"data row15 col11\" >0</td>\n",
              "                        <td id=\"T_b9598cde_0c51_11eb_a69e_0242ac1c0002row15_col12\" class=\"data row15 col12\" >0</td>\n",
              "                        <td id=\"T_b9598cde_0c51_11eb_a69e_0242ac1c0002row15_col13\" class=\"data row15 col13\" >0</td>\n",
              "                        <td id=\"T_b9598cde_0c51_11eb_a69e_0242ac1c0002row15_col14\" class=\"data row15 col14\" >9</td>\n",
              "                        <td id=\"T_b9598cde_0c51_11eb_a69e_0242ac1c0002row15_col15\" class=\"data row15 col15\" >51</td>\n",
              "                        <td id=\"T_b9598cde_0c51_11eb_a69e_0242ac1c0002row15_col16\" class=\"data row15 col16\" >119</td>\n",
              "                        <td id=\"T_b9598cde_0c51_11eb_a69e_0242ac1c0002row15_col17\" class=\"data row15 col17\" >253</td>\n",
              "                        <td id=\"T_b9598cde_0c51_11eb_a69e_0242ac1c0002row15_col18\" class=\"data row15 col18\" >253</td>\n",
              "                        <td id=\"T_b9598cde_0c51_11eb_a69e_0242ac1c0002row15_col19\" class=\"data row15 col19\" >253</td>\n",
              "                        <td id=\"T_b9598cde_0c51_11eb_a69e_0242ac1c0002row15_col20\" class=\"data row15 col20\" >76</td>\n",
              "                        <td id=\"T_b9598cde_0c51_11eb_a69e_0242ac1c0002row15_col21\" class=\"data row15 col21\" >0</td>\n",
              "                        <td id=\"T_b9598cde_0c51_11eb_a69e_0242ac1c0002row15_col22\" class=\"data row15 col22\" >0</td>\n",
              "                        <td id=\"T_b9598cde_0c51_11eb_a69e_0242ac1c0002row15_col23\" class=\"data row15 col23\" >0</td>\n",
              "                        <td id=\"T_b9598cde_0c51_11eb_a69e_0242ac1c0002row15_col24\" class=\"data row15 col24\" >0</td>\n",
              "                        <td id=\"T_b9598cde_0c51_11eb_a69e_0242ac1c0002row15_col25\" class=\"data row15 col25\" >0</td>\n",
              "                        <td id=\"T_b9598cde_0c51_11eb_a69e_0242ac1c0002row15_col26\" class=\"data row15 col26\" >0</td>\n",
              "                        <td id=\"T_b9598cde_0c51_11eb_a69e_0242ac1c0002row15_col27\" class=\"data row15 col27\" >0</td>\n",
              "            </tr>\n",
              "            <tr>\n",
              "                        <th id=\"T_b9598cde_0c51_11eb_a69e_0242ac1c0002level0_row16\" class=\"row_heading level0 row16\" >16</th>\n",
              "                        <td id=\"T_b9598cde_0c51_11eb_a69e_0242ac1c0002row16_col0\" class=\"data row16 col0\" >0</td>\n",
              "                        <td id=\"T_b9598cde_0c51_11eb_a69e_0242ac1c0002row16_col1\" class=\"data row16 col1\" >0</td>\n",
              "                        <td id=\"T_b9598cde_0c51_11eb_a69e_0242ac1c0002row16_col2\" class=\"data row16 col2\" >0</td>\n",
              "                        <td id=\"T_b9598cde_0c51_11eb_a69e_0242ac1c0002row16_col3\" class=\"data row16 col3\" >0</td>\n",
              "                        <td id=\"T_b9598cde_0c51_11eb_a69e_0242ac1c0002row16_col4\" class=\"data row16 col4\" >0</td>\n",
              "                        <td id=\"T_b9598cde_0c51_11eb_a69e_0242ac1c0002row16_col5\" class=\"data row16 col5\" >0</td>\n",
              "                        <td id=\"T_b9598cde_0c51_11eb_a69e_0242ac1c0002row16_col6\" class=\"data row16 col6\" >0</td>\n",
              "                        <td id=\"T_b9598cde_0c51_11eb_a69e_0242ac1c0002row16_col7\" class=\"data row16 col7\" >0</td>\n",
              "                        <td id=\"T_b9598cde_0c51_11eb_a69e_0242ac1c0002row16_col8\" class=\"data row16 col8\" >0</td>\n",
              "                        <td id=\"T_b9598cde_0c51_11eb_a69e_0242ac1c0002row16_col9\" class=\"data row16 col9\" >0</td>\n",
              "                        <td id=\"T_b9598cde_0c51_11eb_a69e_0242ac1c0002row16_col10\" class=\"data row16 col10\" >0</td>\n",
              "                        <td id=\"T_b9598cde_0c51_11eb_a69e_0242ac1c0002row16_col11\" class=\"data row16 col11\" >0</td>\n",
              "                        <td id=\"T_b9598cde_0c51_11eb_a69e_0242ac1c0002row16_col12\" class=\"data row16 col12\" >0</td>\n",
              "                        <td id=\"T_b9598cde_0c51_11eb_a69e_0242ac1c0002row16_col13\" class=\"data row16 col13\" >0</td>\n",
              "                        <td id=\"T_b9598cde_0c51_11eb_a69e_0242ac1c0002row16_col14\" class=\"data row16 col14\" >0</td>\n",
              "                        <td id=\"T_b9598cde_0c51_11eb_a69e_0242ac1c0002row16_col15\" class=\"data row16 col15\" >0</td>\n",
              "                        <td id=\"T_b9598cde_0c51_11eb_a69e_0242ac1c0002row16_col16\" class=\"data row16 col16\" >1</td>\n",
              "                        <td id=\"T_b9598cde_0c51_11eb_a69e_0242ac1c0002row16_col17\" class=\"data row16 col17\" >183</td>\n",
              "                        <td id=\"T_b9598cde_0c51_11eb_a69e_0242ac1c0002row16_col18\" class=\"data row16 col18\" >253</td>\n",
              "                        <td id=\"T_b9598cde_0c51_11eb_a69e_0242ac1c0002row16_col19\" class=\"data row16 col19\" >253</td>\n",
              "                        <td id=\"T_b9598cde_0c51_11eb_a69e_0242ac1c0002row16_col20\" class=\"data row16 col20\" >139</td>\n",
              "                        <td id=\"T_b9598cde_0c51_11eb_a69e_0242ac1c0002row16_col21\" class=\"data row16 col21\" >0</td>\n",
              "                        <td id=\"T_b9598cde_0c51_11eb_a69e_0242ac1c0002row16_col22\" class=\"data row16 col22\" >0</td>\n",
              "                        <td id=\"T_b9598cde_0c51_11eb_a69e_0242ac1c0002row16_col23\" class=\"data row16 col23\" >0</td>\n",
              "                        <td id=\"T_b9598cde_0c51_11eb_a69e_0242ac1c0002row16_col24\" class=\"data row16 col24\" >0</td>\n",
              "                        <td id=\"T_b9598cde_0c51_11eb_a69e_0242ac1c0002row16_col25\" class=\"data row16 col25\" >0</td>\n",
              "                        <td id=\"T_b9598cde_0c51_11eb_a69e_0242ac1c0002row16_col26\" class=\"data row16 col26\" >0</td>\n",
              "                        <td id=\"T_b9598cde_0c51_11eb_a69e_0242ac1c0002row16_col27\" class=\"data row16 col27\" >0</td>\n",
              "            </tr>\n",
              "            <tr>\n",
              "                        <th id=\"T_b9598cde_0c51_11eb_a69e_0242ac1c0002level0_row17\" class=\"row_heading level0 row17\" >17</th>\n",
              "                        <td id=\"T_b9598cde_0c51_11eb_a69e_0242ac1c0002row17_col0\" class=\"data row17 col0\" >0</td>\n",
              "                        <td id=\"T_b9598cde_0c51_11eb_a69e_0242ac1c0002row17_col1\" class=\"data row17 col1\" >0</td>\n",
              "                        <td id=\"T_b9598cde_0c51_11eb_a69e_0242ac1c0002row17_col2\" class=\"data row17 col2\" >0</td>\n",
              "                        <td id=\"T_b9598cde_0c51_11eb_a69e_0242ac1c0002row17_col3\" class=\"data row17 col3\" >0</td>\n",
              "                        <td id=\"T_b9598cde_0c51_11eb_a69e_0242ac1c0002row17_col4\" class=\"data row17 col4\" >0</td>\n",
              "                        <td id=\"T_b9598cde_0c51_11eb_a69e_0242ac1c0002row17_col5\" class=\"data row17 col5\" >0</td>\n",
              "                        <td id=\"T_b9598cde_0c51_11eb_a69e_0242ac1c0002row17_col6\" class=\"data row17 col6\" >0</td>\n",
              "                        <td id=\"T_b9598cde_0c51_11eb_a69e_0242ac1c0002row17_col7\" class=\"data row17 col7\" >0</td>\n",
              "                        <td id=\"T_b9598cde_0c51_11eb_a69e_0242ac1c0002row17_col8\" class=\"data row17 col8\" >0</td>\n",
              "                        <td id=\"T_b9598cde_0c51_11eb_a69e_0242ac1c0002row17_col9\" class=\"data row17 col9\" >0</td>\n",
              "                        <td id=\"T_b9598cde_0c51_11eb_a69e_0242ac1c0002row17_col10\" class=\"data row17 col10\" >0</td>\n",
              "                        <td id=\"T_b9598cde_0c51_11eb_a69e_0242ac1c0002row17_col11\" class=\"data row17 col11\" >0</td>\n",
              "                        <td id=\"T_b9598cde_0c51_11eb_a69e_0242ac1c0002row17_col12\" class=\"data row17 col12\" >0</td>\n",
              "                        <td id=\"T_b9598cde_0c51_11eb_a69e_0242ac1c0002row17_col13\" class=\"data row17 col13\" >0</td>\n",
              "                        <td id=\"T_b9598cde_0c51_11eb_a69e_0242ac1c0002row17_col14\" class=\"data row17 col14\" >0</td>\n",
              "                        <td id=\"T_b9598cde_0c51_11eb_a69e_0242ac1c0002row17_col15\" class=\"data row17 col15\" >0</td>\n",
              "                        <td id=\"T_b9598cde_0c51_11eb_a69e_0242ac1c0002row17_col16\" class=\"data row17 col16\" >0</td>\n",
              "                        <td id=\"T_b9598cde_0c51_11eb_a69e_0242ac1c0002row17_col17\" class=\"data row17 col17\" >182</td>\n",
              "                        <td id=\"T_b9598cde_0c51_11eb_a69e_0242ac1c0002row17_col18\" class=\"data row17 col18\" >253</td>\n",
              "                        <td id=\"T_b9598cde_0c51_11eb_a69e_0242ac1c0002row17_col19\" class=\"data row17 col19\" >253</td>\n",
              "                        <td id=\"T_b9598cde_0c51_11eb_a69e_0242ac1c0002row17_col20\" class=\"data row17 col20\" >104</td>\n",
              "                        <td id=\"T_b9598cde_0c51_11eb_a69e_0242ac1c0002row17_col21\" class=\"data row17 col21\" >0</td>\n",
              "                        <td id=\"T_b9598cde_0c51_11eb_a69e_0242ac1c0002row17_col22\" class=\"data row17 col22\" >0</td>\n",
              "                        <td id=\"T_b9598cde_0c51_11eb_a69e_0242ac1c0002row17_col23\" class=\"data row17 col23\" >0</td>\n",
              "                        <td id=\"T_b9598cde_0c51_11eb_a69e_0242ac1c0002row17_col24\" class=\"data row17 col24\" >0</td>\n",
              "                        <td id=\"T_b9598cde_0c51_11eb_a69e_0242ac1c0002row17_col25\" class=\"data row17 col25\" >0</td>\n",
              "                        <td id=\"T_b9598cde_0c51_11eb_a69e_0242ac1c0002row17_col26\" class=\"data row17 col26\" >0</td>\n",
              "                        <td id=\"T_b9598cde_0c51_11eb_a69e_0242ac1c0002row17_col27\" class=\"data row17 col27\" >0</td>\n",
              "            </tr>\n",
              "            <tr>\n",
              "                        <th id=\"T_b9598cde_0c51_11eb_a69e_0242ac1c0002level0_row18\" class=\"row_heading level0 row18\" >18</th>\n",
              "                        <td id=\"T_b9598cde_0c51_11eb_a69e_0242ac1c0002row18_col0\" class=\"data row18 col0\" >0</td>\n",
              "                        <td id=\"T_b9598cde_0c51_11eb_a69e_0242ac1c0002row18_col1\" class=\"data row18 col1\" >0</td>\n",
              "                        <td id=\"T_b9598cde_0c51_11eb_a69e_0242ac1c0002row18_col2\" class=\"data row18 col2\" >0</td>\n",
              "                        <td id=\"T_b9598cde_0c51_11eb_a69e_0242ac1c0002row18_col3\" class=\"data row18 col3\" >0</td>\n",
              "                        <td id=\"T_b9598cde_0c51_11eb_a69e_0242ac1c0002row18_col4\" class=\"data row18 col4\" >0</td>\n",
              "                        <td id=\"T_b9598cde_0c51_11eb_a69e_0242ac1c0002row18_col5\" class=\"data row18 col5\" >0</td>\n",
              "                        <td id=\"T_b9598cde_0c51_11eb_a69e_0242ac1c0002row18_col6\" class=\"data row18 col6\" >0</td>\n",
              "                        <td id=\"T_b9598cde_0c51_11eb_a69e_0242ac1c0002row18_col7\" class=\"data row18 col7\" >0</td>\n",
              "                        <td id=\"T_b9598cde_0c51_11eb_a69e_0242ac1c0002row18_col8\" class=\"data row18 col8\" >0</td>\n",
              "                        <td id=\"T_b9598cde_0c51_11eb_a69e_0242ac1c0002row18_col9\" class=\"data row18 col9\" >0</td>\n",
              "                        <td id=\"T_b9598cde_0c51_11eb_a69e_0242ac1c0002row18_col10\" class=\"data row18 col10\" >0</td>\n",
              "                        <td id=\"T_b9598cde_0c51_11eb_a69e_0242ac1c0002row18_col11\" class=\"data row18 col11\" >0</td>\n",
              "                        <td id=\"T_b9598cde_0c51_11eb_a69e_0242ac1c0002row18_col12\" class=\"data row18 col12\" >0</td>\n",
              "                        <td id=\"T_b9598cde_0c51_11eb_a69e_0242ac1c0002row18_col13\" class=\"data row18 col13\" >0</td>\n",
              "                        <td id=\"T_b9598cde_0c51_11eb_a69e_0242ac1c0002row18_col14\" class=\"data row18 col14\" >0</td>\n",
              "                        <td id=\"T_b9598cde_0c51_11eb_a69e_0242ac1c0002row18_col15\" class=\"data row18 col15\" >0</td>\n",
              "                        <td id=\"T_b9598cde_0c51_11eb_a69e_0242ac1c0002row18_col16\" class=\"data row18 col16\" >85</td>\n",
              "                        <td id=\"T_b9598cde_0c51_11eb_a69e_0242ac1c0002row18_col17\" class=\"data row18 col17\" >249</td>\n",
              "                        <td id=\"T_b9598cde_0c51_11eb_a69e_0242ac1c0002row18_col18\" class=\"data row18 col18\" >253</td>\n",
              "                        <td id=\"T_b9598cde_0c51_11eb_a69e_0242ac1c0002row18_col19\" class=\"data row18 col19\" >253</td>\n",
              "                        <td id=\"T_b9598cde_0c51_11eb_a69e_0242ac1c0002row18_col20\" class=\"data row18 col20\" >36</td>\n",
              "                        <td id=\"T_b9598cde_0c51_11eb_a69e_0242ac1c0002row18_col21\" class=\"data row18 col21\" >0</td>\n",
              "                        <td id=\"T_b9598cde_0c51_11eb_a69e_0242ac1c0002row18_col22\" class=\"data row18 col22\" >0</td>\n",
              "                        <td id=\"T_b9598cde_0c51_11eb_a69e_0242ac1c0002row18_col23\" class=\"data row18 col23\" >0</td>\n",
              "                        <td id=\"T_b9598cde_0c51_11eb_a69e_0242ac1c0002row18_col24\" class=\"data row18 col24\" >0</td>\n",
              "                        <td id=\"T_b9598cde_0c51_11eb_a69e_0242ac1c0002row18_col25\" class=\"data row18 col25\" >0</td>\n",
              "                        <td id=\"T_b9598cde_0c51_11eb_a69e_0242ac1c0002row18_col26\" class=\"data row18 col26\" >0</td>\n",
              "                        <td id=\"T_b9598cde_0c51_11eb_a69e_0242ac1c0002row18_col27\" class=\"data row18 col27\" >0</td>\n",
              "            </tr>\n",
              "            <tr>\n",
              "                        <th id=\"T_b9598cde_0c51_11eb_a69e_0242ac1c0002level0_row19\" class=\"row_heading level0 row19\" >19</th>\n",
              "                        <td id=\"T_b9598cde_0c51_11eb_a69e_0242ac1c0002row19_col0\" class=\"data row19 col0\" >0</td>\n",
              "                        <td id=\"T_b9598cde_0c51_11eb_a69e_0242ac1c0002row19_col1\" class=\"data row19 col1\" >0</td>\n",
              "                        <td id=\"T_b9598cde_0c51_11eb_a69e_0242ac1c0002row19_col2\" class=\"data row19 col2\" >0</td>\n",
              "                        <td id=\"T_b9598cde_0c51_11eb_a69e_0242ac1c0002row19_col3\" class=\"data row19 col3\" >0</td>\n",
              "                        <td id=\"T_b9598cde_0c51_11eb_a69e_0242ac1c0002row19_col4\" class=\"data row19 col4\" >0</td>\n",
              "                        <td id=\"T_b9598cde_0c51_11eb_a69e_0242ac1c0002row19_col5\" class=\"data row19 col5\" >0</td>\n",
              "                        <td id=\"T_b9598cde_0c51_11eb_a69e_0242ac1c0002row19_col6\" class=\"data row19 col6\" >0</td>\n",
              "                        <td id=\"T_b9598cde_0c51_11eb_a69e_0242ac1c0002row19_col7\" class=\"data row19 col7\" >0</td>\n",
              "                        <td id=\"T_b9598cde_0c51_11eb_a69e_0242ac1c0002row19_col8\" class=\"data row19 col8\" >0</td>\n",
              "                        <td id=\"T_b9598cde_0c51_11eb_a69e_0242ac1c0002row19_col9\" class=\"data row19 col9\" >0</td>\n",
              "                        <td id=\"T_b9598cde_0c51_11eb_a69e_0242ac1c0002row19_col10\" class=\"data row19 col10\" >0</td>\n",
              "                        <td id=\"T_b9598cde_0c51_11eb_a69e_0242ac1c0002row19_col11\" class=\"data row19 col11\" >0</td>\n",
              "                        <td id=\"T_b9598cde_0c51_11eb_a69e_0242ac1c0002row19_col12\" class=\"data row19 col12\" >0</td>\n",
              "                        <td id=\"T_b9598cde_0c51_11eb_a69e_0242ac1c0002row19_col13\" class=\"data row19 col13\" >0</td>\n",
              "                        <td id=\"T_b9598cde_0c51_11eb_a69e_0242ac1c0002row19_col14\" class=\"data row19 col14\" >0</td>\n",
              "                        <td id=\"T_b9598cde_0c51_11eb_a69e_0242ac1c0002row19_col15\" class=\"data row19 col15\" >60</td>\n",
              "                        <td id=\"T_b9598cde_0c51_11eb_a69e_0242ac1c0002row19_col16\" class=\"data row19 col16\" >214</td>\n",
              "                        <td id=\"T_b9598cde_0c51_11eb_a69e_0242ac1c0002row19_col17\" class=\"data row19 col17\" >253</td>\n",
              "                        <td id=\"T_b9598cde_0c51_11eb_a69e_0242ac1c0002row19_col18\" class=\"data row19 col18\" >253</td>\n",
              "                        <td id=\"T_b9598cde_0c51_11eb_a69e_0242ac1c0002row19_col19\" class=\"data row19 col19\" >173</td>\n",
              "                        <td id=\"T_b9598cde_0c51_11eb_a69e_0242ac1c0002row19_col20\" class=\"data row19 col20\" >11</td>\n",
              "                        <td id=\"T_b9598cde_0c51_11eb_a69e_0242ac1c0002row19_col21\" class=\"data row19 col21\" >0</td>\n",
              "                        <td id=\"T_b9598cde_0c51_11eb_a69e_0242ac1c0002row19_col22\" class=\"data row19 col22\" >0</td>\n",
              "                        <td id=\"T_b9598cde_0c51_11eb_a69e_0242ac1c0002row19_col23\" class=\"data row19 col23\" >0</td>\n",
              "                        <td id=\"T_b9598cde_0c51_11eb_a69e_0242ac1c0002row19_col24\" class=\"data row19 col24\" >0</td>\n",
              "                        <td id=\"T_b9598cde_0c51_11eb_a69e_0242ac1c0002row19_col25\" class=\"data row19 col25\" >0</td>\n",
              "                        <td id=\"T_b9598cde_0c51_11eb_a69e_0242ac1c0002row19_col26\" class=\"data row19 col26\" >0</td>\n",
              "                        <td id=\"T_b9598cde_0c51_11eb_a69e_0242ac1c0002row19_col27\" class=\"data row19 col27\" >0</td>\n",
              "            </tr>\n",
              "            <tr>\n",
              "                        <th id=\"T_b9598cde_0c51_11eb_a69e_0242ac1c0002level0_row20\" class=\"row_heading level0 row20\" >20</th>\n",
              "                        <td id=\"T_b9598cde_0c51_11eb_a69e_0242ac1c0002row20_col0\" class=\"data row20 col0\" >0</td>\n",
              "                        <td id=\"T_b9598cde_0c51_11eb_a69e_0242ac1c0002row20_col1\" class=\"data row20 col1\" >0</td>\n",
              "                        <td id=\"T_b9598cde_0c51_11eb_a69e_0242ac1c0002row20_col2\" class=\"data row20 col2\" >0</td>\n",
              "                        <td id=\"T_b9598cde_0c51_11eb_a69e_0242ac1c0002row20_col3\" class=\"data row20 col3\" >0</td>\n",
              "                        <td id=\"T_b9598cde_0c51_11eb_a69e_0242ac1c0002row20_col4\" class=\"data row20 col4\" >0</td>\n",
              "                        <td id=\"T_b9598cde_0c51_11eb_a69e_0242ac1c0002row20_col5\" class=\"data row20 col5\" >0</td>\n",
              "                        <td id=\"T_b9598cde_0c51_11eb_a69e_0242ac1c0002row20_col6\" class=\"data row20 col6\" >0</td>\n",
              "                        <td id=\"T_b9598cde_0c51_11eb_a69e_0242ac1c0002row20_col7\" class=\"data row20 col7\" >0</td>\n",
              "                        <td id=\"T_b9598cde_0c51_11eb_a69e_0242ac1c0002row20_col8\" class=\"data row20 col8\" >0</td>\n",
              "                        <td id=\"T_b9598cde_0c51_11eb_a69e_0242ac1c0002row20_col9\" class=\"data row20 col9\" >0</td>\n",
              "                        <td id=\"T_b9598cde_0c51_11eb_a69e_0242ac1c0002row20_col10\" class=\"data row20 col10\" >0</td>\n",
              "                        <td id=\"T_b9598cde_0c51_11eb_a69e_0242ac1c0002row20_col11\" class=\"data row20 col11\" >0</td>\n",
              "                        <td id=\"T_b9598cde_0c51_11eb_a69e_0242ac1c0002row20_col12\" class=\"data row20 col12\" >0</td>\n",
              "                        <td id=\"T_b9598cde_0c51_11eb_a69e_0242ac1c0002row20_col13\" class=\"data row20 col13\" >0</td>\n",
              "                        <td id=\"T_b9598cde_0c51_11eb_a69e_0242ac1c0002row20_col14\" class=\"data row20 col14\" >98</td>\n",
              "                        <td id=\"T_b9598cde_0c51_11eb_a69e_0242ac1c0002row20_col15\" class=\"data row20 col15\" >247</td>\n",
              "                        <td id=\"T_b9598cde_0c51_11eb_a69e_0242ac1c0002row20_col16\" class=\"data row20 col16\" >253</td>\n",
              "                        <td id=\"T_b9598cde_0c51_11eb_a69e_0242ac1c0002row20_col17\" class=\"data row20 col17\" >253</td>\n",
              "                        <td id=\"T_b9598cde_0c51_11eb_a69e_0242ac1c0002row20_col18\" class=\"data row20 col18\" >226</td>\n",
              "                        <td id=\"T_b9598cde_0c51_11eb_a69e_0242ac1c0002row20_col19\" class=\"data row20 col19\" >9</td>\n",
              "                        <td id=\"T_b9598cde_0c51_11eb_a69e_0242ac1c0002row20_col20\" class=\"data row20 col20\" >0</td>\n",
              "                        <td id=\"T_b9598cde_0c51_11eb_a69e_0242ac1c0002row20_col21\" class=\"data row20 col21\" >0</td>\n",
              "                        <td id=\"T_b9598cde_0c51_11eb_a69e_0242ac1c0002row20_col22\" class=\"data row20 col22\" >0</td>\n",
              "                        <td id=\"T_b9598cde_0c51_11eb_a69e_0242ac1c0002row20_col23\" class=\"data row20 col23\" >0</td>\n",
              "                        <td id=\"T_b9598cde_0c51_11eb_a69e_0242ac1c0002row20_col24\" class=\"data row20 col24\" >0</td>\n",
              "                        <td id=\"T_b9598cde_0c51_11eb_a69e_0242ac1c0002row20_col25\" class=\"data row20 col25\" >0</td>\n",
              "                        <td id=\"T_b9598cde_0c51_11eb_a69e_0242ac1c0002row20_col26\" class=\"data row20 col26\" >0</td>\n",
              "                        <td id=\"T_b9598cde_0c51_11eb_a69e_0242ac1c0002row20_col27\" class=\"data row20 col27\" >0</td>\n",
              "            </tr>\n",
              "            <tr>\n",
              "                        <th id=\"T_b9598cde_0c51_11eb_a69e_0242ac1c0002level0_row21\" class=\"row_heading level0 row21\" >21</th>\n",
              "                        <td id=\"T_b9598cde_0c51_11eb_a69e_0242ac1c0002row21_col0\" class=\"data row21 col0\" >0</td>\n",
              "                        <td id=\"T_b9598cde_0c51_11eb_a69e_0242ac1c0002row21_col1\" class=\"data row21 col1\" >0</td>\n",
              "                        <td id=\"T_b9598cde_0c51_11eb_a69e_0242ac1c0002row21_col2\" class=\"data row21 col2\" >0</td>\n",
              "                        <td id=\"T_b9598cde_0c51_11eb_a69e_0242ac1c0002row21_col3\" class=\"data row21 col3\" >0</td>\n",
              "                        <td id=\"T_b9598cde_0c51_11eb_a69e_0242ac1c0002row21_col4\" class=\"data row21 col4\" >0</td>\n",
              "                        <td id=\"T_b9598cde_0c51_11eb_a69e_0242ac1c0002row21_col5\" class=\"data row21 col5\" >0</td>\n",
              "                        <td id=\"T_b9598cde_0c51_11eb_a69e_0242ac1c0002row21_col6\" class=\"data row21 col6\" >0</td>\n",
              "                        <td id=\"T_b9598cde_0c51_11eb_a69e_0242ac1c0002row21_col7\" class=\"data row21 col7\" >0</td>\n",
              "                        <td id=\"T_b9598cde_0c51_11eb_a69e_0242ac1c0002row21_col8\" class=\"data row21 col8\" >0</td>\n",
              "                        <td id=\"T_b9598cde_0c51_11eb_a69e_0242ac1c0002row21_col9\" class=\"data row21 col9\" >0</td>\n",
              "                        <td id=\"T_b9598cde_0c51_11eb_a69e_0242ac1c0002row21_col10\" class=\"data row21 col10\" >0</td>\n",
              "                        <td id=\"T_b9598cde_0c51_11eb_a69e_0242ac1c0002row21_col11\" class=\"data row21 col11\" >0</td>\n",
              "                        <td id=\"T_b9598cde_0c51_11eb_a69e_0242ac1c0002row21_col12\" class=\"data row21 col12\" >42</td>\n",
              "                        <td id=\"T_b9598cde_0c51_11eb_a69e_0242ac1c0002row21_col13\" class=\"data row21 col13\" >150</td>\n",
              "                        <td id=\"T_b9598cde_0c51_11eb_a69e_0242ac1c0002row21_col14\" class=\"data row21 col14\" >252</td>\n",
              "                        <td id=\"T_b9598cde_0c51_11eb_a69e_0242ac1c0002row21_col15\" class=\"data row21 col15\" >253</td>\n",
              "                        <td id=\"T_b9598cde_0c51_11eb_a69e_0242ac1c0002row21_col16\" class=\"data row21 col16\" >253</td>\n",
              "                        <td id=\"T_b9598cde_0c51_11eb_a69e_0242ac1c0002row21_col17\" class=\"data row21 col17\" >233</td>\n",
              "                        <td id=\"T_b9598cde_0c51_11eb_a69e_0242ac1c0002row21_col18\" class=\"data row21 col18\" >53</td>\n",
              "                        <td id=\"T_b9598cde_0c51_11eb_a69e_0242ac1c0002row21_col19\" class=\"data row21 col19\" >0</td>\n",
              "                        <td id=\"T_b9598cde_0c51_11eb_a69e_0242ac1c0002row21_col20\" class=\"data row21 col20\" >0</td>\n",
              "                        <td id=\"T_b9598cde_0c51_11eb_a69e_0242ac1c0002row21_col21\" class=\"data row21 col21\" >0</td>\n",
              "                        <td id=\"T_b9598cde_0c51_11eb_a69e_0242ac1c0002row21_col22\" class=\"data row21 col22\" >0</td>\n",
              "                        <td id=\"T_b9598cde_0c51_11eb_a69e_0242ac1c0002row21_col23\" class=\"data row21 col23\" >0</td>\n",
              "                        <td id=\"T_b9598cde_0c51_11eb_a69e_0242ac1c0002row21_col24\" class=\"data row21 col24\" >0</td>\n",
              "                        <td id=\"T_b9598cde_0c51_11eb_a69e_0242ac1c0002row21_col25\" class=\"data row21 col25\" >0</td>\n",
              "                        <td id=\"T_b9598cde_0c51_11eb_a69e_0242ac1c0002row21_col26\" class=\"data row21 col26\" >0</td>\n",
              "                        <td id=\"T_b9598cde_0c51_11eb_a69e_0242ac1c0002row21_col27\" class=\"data row21 col27\" >0</td>\n",
              "            </tr>\n",
              "            <tr>\n",
              "                        <th id=\"T_b9598cde_0c51_11eb_a69e_0242ac1c0002level0_row22\" class=\"row_heading level0 row22\" >22</th>\n",
              "                        <td id=\"T_b9598cde_0c51_11eb_a69e_0242ac1c0002row22_col0\" class=\"data row22 col0\" >0</td>\n",
              "                        <td id=\"T_b9598cde_0c51_11eb_a69e_0242ac1c0002row22_col1\" class=\"data row22 col1\" >0</td>\n",
              "                        <td id=\"T_b9598cde_0c51_11eb_a69e_0242ac1c0002row22_col2\" class=\"data row22 col2\" >0</td>\n",
              "                        <td id=\"T_b9598cde_0c51_11eb_a69e_0242ac1c0002row22_col3\" class=\"data row22 col3\" >0</td>\n",
              "                        <td id=\"T_b9598cde_0c51_11eb_a69e_0242ac1c0002row22_col4\" class=\"data row22 col4\" >0</td>\n",
              "                        <td id=\"T_b9598cde_0c51_11eb_a69e_0242ac1c0002row22_col5\" class=\"data row22 col5\" >0</td>\n",
              "                        <td id=\"T_b9598cde_0c51_11eb_a69e_0242ac1c0002row22_col6\" class=\"data row22 col6\" >42</td>\n",
              "                        <td id=\"T_b9598cde_0c51_11eb_a69e_0242ac1c0002row22_col7\" class=\"data row22 col7\" >115</td>\n",
              "                        <td id=\"T_b9598cde_0c51_11eb_a69e_0242ac1c0002row22_col8\" class=\"data row22 col8\" >42</td>\n",
              "                        <td id=\"T_b9598cde_0c51_11eb_a69e_0242ac1c0002row22_col9\" class=\"data row22 col9\" >60</td>\n",
              "                        <td id=\"T_b9598cde_0c51_11eb_a69e_0242ac1c0002row22_col10\" class=\"data row22 col10\" >115</td>\n",
              "                        <td id=\"T_b9598cde_0c51_11eb_a69e_0242ac1c0002row22_col11\" class=\"data row22 col11\" >159</td>\n",
              "                        <td id=\"T_b9598cde_0c51_11eb_a69e_0242ac1c0002row22_col12\" class=\"data row22 col12\" >240</td>\n",
              "                        <td id=\"T_b9598cde_0c51_11eb_a69e_0242ac1c0002row22_col13\" class=\"data row22 col13\" >253</td>\n",
              "                        <td id=\"T_b9598cde_0c51_11eb_a69e_0242ac1c0002row22_col14\" class=\"data row22 col14\" >253</td>\n",
              "                        <td id=\"T_b9598cde_0c51_11eb_a69e_0242ac1c0002row22_col15\" class=\"data row22 col15\" >250</td>\n",
              "                        <td id=\"T_b9598cde_0c51_11eb_a69e_0242ac1c0002row22_col16\" class=\"data row22 col16\" >175</td>\n",
              "                        <td id=\"T_b9598cde_0c51_11eb_a69e_0242ac1c0002row22_col17\" class=\"data row22 col17\" >25</td>\n",
              "                        <td id=\"T_b9598cde_0c51_11eb_a69e_0242ac1c0002row22_col18\" class=\"data row22 col18\" >0</td>\n",
              "                        <td id=\"T_b9598cde_0c51_11eb_a69e_0242ac1c0002row22_col19\" class=\"data row22 col19\" >0</td>\n",
              "                        <td id=\"T_b9598cde_0c51_11eb_a69e_0242ac1c0002row22_col20\" class=\"data row22 col20\" >0</td>\n",
              "                        <td id=\"T_b9598cde_0c51_11eb_a69e_0242ac1c0002row22_col21\" class=\"data row22 col21\" >0</td>\n",
              "                        <td id=\"T_b9598cde_0c51_11eb_a69e_0242ac1c0002row22_col22\" class=\"data row22 col22\" >0</td>\n",
              "                        <td id=\"T_b9598cde_0c51_11eb_a69e_0242ac1c0002row22_col23\" class=\"data row22 col23\" >0</td>\n",
              "                        <td id=\"T_b9598cde_0c51_11eb_a69e_0242ac1c0002row22_col24\" class=\"data row22 col24\" >0</td>\n",
              "                        <td id=\"T_b9598cde_0c51_11eb_a69e_0242ac1c0002row22_col25\" class=\"data row22 col25\" >0</td>\n",
              "                        <td id=\"T_b9598cde_0c51_11eb_a69e_0242ac1c0002row22_col26\" class=\"data row22 col26\" >0</td>\n",
              "                        <td id=\"T_b9598cde_0c51_11eb_a69e_0242ac1c0002row22_col27\" class=\"data row22 col27\" >0</td>\n",
              "            </tr>\n",
              "            <tr>\n",
              "                        <th id=\"T_b9598cde_0c51_11eb_a69e_0242ac1c0002level0_row23\" class=\"row_heading level0 row23\" >23</th>\n",
              "                        <td id=\"T_b9598cde_0c51_11eb_a69e_0242ac1c0002row23_col0\" class=\"data row23 col0\" >0</td>\n",
              "                        <td id=\"T_b9598cde_0c51_11eb_a69e_0242ac1c0002row23_col1\" class=\"data row23 col1\" >0</td>\n",
              "                        <td id=\"T_b9598cde_0c51_11eb_a69e_0242ac1c0002row23_col2\" class=\"data row23 col2\" >0</td>\n",
              "                        <td id=\"T_b9598cde_0c51_11eb_a69e_0242ac1c0002row23_col3\" class=\"data row23 col3\" >0</td>\n",
              "                        <td id=\"T_b9598cde_0c51_11eb_a69e_0242ac1c0002row23_col4\" class=\"data row23 col4\" >0</td>\n",
              "                        <td id=\"T_b9598cde_0c51_11eb_a69e_0242ac1c0002row23_col5\" class=\"data row23 col5\" >0</td>\n",
              "                        <td id=\"T_b9598cde_0c51_11eb_a69e_0242ac1c0002row23_col6\" class=\"data row23 col6\" >187</td>\n",
              "                        <td id=\"T_b9598cde_0c51_11eb_a69e_0242ac1c0002row23_col7\" class=\"data row23 col7\" >253</td>\n",
              "                        <td id=\"T_b9598cde_0c51_11eb_a69e_0242ac1c0002row23_col8\" class=\"data row23 col8\" >253</td>\n",
              "                        <td id=\"T_b9598cde_0c51_11eb_a69e_0242ac1c0002row23_col9\" class=\"data row23 col9\" >253</td>\n",
              "                        <td id=\"T_b9598cde_0c51_11eb_a69e_0242ac1c0002row23_col10\" class=\"data row23 col10\" >253</td>\n",
              "                        <td id=\"T_b9598cde_0c51_11eb_a69e_0242ac1c0002row23_col11\" class=\"data row23 col11\" >253</td>\n",
              "                        <td id=\"T_b9598cde_0c51_11eb_a69e_0242ac1c0002row23_col12\" class=\"data row23 col12\" >253</td>\n",
              "                        <td id=\"T_b9598cde_0c51_11eb_a69e_0242ac1c0002row23_col13\" class=\"data row23 col13\" >253</td>\n",
              "                        <td id=\"T_b9598cde_0c51_11eb_a69e_0242ac1c0002row23_col14\" class=\"data row23 col14\" >197</td>\n",
              "                        <td id=\"T_b9598cde_0c51_11eb_a69e_0242ac1c0002row23_col15\" class=\"data row23 col15\" >86</td>\n",
              "                        <td id=\"T_b9598cde_0c51_11eb_a69e_0242ac1c0002row23_col16\" class=\"data row23 col16\" >0</td>\n",
              "                        <td id=\"T_b9598cde_0c51_11eb_a69e_0242ac1c0002row23_col17\" class=\"data row23 col17\" >0</td>\n",
              "                        <td id=\"T_b9598cde_0c51_11eb_a69e_0242ac1c0002row23_col18\" class=\"data row23 col18\" >0</td>\n",
              "                        <td id=\"T_b9598cde_0c51_11eb_a69e_0242ac1c0002row23_col19\" class=\"data row23 col19\" >0</td>\n",
              "                        <td id=\"T_b9598cde_0c51_11eb_a69e_0242ac1c0002row23_col20\" class=\"data row23 col20\" >0</td>\n",
              "                        <td id=\"T_b9598cde_0c51_11eb_a69e_0242ac1c0002row23_col21\" class=\"data row23 col21\" >0</td>\n",
              "                        <td id=\"T_b9598cde_0c51_11eb_a69e_0242ac1c0002row23_col22\" class=\"data row23 col22\" >0</td>\n",
              "                        <td id=\"T_b9598cde_0c51_11eb_a69e_0242ac1c0002row23_col23\" class=\"data row23 col23\" >0</td>\n",
              "                        <td id=\"T_b9598cde_0c51_11eb_a69e_0242ac1c0002row23_col24\" class=\"data row23 col24\" >0</td>\n",
              "                        <td id=\"T_b9598cde_0c51_11eb_a69e_0242ac1c0002row23_col25\" class=\"data row23 col25\" >0</td>\n",
              "                        <td id=\"T_b9598cde_0c51_11eb_a69e_0242ac1c0002row23_col26\" class=\"data row23 col26\" >0</td>\n",
              "                        <td id=\"T_b9598cde_0c51_11eb_a69e_0242ac1c0002row23_col27\" class=\"data row23 col27\" >0</td>\n",
              "            </tr>\n",
              "            <tr>\n",
              "                        <th id=\"T_b9598cde_0c51_11eb_a69e_0242ac1c0002level0_row24\" class=\"row_heading level0 row24\" >24</th>\n",
              "                        <td id=\"T_b9598cde_0c51_11eb_a69e_0242ac1c0002row24_col0\" class=\"data row24 col0\" >0</td>\n",
              "                        <td id=\"T_b9598cde_0c51_11eb_a69e_0242ac1c0002row24_col1\" class=\"data row24 col1\" >0</td>\n",
              "                        <td id=\"T_b9598cde_0c51_11eb_a69e_0242ac1c0002row24_col2\" class=\"data row24 col2\" >0</td>\n",
              "                        <td id=\"T_b9598cde_0c51_11eb_a69e_0242ac1c0002row24_col3\" class=\"data row24 col3\" >0</td>\n",
              "                        <td id=\"T_b9598cde_0c51_11eb_a69e_0242ac1c0002row24_col4\" class=\"data row24 col4\" >0</td>\n",
              "                        <td id=\"T_b9598cde_0c51_11eb_a69e_0242ac1c0002row24_col5\" class=\"data row24 col5\" >0</td>\n",
              "                        <td id=\"T_b9598cde_0c51_11eb_a69e_0242ac1c0002row24_col6\" class=\"data row24 col6\" >103</td>\n",
              "                        <td id=\"T_b9598cde_0c51_11eb_a69e_0242ac1c0002row24_col7\" class=\"data row24 col7\" >253</td>\n",
              "                        <td id=\"T_b9598cde_0c51_11eb_a69e_0242ac1c0002row24_col8\" class=\"data row24 col8\" >253</td>\n",
              "                        <td id=\"T_b9598cde_0c51_11eb_a69e_0242ac1c0002row24_col9\" class=\"data row24 col9\" >253</td>\n",
              "                        <td id=\"T_b9598cde_0c51_11eb_a69e_0242ac1c0002row24_col10\" class=\"data row24 col10\" >253</td>\n",
              "                        <td id=\"T_b9598cde_0c51_11eb_a69e_0242ac1c0002row24_col11\" class=\"data row24 col11\" >253</td>\n",
              "                        <td id=\"T_b9598cde_0c51_11eb_a69e_0242ac1c0002row24_col12\" class=\"data row24 col12\" >232</td>\n",
              "                        <td id=\"T_b9598cde_0c51_11eb_a69e_0242ac1c0002row24_col13\" class=\"data row24 col13\" >67</td>\n",
              "                        <td id=\"T_b9598cde_0c51_11eb_a69e_0242ac1c0002row24_col14\" class=\"data row24 col14\" >1</td>\n",
              "                        <td id=\"T_b9598cde_0c51_11eb_a69e_0242ac1c0002row24_col15\" class=\"data row24 col15\" >0</td>\n",
              "                        <td id=\"T_b9598cde_0c51_11eb_a69e_0242ac1c0002row24_col16\" class=\"data row24 col16\" >0</td>\n",
              "                        <td id=\"T_b9598cde_0c51_11eb_a69e_0242ac1c0002row24_col17\" class=\"data row24 col17\" >0</td>\n",
              "                        <td id=\"T_b9598cde_0c51_11eb_a69e_0242ac1c0002row24_col18\" class=\"data row24 col18\" >0</td>\n",
              "                        <td id=\"T_b9598cde_0c51_11eb_a69e_0242ac1c0002row24_col19\" class=\"data row24 col19\" >0</td>\n",
              "                        <td id=\"T_b9598cde_0c51_11eb_a69e_0242ac1c0002row24_col20\" class=\"data row24 col20\" >0</td>\n",
              "                        <td id=\"T_b9598cde_0c51_11eb_a69e_0242ac1c0002row24_col21\" class=\"data row24 col21\" >0</td>\n",
              "                        <td id=\"T_b9598cde_0c51_11eb_a69e_0242ac1c0002row24_col22\" class=\"data row24 col22\" >0</td>\n",
              "                        <td id=\"T_b9598cde_0c51_11eb_a69e_0242ac1c0002row24_col23\" class=\"data row24 col23\" >0</td>\n",
              "                        <td id=\"T_b9598cde_0c51_11eb_a69e_0242ac1c0002row24_col24\" class=\"data row24 col24\" >0</td>\n",
              "                        <td id=\"T_b9598cde_0c51_11eb_a69e_0242ac1c0002row24_col25\" class=\"data row24 col25\" >0</td>\n",
              "                        <td id=\"T_b9598cde_0c51_11eb_a69e_0242ac1c0002row24_col26\" class=\"data row24 col26\" >0</td>\n",
              "                        <td id=\"T_b9598cde_0c51_11eb_a69e_0242ac1c0002row24_col27\" class=\"data row24 col27\" >0</td>\n",
              "            </tr>\n",
              "            <tr>\n",
              "                        <th id=\"T_b9598cde_0c51_11eb_a69e_0242ac1c0002level0_row25\" class=\"row_heading level0 row25\" >25</th>\n",
              "                        <td id=\"T_b9598cde_0c51_11eb_a69e_0242ac1c0002row25_col0\" class=\"data row25 col0\" >0</td>\n",
              "                        <td id=\"T_b9598cde_0c51_11eb_a69e_0242ac1c0002row25_col1\" class=\"data row25 col1\" >0</td>\n",
              "                        <td id=\"T_b9598cde_0c51_11eb_a69e_0242ac1c0002row25_col2\" class=\"data row25 col2\" >0</td>\n",
              "                        <td id=\"T_b9598cde_0c51_11eb_a69e_0242ac1c0002row25_col3\" class=\"data row25 col3\" >0</td>\n",
              "                        <td id=\"T_b9598cde_0c51_11eb_a69e_0242ac1c0002row25_col4\" class=\"data row25 col4\" >0</td>\n",
              "                        <td id=\"T_b9598cde_0c51_11eb_a69e_0242ac1c0002row25_col5\" class=\"data row25 col5\" >0</td>\n",
              "                        <td id=\"T_b9598cde_0c51_11eb_a69e_0242ac1c0002row25_col6\" class=\"data row25 col6\" >0</td>\n",
              "                        <td id=\"T_b9598cde_0c51_11eb_a69e_0242ac1c0002row25_col7\" class=\"data row25 col7\" >0</td>\n",
              "                        <td id=\"T_b9598cde_0c51_11eb_a69e_0242ac1c0002row25_col8\" class=\"data row25 col8\" >0</td>\n",
              "                        <td id=\"T_b9598cde_0c51_11eb_a69e_0242ac1c0002row25_col9\" class=\"data row25 col9\" >0</td>\n",
              "                        <td id=\"T_b9598cde_0c51_11eb_a69e_0242ac1c0002row25_col10\" class=\"data row25 col10\" >0</td>\n",
              "                        <td id=\"T_b9598cde_0c51_11eb_a69e_0242ac1c0002row25_col11\" class=\"data row25 col11\" >0</td>\n",
              "                        <td id=\"T_b9598cde_0c51_11eb_a69e_0242ac1c0002row25_col12\" class=\"data row25 col12\" >0</td>\n",
              "                        <td id=\"T_b9598cde_0c51_11eb_a69e_0242ac1c0002row25_col13\" class=\"data row25 col13\" >0</td>\n",
              "                        <td id=\"T_b9598cde_0c51_11eb_a69e_0242ac1c0002row25_col14\" class=\"data row25 col14\" >0</td>\n",
              "                        <td id=\"T_b9598cde_0c51_11eb_a69e_0242ac1c0002row25_col15\" class=\"data row25 col15\" >0</td>\n",
              "                        <td id=\"T_b9598cde_0c51_11eb_a69e_0242ac1c0002row25_col16\" class=\"data row25 col16\" >0</td>\n",
              "                        <td id=\"T_b9598cde_0c51_11eb_a69e_0242ac1c0002row25_col17\" class=\"data row25 col17\" >0</td>\n",
              "                        <td id=\"T_b9598cde_0c51_11eb_a69e_0242ac1c0002row25_col18\" class=\"data row25 col18\" >0</td>\n",
              "                        <td id=\"T_b9598cde_0c51_11eb_a69e_0242ac1c0002row25_col19\" class=\"data row25 col19\" >0</td>\n",
              "                        <td id=\"T_b9598cde_0c51_11eb_a69e_0242ac1c0002row25_col20\" class=\"data row25 col20\" >0</td>\n",
              "                        <td id=\"T_b9598cde_0c51_11eb_a69e_0242ac1c0002row25_col21\" class=\"data row25 col21\" >0</td>\n",
              "                        <td id=\"T_b9598cde_0c51_11eb_a69e_0242ac1c0002row25_col22\" class=\"data row25 col22\" >0</td>\n",
              "                        <td id=\"T_b9598cde_0c51_11eb_a69e_0242ac1c0002row25_col23\" class=\"data row25 col23\" >0</td>\n",
              "                        <td id=\"T_b9598cde_0c51_11eb_a69e_0242ac1c0002row25_col24\" class=\"data row25 col24\" >0</td>\n",
              "                        <td id=\"T_b9598cde_0c51_11eb_a69e_0242ac1c0002row25_col25\" class=\"data row25 col25\" >0</td>\n",
              "                        <td id=\"T_b9598cde_0c51_11eb_a69e_0242ac1c0002row25_col26\" class=\"data row25 col26\" >0</td>\n",
              "                        <td id=\"T_b9598cde_0c51_11eb_a69e_0242ac1c0002row25_col27\" class=\"data row25 col27\" >0</td>\n",
              "            </tr>\n",
              "            <tr>\n",
              "                        <th id=\"T_b9598cde_0c51_11eb_a69e_0242ac1c0002level0_row26\" class=\"row_heading level0 row26\" >26</th>\n",
              "                        <td id=\"T_b9598cde_0c51_11eb_a69e_0242ac1c0002row26_col0\" class=\"data row26 col0\" >0</td>\n",
              "                        <td id=\"T_b9598cde_0c51_11eb_a69e_0242ac1c0002row26_col1\" class=\"data row26 col1\" >0</td>\n",
              "                        <td id=\"T_b9598cde_0c51_11eb_a69e_0242ac1c0002row26_col2\" class=\"data row26 col2\" >0</td>\n",
              "                        <td id=\"T_b9598cde_0c51_11eb_a69e_0242ac1c0002row26_col3\" class=\"data row26 col3\" >0</td>\n",
              "                        <td id=\"T_b9598cde_0c51_11eb_a69e_0242ac1c0002row26_col4\" class=\"data row26 col4\" >0</td>\n",
              "                        <td id=\"T_b9598cde_0c51_11eb_a69e_0242ac1c0002row26_col5\" class=\"data row26 col5\" >0</td>\n",
              "                        <td id=\"T_b9598cde_0c51_11eb_a69e_0242ac1c0002row26_col6\" class=\"data row26 col6\" >0</td>\n",
              "                        <td id=\"T_b9598cde_0c51_11eb_a69e_0242ac1c0002row26_col7\" class=\"data row26 col7\" >0</td>\n",
              "                        <td id=\"T_b9598cde_0c51_11eb_a69e_0242ac1c0002row26_col8\" class=\"data row26 col8\" >0</td>\n",
              "                        <td id=\"T_b9598cde_0c51_11eb_a69e_0242ac1c0002row26_col9\" class=\"data row26 col9\" >0</td>\n",
              "                        <td id=\"T_b9598cde_0c51_11eb_a69e_0242ac1c0002row26_col10\" class=\"data row26 col10\" >0</td>\n",
              "                        <td id=\"T_b9598cde_0c51_11eb_a69e_0242ac1c0002row26_col11\" class=\"data row26 col11\" >0</td>\n",
              "                        <td id=\"T_b9598cde_0c51_11eb_a69e_0242ac1c0002row26_col12\" class=\"data row26 col12\" >0</td>\n",
              "                        <td id=\"T_b9598cde_0c51_11eb_a69e_0242ac1c0002row26_col13\" class=\"data row26 col13\" >0</td>\n",
              "                        <td id=\"T_b9598cde_0c51_11eb_a69e_0242ac1c0002row26_col14\" class=\"data row26 col14\" >0</td>\n",
              "                        <td id=\"T_b9598cde_0c51_11eb_a69e_0242ac1c0002row26_col15\" class=\"data row26 col15\" >0</td>\n",
              "                        <td id=\"T_b9598cde_0c51_11eb_a69e_0242ac1c0002row26_col16\" class=\"data row26 col16\" >0</td>\n",
              "                        <td id=\"T_b9598cde_0c51_11eb_a69e_0242ac1c0002row26_col17\" class=\"data row26 col17\" >0</td>\n",
              "                        <td id=\"T_b9598cde_0c51_11eb_a69e_0242ac1c0002row26_col18\" class=\"data row26 col18\" >0</td>\n",
              "                        <td id=\"T_b9598cde_0c51_11eb_a69e_0242ac1c0002row26_col19\" class=\"data row26 col19\" >0</td>\n",
              "                        <td id=\"T_b9598cde_0c51_11eb_a69e_0242ac1c0002row26_col20\" class=\"data row26 col20\" >0</td>\n",
              "                        <td id=\"T_b9598cde_0c51_11eb_a69e_0242ac1c0002row26_col21\" class=\"data row26 col21\" >0</td>\n",
              "                        <td id=\"T_b9598cde_0c51_11eb_a69e_0242ac1c0002row26_col22\" class=\"data row26 col22\" >0</td>\n",
              "                        <td id=\"T_b9598cde_0c51_11eb_a69e_0242ac1c0002row26_col23\" class=\"data row26 col23\" >0</td>\n",
              "                        <td id=\"T_b9598cde_0c51_11eb_a69e_0242ac1c0002row26_col24\" class=\"data row26 col24\" >0</td>\n",
              "                        <td id=\"T_b9598cde_0c51_11eb_a69e_0242ac1c0002row26_col25\" class=\"data row26 col25\" >0</td>\n",
              "                        <td id=\"T_b9598cde_0c51_11eb_a69e_0242ac1c0002row26_col26\" class=\"data row26 col26\" >0</td>\n",
              "                        <td id=\"T_b9598cde_0c51_11eb_a69e_0242ac1c0002row26_col27\" class=\"data row26 col27\" >0</td>\n",
              "            </tr>\n",
              "            <tr>\n",
              "                        <th id=\"T_b9598cde_0c51_11eb_a69e_0242ac1c0002level0_row27\" class=\"row_heading level0 row27\" >27</th>\n",
              "                        <td id=\"T_b9598cde_0c51_11eb_a69e_0242ac1c0002row27_col0\" class=\"data row27 col0\" >0</td>\n",
              "                        <td id=\"T_b9598cde_0c51_11eb_a69e_0242ac1c0002row27_col1\" class=\"data row27 col1\" >0</td>\n",
              "                        <td id=\"T_b9598cde_0c51_11eb_a69e_0242ac1c0002row27_col2\" class=\"data row27 col2\" >0</td>\n",
              "                        <td id=\"T_b9598cde_0c51_11eb_a69e_0242ac1c0002row27_col3\" class=\"data row27 col3\" >0</td>\n",
              "                        <td id=\"T_b9598cde_0c51_11eb_a69e_0242ac1c0002row27_col4\" class=\"data row27 col4\" >0</td>\n",
              "                        <td id=\"T_b9598cde_0c51_11eb_a69e_0242ac1c0002row27_col5\" class=\"data row27 col5\" >0</td>\n",
              "                        <td id=\"T_b9598cde_0c51_11eb_a69e_0242ac1c0002row27_col6\" class=\"data row27 col6\" >0</td>\n",
              "                        <td id=\"T_b9598cde_0c51_11eb_a69e_0242ac1c0002row27_col7\" class=\"data row27 col7\" >0</td>\n",
              "                        <td id=\"T_b9598cde_0c51_11eb_a69e_0242ac1c0002row27_col8\" class=\"data row27 col8\" >0</td>\n",
              "                        <td id=\"T_b9598cde_0c51_11eb_a69e_0242ac1c0002row27_col9\" class=\"data row27 col9\" >0</td>\n",
              "                        <td id=\"T_b9598cde_0c51_11eb_a69e_0242ac1c0002row27_col10\" class=\"data row27 col10\" >0</td>\n",
              "                        <td id=\"T_b9598cde_0c51_11eb_a69e_0242ac1c0002row27_col11\" class=\"data row27 col11\" >0</td>\n",
              "                        <td id=\"T_b9598cde_0c51_11eb_a69e_0242ac1c0002row27_col12\" class=\"data row27 col12\" >0</td>\n",
              "                        <td id=\"T_b9598cde_0c51_11eb_a69e_0242ac1c0002row27_col13\" class=\"data row27 col13\" >0</td>\n",
              "                        <td id=\"T_b9598cde_0c51_11eb_a69e_0242ac1c0002row27_col14\" class=\"data row27 col14\" >0</td>\n",
              "                        <td id=\"T_b9598cde_0c51_11eb_a69e_0242ac1c0002row27_col15\" class=\"data row27 col15\" >0</td>\n",
              "                        <td id=\"T_b9598cde_0c51_11eb_a69e_0242ac1c0002row27_col16\" class=\"data row27 col16\" >0</td>\n",
              "                        <td id=\"T_b9598cde_0c51_11eb_a69e_0242ac1c0002row27_col17\" class=\"data row27 col17\" >0</td>\n",
              "                        <td id=\"T_b9598cde_0c51_11eb_a69e_0242ac1c0002row27_col18\" class=\"data row27 col18\" >0</td>\n",
              "                        <td id=\"T_b9598cde_0c51_11eb_a69e_0242ac1c0002row27_col19\" class=\"data row27 col19\" >0</td>\n",
              "                        <td id=\"T_b9598cde_0c51_11eb_a69e_0242ac1c0002row27_col20\" class=\"data row27 col20\" >0</td>\n",
              "                        <td id=\"T_b9598cde_0c51_11eb_a69e_0242ac1c0002row27_col21\" class=\"data row27 col21\" >0</td>\n",
              "                        <td id=\"T_b9598cde_0c51_11eb_a69e_0242ac1c0002row27_col22\" class=\"data row27 col22\" >0</td>\n",
              "                        <td id=\"T_b9598cde_0c51_11eb_a69e_0242ac1c0002row27_col23\" class=\"data row27 col23\" >0</td>\n",
              "                        <td id=\"T_b9598cde_0c51_11eb_a69e_0242ac1c0002row27_col24\" class=\"data row27 col24\" >0</td>\n",
              "                        <td id=\"T_b9598cde_0c51_11eb_a69e_0242ac1c0002row27_col25\" class=\"data row27 col25\" >0</td>\n",
              "                        <td id=\"T_b9598cde_0c51_11eb_a69e_0242ac1c0002row27_col26\" class=\"data row27 col26\" >0</td>\n",
              "                        <td id=\"T_b9598cde_0c51_11eb_a69e_0242ac1c0002row27_col27\" class=\"data row27 col27\" >0</td>\n",
              "            </tr>\n",
              "    </tbody></table>"
            ],
            "text/plain": [
              "<pandas.io.formats.style.Styler at 0x7fea610c2438>"
            ]
          },
          "metadata": {
            "tags": []
          },
          "execution_count": 49
        }
      ]
    },
    {
      "cell_type": "code",
      "metadata": {
        "id": "X53jkDf1d08_"
      },
      "source": [
        "seven_tensors = [tensor(Image.open(o)) for o in sevens]\n",
        "three_tensors = [tensor(Image.open(o)) for o in threes]"
      ],
      "execution_count": null,
      "outputs": []
    },
    {
      "cell_type": "code",
      "metadata": {
        "id": "wfNOc2TdiLWN"
      },
      "source": [
        "show_image(three_tensors[1])"
      ],
      "execution_count": null,
      "outputs": []
    },
    {
      "cell_type": "code",
      "metadata": {
        "id": "oP5AWYuojwal"
      },
      "source": [
        "stacked_sevens = torch.stack(seven_tensors).float()/255\n",
        "stacked_threes = torch.stack(three_tensors).float()/255"
      ],
      "execution_count": null,
      "outputs": []
    },
    {
      "cell_type": "code",
      "metadata": {
        "id": "9B2IKT1ootFH"
      },
      "source": [
        "stacked_threes.shape"
      ],
      "execution_count": null,
      "outputs": []
    },
    {
      "cell_type": "code",
      "metadata": {
        "id": "wVaEmlEipycS"
      },
      "source": [
        "stacked_threes.ndim"
      ],
      "execution_count": null,
      "outputs": []
    },
    {
      "cell_type": "code",
      "metadata": {
        "id": "Iv1p_RGesqT9"
      },
      "source": [
        "mean3 = stacked_threes.mean(0) #dimension along 6131\n",
        "show_image(mean3);"
      ],
      "execution_count": null,
      "outputs": []
    },
    {
      "cell_type": "code",
      "metadata": {
        "id": "dMZ7w8hcu-44"
      },
      "source": [
        "mean7 = stacked_sevens.mean(0)\n",
        "show_image(mean7)"
      ],
      "execution_count": null,
      "outputs": []
    },
    {
      "cell_type": "code",
      "metadata": {
        "id": "MSwW3oogvlfk"
      },
      "source": [
        "a_3 = stacked_threes[1]\n",
        "show_image(a_3)\n",
        "a_7 = stacked_sevens[1]\n",
        "show_image(a_7)"
      ],
      "execution_count": null,
      "outputs": []
    },
    {
      "cell_type": "code",
      "metadata": {
        "id": "Eic73ejl1aH9"
      },
      "source": [
        "dist_3_abs = (a_3 - mean3).abs().mean()\n",
        "dist_3_sqr = ((a_3 - mean3)**2).mean().sqrt()\n",
        "dist_3_abs, dist_3_sqr"
      ],
      "execution_count": null,
      "outputs": []
    },
    {
      "cell_type": "code",
      "metadata": {
        "id": "eFLCkDnz1kdS"
      },
      "source": [
        "dist_7_abs = (a_7 - mean7).abs().mean()\n",
        "dist_7_sqr = ((a_7 - mean7)**2).mean().sqrt()\n",
        "dist_7_abs, dist_7_sqr"
      ],
      "execution_count": null,
      "outputs": []
    },
    {
      "cell_type": "code",
      "metadata": {
        "id": "e_XH_gVW2gCJ"
      },
      "source": [
        "#Let's create tensors of validation set\n",
        "valid_3_tens = torch.stack([tensor(Image.open(o)) for o in (path/'valid'/'3').ls()])\n",
        "valid_3_tens = valid_3_tens.float()/255\n",
        "\n",
        "valid_7_tens = torch.stack([tensor(Image.open(o)) for o in (path/'valid'/'7').ls()])\n",
        "valid_7_tens = valid_7_tens.float()/255\n",
        "\n",
        "valid_3_tens.shape, valid_7_tens.shape"
      ],
      "execution_count": null,
      "outputs": []
    },
    {
      "cell_type": "code",
      "metadata": {
        "id": "jKxgzsWtGQ1y",
        "outputId": "f3ff21a7-cd0c-4f46-8cf4-cb1fd60f5b02",
        "colab": {
          "base_uri": "https://localhost:8080/",
          "height": 34
        }
      },
      "source": [
        "#function to calculate mean absolute distance between two images\n",
        "def mnist_distance(a, b) : return (a-b).abs().mean((-1, -2))\n",
        "mnist_distance(a_3, mean3)\n",
        "mnist_distance(valid_3_tens[0], mean3)\n"
      ],
      "execution_count": 39,
      "outputs": [
        {
          "output_type": "execute_result",
          "data": {
            "text/plain": [
              "tensor(0.1222)"
            ]
          },
          "metadata": {
            "tags": []
          },
          "execution_count": 39
        }
      ]
    },
    {
      "cell_type": "code",
      "metadata": {
        "id": "aC9kFvQwTBVd",
        "outputId": "058047ca-8021-4a52-95af-d6ebb1880433",
        "colab": {
          "base_uri": "https://localhost:8080/",
          "height": 52
        }
      },
      "source": [
        "# To calculate mean absolute distance or l1 for all images\n",
        "valid_3_dist = mnist_distance(valid_3_tens, mean3)\n",
        "# Here mean3 is broadcastd to rank 3 tensor and then subtracted. As we have provide mean((-1, 2)), only last 2 rows are considered for mean\n",
        "valid_3_dist, valid_3_dist.shape"
      ],
      "execution_count": 40,
      "outputs": [
        {
          "output_type": "execute_result",
          "data": {
            "text/plain": [
              "(tensor([0.1222, 0.1423, 0.1190,  ..., 0.1312, 0.1333, 0.1423]),\n",
              " torch.Size([1010]))"
            ]
          },
          "metadata": {
            "tags": []
          },
          "execution_count": 40
        }
      ]
    },
    {
      "cell_type": "code",
      "metadata": {
        "id": "jc205Db6Tytc",
        "outputId": "053a1c09-3c37-4bc9-c36d-68d83247edf5",
        "colab": {
          "base_uri": "https://localhost:8080/",
          "height": 34
        }
      },
      "source": [
        "def is_3(x) : return mnist_distance(x, mean3) < mnist_distance(x, mean7)\n",
        "is_3(a_3)"
      ],
      "execution_count": 43,
      "outputs": [
        {
          "output_type": "execute_result",
          "data": {
            "text/plain": [
              "tensor(True)"
            ]
          },
          "metadata": {
            "tags": []
          },
          "execution_count": 43
        }
      ]
    },
    {
      "cell_type": "code",
      "metadata": {
        "id": "tYxPwDIGYp9A",
        "outputId": "882f6763-26a3-4903-abec-eb7fd98f5214",
        "colab": {
          "base_uri": "https://localhost:8080/",
          "height": 34
        }
      },
      "source": [
        "# Accuracies\n",
        "accuracy_3s = is_3(valid_3_tens).float().mean()\n",
        "accuracy_7s = (1 - is_3(valid_7_tens).float()).mean()\n",
        "accuracy_3s, accuracy_7s"
      ],
      "execution_count": 47,
      "outputs": [
        {
          "output_type": "execute_result",
          "data": {
            "text/plain": [
              "(tensor(0.9168), tensor(0.9854))"
            ]
          },
          "metadata": {
            "tags": []
          },
          "execution_count": 47
        }
      ]
    },
    {
      "cell_type": "code",
      "metadata": {
        "id": "UAknE0bibGZh",
        "outputId": "f457171d-d5ef-42b5-86e6-425dd5a0c198",
        "colab": {
          "base_uri": "https://localhost:8080/",
          "height": 34
        }
      },
      "source": [
        "# Average accuracy\n",
        "(accuracy_3s + accuracy_7s)/2"
      ],
      "execution_count": 48,
      "outputs": [
        {
          "output_type": "execute_result",
          "data": {
            "text/plain": [
              "tensor(0.9511)"
            ]
          },
          "metadata": {
            "tags": []
          },
          "execution_count": 48
        }
      ]
    },
    {
      "cell_type": "code",
      "metadata": {
        "id": "3bIMYj1NbiTO"
      },
      "source": [
        ""
      ],
      "execution_count": null,
      "outputs": []
    }
  ]
}